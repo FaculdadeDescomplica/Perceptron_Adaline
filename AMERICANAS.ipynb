{
  "nbformat": 4,
  "nbformat_minor": 0,
  "metadata": {
    "colab": {
      "provenance": [],
      "authorship_tag": "ABX9TyPwTHU1IAf0DQq3fu3ENhoG",
      "include_colab_link": true
    },
    "kernelspec": {
      "name": "python3",
      "display_name": "Python 3"
    },
    "language_info": {
      "name": "python"
    }
  },
  "cells": [
    {
      "cell_type": "markdown",
      "metadata": {
        "id": "view-in-github",
        "colab_type": "text"
      },
      "source": [
        "<a href=\"https://colab.research.google.com/github/Rafael-Barbosa/Perceptron_Adaline/blob/main/AMERICANAS.ipynb\" target=\"_parent\"><img src=\"https://colab.research.google.com/assets/colab-badge.svg\" alt=\"Open In Colab\"/></a>"
      ]
    },
    {
      "cell_type": "markdown",
      "metadata": {
        "id": "0BgCxaTsUKo0"
      },
      "source": [
        "# Evitando o Overffiting"
      ]
    },
    {
      "cell_type": "code",
      "metadata": {
        "id": "OSp-1Fkol2D4"
      },
      "source": [
        "import numpy as np\n",
        "import matplotlib.pyplot as plt\n",
        "import pandas as pd"
      ],
      "execution_count": null,
      "outputs": []
    },
    {
      "cell_type": "code",
      "metadata": {
        "id": "UaugiF4ul6RO"
      },
      "source": [
        "from keras.models import Sequential\n",
        "from keras.layers import Dense\n",
        "from keras.layers import LSTM\n",
        "from keras.layers import Dropout"
      ],
      "execution_count": null,
      "outputs": []
    },
    {
      "cell_type": "code",
      "metadata": {
        "id": "JLq5TDzvo05S"
      },
      "source": [
        "from sklearn.preprocessing import MinMaxScaler"
      ],
      "execution_count": null,
      "outputs": []
    },
    {
      "cell_type": "markdown",
      "metadata": {
        "id": "7E_KS_xPpDAg"
      },
      "source": [
        "## Importando os dados de Treinamento"
      ]
    },
    {
      "cell_type": "code",
      "source": [
        "import gdown\n",
        "!gdown 1BgAUJFeJ1IW81wCcwQ-Hwk81-ZaIvZmZ\n",
        "!gdown 1MSRZB9MW_1bv9NPwD6cb7o9mUl1XoGJ2"
      ],
      "metadata": {
        "colab": {
          "base_uri": "https://localhost:8080/"
        },
        "id": "MRZ0yL-CPjUB",
        "outputId": "c2576b22-4a16-4138-93cb-a5cb81a532fa"
      },
      "execution_count": null,
      "outputs": [
        {
          "output_type": "stream",
          "name": "stdout",
          "text": [
            "Downloading...\n",
            "From: https://drive.google.com/uc?id=1BgAUJFeJ1IW81wCcwQ-Hwk81-ZaIvZmZ\n",
            "To: /content/AMER3.SA-Treinamento.csv\n",
            "100% 220k/220k [00:00<00:00, 84.4MB/s]\n",
            "Downloading...\n",
            "From: https://drive.google.com/uc?id=1MSRZB9MW_1bv9NPwD6cb7o9mUl1XoGJ2\n",
            "To: /content/AMER3.SA-Teste.csv\n",
            "100% 1.37k/1.37k [00:00<00:00, 2.25MB/s]\n"
          ]
        }
      ]
    },
    {
      "cell_type": "code",
      "source": [],
      "metadata": {
        "id": "py2rHKNlPjeh"
      },
      "execution_count": null,
      "outputs": []
    },
    {
      "cell_type": "code",
      "metadata": {
        "id": "n6uQhFN7pTST"
      },
      "source": [
        "dataset_treino = pd.read_csv('AMER3.SA-Treinamento.csv')\n",
        "dataset_treino = dataset_treino.dropna()\n",
        "treino_set = dataset_treino.iloc[:, 1:2].values"
      ],
      "execution_count": null,
      "outputs": []
    },
    {
      "cell_type": "code",
      "metadata": {
        "colab": {
          "base_uri": "https://localhost:8080/",
          "height": 424
        },
        "id": "PdRdoPT2XpKS",
        "outputId": "81114a99-c007-46e6-f99d-2dacc45738c9"
      },
      "source": [
        "dataset_treino.iloc[:, 1:2]"
      ],
      "execution_count": null,
      "outputs": [
        {
          "output_type": "execute_result",
          "data": {
            "text/plain": [
              "           Open\n",
              "0     41.949505\n",
              "1     41.507931\n",
              "2     40.174377\n",
              "3     40.183212\n",
              "4     41.331303\n",
              "...         ...\n",
              "3220   9.190000\n",
              "3221   9.210000\n",
              "3222   9.380000\n",
              "3223   9.220000\n",
              "3224   9.720000\n",
              "\n",
              "[3225 rows x 1 columns]"
            ],
            "text/html": [
              "\n",
              "  <div id=\"df-9be2585f-f04c-421f-b5e9-999be3e7aff7\">\n",
              "    <div class=\"colab-df-container\">\n",
              "      <div>\n",
              "<style scoped>\n",
              "    .dataframe tbody tr th:only-of-type {\n",
              "        vertical-align: middle;\n",
              "    }\n",
              "\n",
              "    .dataframe tbody tr th {\n",
              "        vertical-align: top;\n",
              "    }\n",
              "\n",
              "    .dataframe thead th {\n",
              "        text-align: right;\n",
              "    }\n",
              "</style>\n",
              "<table border=\"1\" class=\"dataframe\">\n",
              "  <thead>\n",
              "    <tr style=\"text-align: right;\">\n",
              "      <th></th>\n",
              "      <th>Open</th>\n",
              "    </tr>\n",
              "  </thead>\n",
              "  <tbody>\n",
              "    <tr>\n",
              "      <th>0</th>\n",
              "      <td>41.949505</td>\n",
              "    </tr>\n",
              "    <tr>\n",
              "      <th>1</th>\n",
              "      <td>41.507931</td>\n",
              "    </tr>\n",
              "    <tr>\n",
              "      <th>2</th>\n",
              "      <td>40.174377</td>\n",
              "    </tr>\n",
              "    <tr>\n",
              "      <th>3</th>\n",
              "      <td>40.183212</td>\n",
              "    </tr>\n",
              "    <tr>\n",
              "      <th>4</th>\n",
              "      <td>41.331303</td>\n",
              "    </tr>\n",
              "    <tr>\n",
              "      <th>...</th>\n",
              "      <td>...</td>\n",
              "    </tr>\n",
              "    <tr>\n",
              "      <th>3220</th>\n",
              "      <td>9.190000</td>\n",
              "    </tr>\n",
              "    <tr>\n",
              "      <th>3221</th>\n",
              "      <td>9.210000</td>\n",
              "    </tr>\n",
              "    <tr>\n",
              "      <th>3222</th>\n",
              "      <td>9.380000</td>\n",
              "    </tr>\n",
              "    <tr>\n",
              "      <th>3223</th>\n",
              "      <td>9.220000</td>\n",
              "    </tr>\n",
              "    <tr>\n",
              "      <th>3224</th>\n",
              "      <td>9.720000</td>\n",
              "    </tr>\n",
              "  </tbody>\n",
              "</table>\n",
              "<p>3225 rows × 1 columns</p>\n",
              "</div>\n",
              "      <button class=\"colab-df-convert\" onclick=\"convertToInteractive('df-9be2585f-f04c-421f-b5e9-999be3e7aff7')\"\n",
              "              title=\"Convert this dataframe to an interactive table.\"\n",
              "              style=\"display:none;\">\n",
              "        \n",
              "  <svg xmlns=\"http://www.w3.org/2000/svg\" height=\"24px\"viewBox=\"0 0 24 24\"\n",
              "       width=\"24px\">\n",
              "    <path d=\"M0 0h24v24H0V0z\" fill=\"none\"/>\n",
              "    <path d=\"M18.56 5.44l.94 2.06.94-2.06 2.06-.94-2.06-.94-.94-2.06-.94 2.06-2.06.94zm-11 1L8.5 8.5l.94-2.06 2.06-.94-2.06-.94L8.5 2.5l-.94 2.06-2.06.94zm10 10l.94 2.06.94-2.06 2.06-.94-2.06-.94-.94-2.06-.94 2.06-2.06.94z\"/><path d=\"M17.41 7.96l-1.37-1.37c-.4-.4-.92-.59-1.43-.59-.52 0-1.04.2-1.43.59L10.3 9.45l-7.72 7.72c-.78.78-.78 2.05 0 2.83L4 21.41c.39.39.9.59 1.41.59.51 0 1.02-.2 1.41-.59l7.78-7.78 2.81-2.81c.8-.78.8-2.07 0-2.86zM5.41 20L4 18.59l7.72-7.72 1.47 1.35L5.41 20z\"/>\n",
              "  </svg>\n",
              "      </button>\n",
              "      \n",
              "  <style>\n",
              "    .colab-df-container {\n",
              "      display:flex;\n",
              "      flex-wrap:wrap;\n",
              "      gap: 12px;\n",
              "    }\n",
              "\n",
              "    .colab-df-convert {\n",
              "      background-color: #E8F0FE;\n",
              "      border: none;\n",
              "      border-radius: 50%;\n",
              "      cursor: pointer;\n",
              "      display: none;\n",
              "      fill: #1967D2;\n",
              "      height: 32px;\n",
              "      padding: 0 0 0 0;\n",
              "      width: 32px;\n",
              "    }\n",
              "\n",
              "    .colab-df-convert:hover {\n",
              "      background-color: #E2EBFA;\n",
              "      box-shadow: 0px 1px 2px rgba(60, 64, 67, 0.3), 0px 1px 3px 1px rgba(60, 64, 67, 0.15);\n",
              "      fill: #174EA6;\n",
              "    }\n",
              "\n",
              "    [theme=dark] .colab-df-convert {\n",
              "      background-color: #3B4455;\n",
              "      fill: #D2E3FC;\n",
              "    }\n",
              "\n",
              "    [theme=dark] .colab-df-convert:hover {\n",
              "      background-color: #434B5C;\n",
              "      box-shadow: 0px 1px 3px 1px rgba(0, 0, 0, 0.15);\n",
              "      filter: drop-shadow(0px 1px 2px rgba(0, 0, 0, 0.3));\n",
              "      fill: #FFFFFF;\n",
              "    }\n",
              "  </style>\n",
              "\n",
              "      <script>\n",
              "        const buttonEl =\n",
              "          document.querySelector('#df-9be2585f-f04c-421f-b5e9-999be3e7aff7 button.colab-df-convert');\n",
              "        buttonEl.style.display =\n",
              "          google.colab.kernel.accessAllowed ? 'block' : 'none';\n",
              "\n",
              "        async function convertToInteractive(key) {\n",
              "          const element = document.querySelector('#df-9be2585f-f04c-421f-b5e9-999be3e7aff7');\n",
              "          const dataTable =\n",
              "            await google.colab.kernel.invokeFunction('convertToInteractive',\n",
              "                                                     [key], {});\n",
              "          if (!dataTable) return;\n",
              "\n",
              "          const docLinkHtml = 'Like what you see? Visit the ' +\n",
              "            '<a target=\"_blank\" href=https://colab.research.google.com/notebooks/data_table.ipynb>data table notebook</a>'\n",
              "            + ' to learn more about interactive tables.';\n",
              "          element.innerHTML = '';\n",
              "          dataTable['output_type'] = 'display_data';\n",
              "          await google.colab.output.renderOutput(dataTable, element);\n",
              "          const docLink = document.createElement('div');\n",
              "          docLink.innerHTML = docLinkHtml;\n",
              "          element.appendChild(docLink);\n",
              "        }\n",
              "      </script>\n",
              "    </div>\n",
              "  </div>\n",
              "  "
            ]
          },
          "metadata": {},
          "execution_count": 8
        }
      ]
    },
    {
      "cell_type": "markdown",
      "metadata": {
        "id": "nAtKQnn6pB0J"
      },
      "source": [
        "## Dimensionamento dos dados"
      ]
    },
    {
      "cell_type": "code",
      "metadata": {
        "id": "BwNcupnqqP-a"
      },
      "source": [
        "sc = MinMaxScaler(feature_range = (0, 1))\n",
        "treino_set_scaled = sc.fit_transform(treino_set)"
      ],
      "execution_count": null,
      "outputs": []
    },
    {
      "cell_type": "markdown",
      "metadata": {
        "id": "xXJgnbWRqy9C"
      },
      "source": [
        "## Criação de uma estrutura de dados com 20 timesteps e 1 um saída"
      ]
    },
    {
      "cell_type": "code",
      "metadata": {
        "id": "Nwg5EhxuqxgW"
      },
      "source": [
        "X_treino = []\n",
        "y_treino = []\n",
        "for i in range(20, 3225):\n",
        "    X_treino.append(treino_set_scaled[i-20:i, 0])\n",
        "    y_treino.append(treino_set_scaled[i, 0])\n",
        "X_treino, y_treino = np.array(X_treino), np.array(y_treino)"
      ],
      "execution_count": null,
      "outputs": []
    },
    {
      "cell_type": "markdown",
      "metadata": {
        "id": "AlZ7QeWrrTKJ"
      },
      "source": [
        "## Reshaping"
      ]
    },
    {
      "cell_type": "code",
      "metadata": {
        "id": "iM_RPskGrTn3"
      },
      "source": [
        "X_treino = np.reshape(X_treino, (X_treino.shape[0], X_treino.shape[1], 1))"
      ],
      "execution_count": null,
      "outputs": []
    },
    {
      "cell_type": "code",
      "metadata": {
        "colab": {
          "base_uri": "https://localhost:8080/"
        },
        "id": "7ASg5iIZt8ZA",
        "outputId": "7644279c-e52e-405c-e5ed-9ba35e4215ca"
      },
      "source": [
        "X_treino.shape[1], 1"
      ],
      "execution_count": null,
      "outputs": [
        {
          "output_type": "execute_result",
          "data": {
            "text/plain": [
              "(20, 1)"
            ]
          },
          "metadata": {},
          "execution_count": 12
        }
      ]
    },
    {
      "cell_type": "markdown",
      "metadata": {
        "id": "PtyggSsAmGdO"
      },
      "source": [
        "## Inicializa a RNA \n",
        "### Um modelo sequencial é apropriado para um conjunto simples de camadas onde cada camada tem exatamente um tensor de entrada e um tensor de saída."
      ]
    },
    {
      "cell_type": "code",
      "metadata": {
        "id": "98bcM_Dkl_PW"
      },
      "source": [
        "regressor = Sequential()"
      ],
      "execution_count": null,
      "outputs": []
    },
    {
      "cell_type": "markdown",
      "metadata": {
        "id": "T3xZW0UxnESh"
      },
      "source": [
        "## Adicionando a primeira camada LSTM (É uma arquitetura de rede neural recorrente) e alguma regularização de Dropout\n",
        "\n",
        "### O intuito é reduzir o overfitting \n",
        "\n",
        "### Dropout Ele consiste em aleatoriamente descartar algumas unidades (neurônios) durante o treinamento de cada época. Isso significa que cada unidade é mantida com uma certa probabilidade (normalmente 60%) e descartada com uma certa probabilidade (40%) -- Em nosso caso.\n",
        "\n",
        "### A regularização L1, também conhecida como Lasso, adiciona o valor absoluto dos coeficientes do modelo como parte da função de perda a ser otimizada. Isso resulta em uma penalização mais forte dos coeficientes maiores e pode levar à seleção automática de recursos, ou seja, à atribuição de coeficientes próximos a zero a recursos menos importantes.\n",
        "\n",
        "### A regularização L2, também conhecida como Ridge, adiciona o quadrado dos coeficientes do modelo como parte da função de perda a ser otimizada. Isso resulta em uma penalização mais suave dos coeficientes maiores, mas ainda mantém a estabilidade no modelo e previne o overfitting."
      ]
    },
    {
      "cell_type": "code",
      "metadata": {
        "id": "QdNuBUfDmDsK"
      },
      "source": [
        "regressor.add(LSTM(units = 70, return_sequences = True, input_shape = (X_treino.shape[1], 1)))\n",
        "regressor.add(Dropout(0.4))"
      ],
      "execution_count": null,
      "outputs": []
    },
    {
      "cell_type": "markdown",
      "metadata": {
        "id": "kUVdA1h4sJq3"
      },
      "source": [
        "## Adicionando uma segunda camada de LSTM com Regularização Dropout \n",
        "\n",
        "---\n",
        "\n"
      ]
    },
    {
      "cell_type": "code",
      "metadata": {
        "id": "FBZ7menqsIO4"
      },
      "source": [
        "regressor.add(LSTM(units = 70, return_sequences = True))\n",
        "regressor.add(Dropout(0.4))"
      ],
      "execution_count": null,
      "outputs": []
    },
    {
      "cell_type": "markdown",
      "metadata": {
        "id": "Zq1MUkupsdH8"
      },
      "source": [
        "## Adicionando uma terceira camada de LSTM com Regularização Dropout \n"
      ]
    },
    {
      "cell_type": "code",
      "metadata": {
        "id": "uIl9BmQTscRT"
      },
      "source": [
        "regressor.add(LSTM(units = 70, return_sequences = True))\n",
        "regressor.add(Dropout(0.4))"
      ],
      "execution_count": null,
      "outputs": []
    },
    {
      "cell_type": "markdown",
      "metadata": {
        "id": "oXmLUIsEsmxx"
      },
      "source": [
        "## Adicionando uma quarta camada de LSTM com Regularização Dropout"
      ]
    },
    {
      "cell_type": "code",
      "metadata": {
        "id": "RwX_zGu1slej"
      },
      "source": [
        "regressor.add(LSTM(units = 70))\n",
        "regressor.add(Dropout(0.4))"
      ],
      "execution_count": null,
      "outputs": []
    },
    {
      "cell_type": "markdown",
      "metadata": {
        "id": "Ynh4UhOfs4TD"
      },
      "source": [
        "## Adicionando a camada de saída\n",
        "\n"
      ]
    },
    {
      "cell_type": "code",
      "metadata": {
        "id": "X4lozj1ns6lq"
      },
      "source": [
        "regressor.add(Dense(units = 1))"
      ],
      "execution_count": null,
      "outputs": []
    },
    {
      "cell_type": "markdown",
      "metadata": {
        "id": "DHTCvtaftmvX"
      },
      "source": [
        "## Compilando RNA \n",
        "### Utilizando a otimização ADAM: A otimização de Adam é um método de descida gradiente estocástico baseado na estimativa adaptativa de momentos de primeira e segunda ordem.\n",
        "\n",
        "### A função loss é por meio da média dos quadrados \n",
        "\n",
        "### Utilize outros otimizadores: https://keras.io/api/optimizers/\n",
        "\n",
        "### Utilize outras funções loss: https://keras.io/api/losses/\n"
      ]
    },
    {
      "cell_type": "code",
      "metadata": {
        "id": "0kM0NFdktC3y"
      },
      "source": [
        "regressor.compile(optimizer = 'Nadam', loss = 'mean_squared_error')"
      ],
      "execution_count": null,
      "outputs": []
    },
    {
      "cell_type": "markdown",
      "metadata": {
        "id": "HGCDxKV4vAQP"
      },
      "source": [
        "## Fitting da RNA para treinamento do set"
      ]
    },
    {
      "cell_type": "code",
      "metadata": {
        "colab": {
          "base_uri": "https://localhost:8080/"
        },
        "id": "A9sqfMIGu04Y",
        "outputId": "d8152f11-1ea6-41b1-babb-2b9b8aff7dec"
      },
      "source": [
        "regressor.fit(X_treino, y_treino, epochs = 100, batch_size = 32)"
      ],
      "execution_count": null,
      "outputs": [
        {
          "output_type": "stream",
          "name": "stdout",
          "text": [
            "Epoch 1/100\n",
            "101/101 [==============================] - 13s 55ms/step - loss: 0.0067\n",
            "Epoch 2/100\n",
            "101/101 [==============================] - 5s 53ms/step - loss: 0.0031\n",
            "Epoch 3/100\n",
            "101/101 [==============================] - 6s 57ms/step - loss: 0.0026\n",
            "Epoch 4/100\n",
            "101/101 [==============================] - 6s 56ms/step - loss: 0.0026\n",
            "Epoch 5/100\n",
            "101/101 [==============================] - 6s 55ms/step - loss: 0.0023\n",
            "Epoch 6/100\n",
            "101/101 [==============================] - 6s 55ms/step - loss: 0.0022\n",
            "Epoch 7/100\n",
            "101/101 [==============================] - 6s 55ms/step - loss: 0.0017\n",
            "Epoch 8/100\n",
            "101/101 [==============================] - 6s 55ms/step - loss: 0.0018\n",
            "Epoch 9/100\n",
            "101/101 [==============================] - 6s 55ms/step - loss: 0.0015\n",
            "Epoch 10/100\n",
            "101/101 [==============================] - 5s 54ms/step - loss: 0.0017\n",
            "Epoch 11/100\n",
            "101/101 [==============================] - 6s 56ms/step - loss: 0.0017\n",
            "Epoch 12/100\n",
            "101/101 [==============================] - 6s 55ms/step - loss: 0.0014\n",
            "Epoch 13/100\n",
            "101/101 [==============================] - 5s 54ms/step - loss: 0.0017\n",
            "Epoch 14/100\n",
            "101/101 [==============================] - 6s 57ms/step - loss: 0.0014\n",
            "Epoch 15/100\n",
            "101/101 [==============================] - 5s 54ms/step - loss: 0.0013\n",
            "Epoch 16/100\n",
            "101/101 [==============================] - 6s 59ms/step - loss: 0.0013\n",
            "Epoch 17/100\n",
            "101/101 [==============================] - 5s 54ms/step - loss: 0.0013\n",
            "Epoch 18/100\n",
            "101/101 [==============================] - 5s 54ms/step - loss: 0.0012\n",
            "Epoch 19/100\n",
            "101/101 [==============================] - 6s 56ms/step - loss: 0.0012\n",
            "Epoch 20/100\n",
            "101/101 [==============================] - 6s 56ms/step - loss: 0.0013\n",
            "Epoch 21/100\n",
            "101/101 [==============================] - 6s 56ms/step - loss: 0.0012\n",
            "Epoch 22/100\n",
            "101/101 [==============================] - 5s 54ms/step - loss: 0.0012\n",
            "Epoch 23/100\n",
            "101/101 [==============================] - 6s 56ms/step - loss: 0.0011\n",
            "Epoch 24/100\n",
            "101/101 [==============================] - 6s 55ms/step - loss: 0.0011\n",
            "Epoch 25/100\n",
            "101/101 [==============================] - 6s 55ms/step - loss: 0.0011\n",
            "Epoch 26/100\n",
            "101/101 [==============================] - 5s 53ms/step - loss: 0.0010\n",
            "Epoch 27/100\n",
            "101/101 [==============================] - 6s 55ms/step - loss: 0.0011\n",
            "Epoch 28/100\n",
            "101/101 [==============================] - 6s 57ms/step - loss: 0.0010\n",
            "Epoch 29/100\n",
            "101/101 [==============================] - 6s 55ms/step - loss: 0.0011\n",
            "Epoch 30/100\n",
            "101/101 [==============================] - 6s 56ms/step - loss: 0.0011\n",
            "Epoch 31/100\n",
            "101/101 [==============================] - 5s 53ms/step - loss: 0.0011\n",
            "Epoch 32/100\n",
            "101/101 [==============================] - 6s 54ms/step - loss: 0.0012\n",
            "Epoch 33/100\n",
            "101/101 [==============================] - 6s 57ms/step - loss: 9.8215e-04\n",
            "Epoch 34/100\n",
            "101/101 [==============================] - 6s 58ms/step - loss: 9.9859e-04\n",
            "Epoch 35/100\n",
            "101/101 [==============================] - 6s 56ms/step - loss: 9.8512e-04\n",
            "Epoch 36/100\n",
            "101/101 [==============================] - 6s 55ms/step - loss: 9.4830e-04\n",
            "Epoch 37/100\n",
            "101/101 [==============================] - 6s 57ms/step - loss: 9.2732e-04\n",
            "Epoch 38/100\n",
            "101/101 [==============================] - 6s 58ms/step - loss: 9.3455e-04\n",
            "Epoch 39/100\n",
            "101/101 [==============================] - 6s 55ms/step - loss: 9.6606e-04\n",
            "Epoch 40/100\n",
            "101/101 [==============================] - 6s 57ms/step - loss: 9.5159e-04\n",
            "Epoch 41/100\n",
            "101/101 [==============================] - 6s 56ms/step - loss: 9.4898e-04\n",
            "Epoch 42/100\n",
            "101/101 [==============================] - 6s 58ms/step - loss: 8.8377e-04\n",
            "Epoch 43/100\n",
            "101/101 [==============================] - 6s 57ms/step - loss: 9.7286e-04\n",
            "Epoch 44/100\n",
            "101/101 [==============================] - 6s 56ms/step - loss: 8.9624e-04\n",
            "Epoch 45/100\n",
            "101/101 [==============================] - 6s 58ms/step - loss: 8.3036e-04\n",
            "Epoch 46/100\n",
            "101/101 [==============================] - 6s 60ms/step - loss: 9.1186e-04\n",
            "Epoch 47/100\n",
            "101/101 [==============================] - 6s 57ms/step - loss: 8.1749e-04\n",
            "Epoch 48/100\n",
            "101/101 [==============================] - 5s 54ms/step - loss: 9.0484e-04\n",
            "Epoch 49/100\n",
            "101/101 [==============================] - 6s 55ms/step - loss: 8.2991e-04\n",
            "Epoch 50/100\n",
            "101/101 [==============================] - 5s 54ms/step - loss: 8.3625e-04\n",
            "Epoch 51/100\n",
            "101/101 [==============================] - 5s 53ms/step - loss: 9.7869e-04\n",
            "Epoch 52/100\n",
            "101/101 [==============================] - 6s 58ms/step - loss: 9.0424e-04\n",
            "Epoch 53/100\n",
            "101/101 [==============================] - 6s 57ms/step - loss: 9.2669e-04\n",
            "Epoch 54/100\n",
            "101/101 [==============================] - 6s 58ms/step - loss: 8.3751e-04\n",
            "Epoch 55/100\n",
            "101/101 [==============================] - 6s 55ms/step - loss: 8.5612e-04\n",
            "Epoch 56/100\n",
            "101/101 [==============================] - 6s 55ms/step - loss: 8.9005e-04\n",
            "Epoch 57/100\n",
            "101/101 [==============================] - 6s 55ms/step - loss: 8.7748e-04\n",
            "Epoch 58/100\n",
            "101/101 [==============================] - 6s 55ms/step - loss: 0.0010\n",
            "Epoch 59/100\n",
            "101/101 [==============================] - 6s 57ms/step - loss: 8.0478e-04\n",
            "Epoch 60/100\n",
            "101/101 [==============================] - 6s 58ms/step - loss: 8.1649e-04\n",
            "Epoch 61/100\n",
            "101/101 [==============================] - 6s 55ms/step - loss: 8.6579e-04\n",
            "Epoch 62/100\n",
            "101/101 [==============================] - 6s 55ms/step - loss: 7.4455e-04\n",
            "Epoch 63/100\n",
            "101/101 [==============================] - 6s 55ms/step - loss: 7.9690e-04\n",
            "Epoch 64/100\n",
            "101/101 [==============================] - 6s 55ms/step - loss: 7.5549e-04\n",
            "Epoch 65/100\n",
            "101/101 [==============================] - 6s 56ms/step - loss: 8.4739e-04\n",
            "Epoch 66/100\n",
            "101/101 [==============================] - 6s 55ms/step - loss: 7.2926e-04\n",
            "Epoch 67/100\n",
            "101/101 [==============================] - 6s 57ms/step - loss: 9.1804e-04\n",
            "Epoch 68/100\n",
            "101/101 [==============================] - 6s 55ms/step - loss: 7.9013e-04\n",
            "Epoch 69/100\n",
            "101/101 [==============================] - 6s 57ms/step - loss: 8.5859e-04\n",
            "Epoch 70/100\n",
            "101/101 [==============================] - 6s 57ms/step - loss: 8.3984e-04\n",
            "Epoch 71/100\n",
            "101/101 [==============================] - 6s 55ms/step - loss: 7.2010e-04\n",
            "Epoch 72/100\n",
            "101/101 [==============================] - 6s 55ms/step - loss: 8.3283e-04\n",
            "Epoch 73/100\n",
            "101/101 [==============================] - 6s 56ms/step - loss: 7.4928e-04\n",
            "Epoch 74/100\n",
            "101/101 [==============================] - 6s 56ms/step - loss: 8.0475e-04\n",
            "Epoch 75/100\n",
            "101/101 [==============================] - 6s 56ms/step - loss: 8.4494e-04\n",
            "Epoch 76/100\n",
            "101/101 [==============================] - 6s 56ms/step - loss: 7.5683e-04\n",
            "Epoch 77/100\n",
            "101/101 [==============================] - 6s 56ms/step - loss: 7.7937e-04\n",
            "Epoch 78/100\n",
            "101/101 [==============================] - 6s 57ms/step - loss: 7.2900e-04\n",
            "Epoch 79/100\n",
            "101/101 [==============================] - 6s 58ms/step - loss: 7.1644e-04\n",
            "Epoch 80/100\n",
            "101/101 [==============================] - 6s 56ms/step - loss: 7.7569e-04\n",
            "Epoch 81/100\n",
            "101/101 [==============================] - 6s 57ms/step - loss: 7.5736e-04\n",
            "Epoch 82/100\n",
            "101/101 [==============================] - 6s 56ms/step - loss: 7.0068e-04\n",
            "Epoch 83/100\n",
            "101/101 [==============================] - 6s 57ms/step - loss: 6.4046e-04\n",
            "Epoch 84/100\n",
            "101/101 [==============================] - 6s 57ms/step - loss: 7.3925e-04\n",
            "Epoch 85/100\n",
            "101/101 [==============================] - 6s 57ms/step - loss: 8.0614e-04\n",
            "Epoch 86/100\n",
            "101/101 [==============================] - 6s 58ms/step - loss: 7.1045e-04\n",
            "Epoch 87/100\n",
            "101/101 [==============================] - 6s 56ms/step - loss: 7.8886e-04\n",
            "Epoch 88/100\n",
            "101/101 [==============================] - 6s 55ms/step - loss: 7.8004e-04\n",
            "Epoch 89/100\n",
            "101/101 [==============================] - 6s 55ms/step - loss: 6.8913e-04\n",
            "Epoch 90/100\n",
            "101/101 [==============================] - 6s 56ms/step - loss: 6.9443e-04\n",
            "Epoch 91/100\n",
            "101/101 [==============================] - 6s 57ms/step - loss: 7.8065e-04\n",
            "Epoch 92/100\n",
            "101/101 [==============================] - 6s 55ms/step - loss: 7.7067e-04\n",
            "Epoch 93/100\n",
            "101/101 [==============================] - 6s 55ms/step - loss: 7.7497e-04\n",
            "Epoch 94/100\n",
            "101/101 [==============================] - 5s 54ms/step - loss: 8.0943e-04\n",
            "Epoch 95/100\n",
            "101/101 [==============================] - 6s 58ms/step - loss: 7.1035e-04\n",
            "Epoch 96/100\n",
            "101/101 [==============================] - 6s 58ms/step - loss: 6.6014e-04\n",
            "Epoch 97/100\n",
            "101/101 [==============================] - 6s 57ms/step - loss: 6.7425e-04\n",
            "Epoch 98/100\n",
            "101/101 [==============================] - 6s 56ms/step - loss: 7.0227e-04\n",
            "Epoch 99/100\n",
            "101/101 [==============================] - 6s 55ms/step - loss: 6.9327e-04\n",
            "Epoch 100/100\n",
            "101/101 [==============================] - 6s 56ms/step - loss: 6.3001e-04\n"
          ]
        },
        {
          "output_type": "execute_result",
          "data": {
            "text/plain": [
              "<keras.callbacks.History at 0x7fec1ecc6cd0>"
            ]
          },
          "metadata": {},
          "execution_count": 20
        }
      ]
    },
    {
      "cell_type": "markdown",
      "metadata": {
        "id": "QbFtVdJP1kVr"
      },
      "source": [
        "## Obtendo o preço real"
      ]
    },
    {
      "cell_type": "code",
      "metadata": {
        "id": "MA8BXnVSvQ7H"
      },
      "source": [
        "dataset_test = pd.read_csv('/content/AMER3.SA-Teste.csv')\n",
        "real_preco_acao = dataset_test.iloc[:, 1:2].values"
      ],
      "execution_count": null,
      "outputs": []
    },
    {
      "cell_type": "markdown",
      "metadata": {
        "id": "YCxu8_cT1xP2"
      },
      "source": [
        "## Previsão"
      ]
    },
    {
      "cell_type": "code",
      "metadata": {
        "id": "Ntha8aWD1psX",
        "colab": {
          "base_uri": "https://localhost:8080/"
        },
        "outputId": "dd809e60-ace6-4a30-8456-e95d5110bd98"
      },
      "source": [
        "dataset_total = pd.concat((dataset_treino['Open'], dataset_test['Open']), axis = 0)\n",
        "inputs = dataset_total[len(dataset_total) - len(dataset_test) - 20:].values\n",
        "inputs = inputs.reshape(-1,1)\n",
        "inputs = sc.transform(inputs)\n",
        "X_test = []\n",
        "for i in range(20, 40):\n",
        "    X_test.append(inputs[i-20:i, 0])\n",
        "X_test = np.array(X_test)\n",
        "X_test = np.reshape(X_test, (X_test.shape[0], X_test.shape[1], 1))\n",
        "predicted_stock_price = regressor.predict(X_test)\n",
        "predicted_stock_price = sc.inverse_transform(predicted_stock_price)"
      ],
      "execution_count": null,
      "outputs": [
        {
          "output_type": "stream",
          "name": "stdout",
          "text": [
            "1/1 [==============================] - 2s 2s/step\n"
          ]
        }
      ]
    },
    {
      "cell_type": "markdown",
      "metadata": {
        "id": "HcI8UBps2TQe"
      },
      "source": [
        "## Visualizando"
      ]
    },
    {
      "cell_type": "code",
      "metadata": {
        "colab": {
          "base_uri": "https://localhost:8080/",
          "height": 295
        },
        "id": "N1cDHdvW2Q9m",
        "outputId": "000f6b14-ec69-4160-afbd-a5881648a9bd"
      },
      "source": [
        "plt.plot(real_preco_acao, color = 'red', label = 'Preço Real')\n",
        "plt.plot(predicted_stock_price, color = 'blue', label = 'Previsão com RNA')\n",
        "plt.title('Preço da AMER3')\n",
        "plt.xlabel('Tempo')\n",
        "plt.ylabel('Preço')\n",
        "plt.legend()\n",
        "plt.show()"
      ],
      "execution_count": null,
      "outputs": [
        {
          "output_type": "display_data",
          "data": {
            "text/plain": [
              "<Figure size 432x288 with 1 Axes>"
            ],
            "image/png": "[encoded data removed]"
          },
          "metadata": {
            "needs_background": "light"
          }
        }
      ]
    },
    {
      "cell_type": "markdown",
      "metadata": {
        "id": "e1tBH8qx8etz"
      },
      "source": [
        "\n",
        "\n",
        "\n",
        "\n"
      ]
    },
    {
      "cell_type": "code",
      "metadata": {
        "id": "qQrTn9Qx9N1U"
      },
      "source": [],
      "execution_count": null,
      "outputs": []
    },
    {
      "cell_type": "code",
      "metadata": {
        "id": "-UFbAbkVhLtn"
      },
      "source": [],
      "execution_count": null,
      "outputs": []
    },
    {
      "cell_type": "code",
      "metadata": {
        "id": "Na7O5KtrhS0E"
      },
      "source": [],
      "execution_count": null,
      "outputs": []
    }
  ]
}