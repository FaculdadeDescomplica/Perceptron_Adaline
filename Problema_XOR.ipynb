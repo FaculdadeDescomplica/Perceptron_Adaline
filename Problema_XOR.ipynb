{
  "nbformat": 4,
  "nbformat_minor": 0,
  "metadata": {
    "colab": {
      "provenance": [],
      "authorship_tag": "ABX9TyMAzXaXAGGWxKrtBeK84Tx8",
      "include_colab_link": true
    },
    "kernelspec": {
      "name": "python3",
      "display_name": "Python 3"
    },
    "language_info": {
      "name": "python"
    }
  },
  "cells": [
    {
      "cell_type": "markdown",
      "metadata": {
        "id": "view-in-github",
        "colab_type": "text"
      },
      "source": [
        "<a href=\"https://colab.research.google.com/github/Rafael-Barbosa/Perceptron_Adaline/blob/main/Problema_XOR.ipynb\" target=\"_parent\"><img src=\"https://colab.research.google.com/assets/colab-badge.svg\" alt=\"Open In Colab\"/></a>"
      ]
    },
    {
      "cell_type": "code",
      "execution_count": null,
      "metadata": {
        "id": "fcco5DrIKhVo"
      },
      "outputs": [],
      "source": [
        "import pandas as pd\n",
        "import matplotlib.pyplot as plt\n",
        "import tensorflow.compat.v1 as tf\n",
        "tf.disable_v2_behavior()\n",
        "import numpy as np\n",
        "from sklearn.preprocessing import OneHotEncoder\n",
        "\n"
      ]
    },
    {
      "cell_type": "code",
      "source": [
        "def plot_line(w1, w2, b):\n",
        "    x1, x2 = np.meshgrid(np.linspace(0,1,100), np.linspace(0,1,100))\n",
        "    x_mesh = np.array([x1.ravel(), x2.ravel()]).T\n",
        "    \n",
        "    plt.figure(0, figsize=(10,4))\n",
        "  \n",
        "    \n",
        "    \n",
        "    y_mesh = np.dot(x_mesh, np.array([w1, w2]).T) + b\n",
        "    y_mesh = np.where(y_mesh <= 0, 0, 1)\n",
        "   \n",
        "\n",
        "    plt.contourf(x1, x2, y_mesh.reshape(x1.shape), cmap='bwr')\n",
        "    plt.xlim([-0.05, 1.05])\n",
        "    plt.ylim([-0.05, 1.05])\n",
        "    plt.scatter(x[:,0], x[:,1], c=y.ravel(), s=100, cmap='bwr')\n",
        "\n",
        "    y_pred = np.dot(x, np.array([w1, w2]).T) + b\n",
        "    y_bin = np.where(y_pred <= 0, 0, 1)\n",
        "    print('{0} => {1}'.format(y_pred, y_bin))\n",
        " \n",
        "   \n",
        "    plt.show()"
      ],
      "metadata": {
        "id": "rDhAakyLPA3O"
      },
      "execution_count": null,
      "outputs": []
    },
    {
      "cell_type": "code",
      "source": [
        "\n",
        "training_data = np.array([[0,0],[0,1],[1,0],[1,1]], \"float32\")\n",
        "\n",
        "target_data = np.array([[1],[0],[1],[0]], \"float32\")\n"
      ],
      "metadata": {
        "id": "L6xqP9T-PCwY"
      },
      "execution_count": null,
      "outputs": []
    },
    {
      "cell_type": "code",
      "source": [
        "x = np.array([[0, 0], [0, 1], [1, 0], [1, 1]])\n",
        "y = np.array([[0, 1, 1, 0]]).T\n",
        "plt.scatter(x[:,0], x[:,1], c=y.ravel(), s=100, cmap='bwr')"
      ],
      "metadata": {
        "colab": {
          "base_uri": "https://localhost:8080/",
          "height": 282
        },
        "id": "G_G50UGwPM57",
        "outputId": "4da1ea14-60c9-4f2e-938c-8fb98e24dd09"
      },
      "execution_count": null,
      "outputs": [
        {
          "output_type": "execute_result",
          "data": {
            "text/plain": [
              "<matplotlib.collections.PathCollection at 0x7f7fc9f4b940>"
            ]
          },
          "metadata": {},
          "execution_count": 13
        },
        {
          "output_type": "display_data",
          "data": {
            "text/plain": [
              "<Figure size 432x288 with 1 Axes>"
            ],
            "image/png": "[encoded data removed]"
          },
          "metadata": {
            "needs_background": "light"
          }
        }
      ]
    },
    {
      "cell_type": "code",
      "source": [
        "def trans_for_ohe(labels):\n",
        "    \"\"\"Transform a flat list of labels to what one hot encoder needs.\"\"\"\n",
        "    return np.array(labels).reshape(len(labels), -1)\n",
        "\n",
        "\n",
        "def analyze_classifier(sess, i, w1, b1, w2, b2, XOR_X, XOR_T):\n",
        "    \"\"\"Visualize the classification.\"\"\"\n",
        "    print(\"\\nEpoch %i\" % i)\n",
        "    print(\n",
        "        \"Hypothesis %s\" % sess.run(hypothesis, feed_dict={input_: XOR_X, target: XOR_T})\n",
        "    )\n",
        "    print(\"w1=%s\" % sess.run(w1))\n",
        "    print(\"b1=%s\" % sess.run(b1))\n",
        "    print(\"w2=%s\" % sess.run(w2))\n",
        "    print(\"b2=%s\" % sess.run(b2))\n",
        "    print(\n",
        "        \"cost (ce)=%s\"\n",
        "        % sess.run(cross_entropy, feed_dict={input_: XOR_X, target: XOR_T})\n",
        "    )\n",
        " \n",
        "    xs = np.linspace(-5, 5)\n",
        "    ys = np.linspace(-5, 5)\n",
        "    pred_classes = []\n",
        "    for x in xs:\n",
        "        for y in ys:\n",
        "            pred_class = sess.run(hypothesis, feed_dict={input_: [[x, y]]})\n",
        "            pred_classes.append((x, y, pred_class.argmax()))\n",
        "    xs_p, ys_p = [], []\n",
        "    xs_n, ys_n = [], []\n",
        "    for x, y, c in pred_classes:\n",
        "        if c == 0:\n",
        "            xs_n.append(x)\n",
        "            ys_n.append(y)\n",
        "        else:\n",
        "            xs_p.append(x)\n",
        "            ys_p.append(y)\n",
        "    plt.plot(xs_p, ys_p, \"ro\", xs_n, ys_n, \"bo\")\n",
        "    plt.show()\n",
        "\n",
        "\n",
        "\n",
        "XOR_X = [[0, 0], [0, 1], [1, 0], [1, 1]]  \n",
        "XOR_Y = [0, 1, 1, 0]  \n",
        "assert len(XOR_X) == len(XOR_Y)  \n",
        "\n",
        "\n",
        "enc = OneHotEncoder()\n",
        "enc.fit(trans_for_ohe(XOR_Y))\n",
        "XOR_T = enc.transform(trans_for_ohe(XOR_Y)).toarray()\n",
        "\n",
        "\n",
        "nb_classes = 2\n",
        "input_ = tf.placeholder(tf.float32, shape=[None, len(XOR_X[0])], name=\"input\")\n",
        "target = tf.placeholder(tf.float32, shape=[None, nb_classes], name=\"output\")\n",
        "nb_hidden_nodes = 2\n",
        "\n",
        "\n",
        "w1 = tf.Variable(\n",
        "    tf.random_uniform([2, nb_hidden_nodes], -1, 1, seed=0), name=\"Weights1\"\n",
        ")\n",
        "w2 = tf.Variable(\n",
        "    tf.random_uniform([nb_hidden_nodes, nb_classes], -1, 1, seed=0), name=\"Weights2\"\n",
        ")\n",
        "b1 = tf.Variable(tf.zeros([nb_hidden_nodes]), name=\"Biases1\")\n",
        "b2 = tf.Variable(tf.zeros([nb_classes]), name=\"Biases2\")\n",
        "activation2 = tf.sigmoid(tf.matmul(input_, w1) + b1)\n",
        "hypothesis = tf.nn.softmax(tf.matmul(activation2, w2) + b2)\n",
        "cross_entropy = -tf.reduce_sum(target * tf.log(hypothesis))\n",
        "train_step = tf.train.GradientDescentOptimizer(0.1).minimize(cross_entropy)\n",
        "\n",
        "\n",
        "init = tf.initialize_all_variables()\n",
        "with tf.Session() as sess:\n",
        "    sess.run(init)\n",
        "\n",
        "    for i in range(20001):\n",
        "        sess.run(train_step, feed_dict={input_: XOR_X, target: XOR_T})\n",
        "\n",
        "        if i % 10000 == 0:\n",
        "            analyze_classifier(sess, i, w1, b1, w2, b2, XOR_X, XOR_T)"
      ],
      "metadata": {
        "colab": {
          "base_uri": "https://localhost:8080/",
          "height": 1000
        },
        "id": "6CqpaZyDMv96",
        "outputId": "f62e8c63-9598-48ff-f64a-1f6c90a49af9"
      },
      "execution_count": null,
      "outputs": [
        {
          "output_type": "stream",
          "name": "stdout",
          "text": [
            "\n",
            "Epoch 0\n",
            "Hypothesis [[0.4871205  0.51287943]\n",
            " [0.33808208 0.6619179 ]\n",
            " [0.65063184 0.3493682 ]\n",
            " [0.5031724  0.49682766]]\n",
            "w1=[[-0.79593647  0.9394788 ]\n",
            " [ 0.6885476  -0.8942361 ]]\n",
            "b1=[-0.00733338  0.00893857]\n",
            "w2=[[-0.7908405  0.9328994]\n",
            " [ 0.6927817 -0.8986907]]\n",
            "b2=[ 0.00394399 -0.00394397]\n",
            "cost (ce)=2.8703089\n"
          ]
        },
        {
          "output_type": "display_data",
          "data": {
            "text/plain": [
              "<Figure size 432x288 with 1 Axes>"
            ],
            "image/png": "[encoded data removed]"
          },
          "metadata": {
            "needs_background": "light"
          }
        },
        {
          "output_type": "stream",
          "name": "stdout",
          "text": [
            "\n",
            "Epoch 10000\n",
            "Hypothesis [[0.99773693 0.00226306]\n",
            " [0.00290442 0.9970956 ]\n",
            " [0.00295531 0.99704474]\n",
            " [0.9980432  0.00195681]]\n",
            "w1=[[-6.6269484  7.523028 ]\n",
            " [ 6.9120817 -7.3929234]]\n",
            "b1=[3.322451  3.7620423]\n",
            "w2=[[ 6.6346493 -6.492589 ]\n",
            " [ 6.404718  -6.610616 ]]\n",
            "b2=[-9.650649  9.650643]\n",
            "cost (ce)=0.010092623\n"
          ]
        },
        {
          "output_type": "display_data",
          "data": {
            "text/plain": [
              "<Figure size 432x288 with 1 Axes>"
            ],
            "image/png": "[encoded data removed]"
          },
          "metadata": {
            "needs_background": "light"
          }
        },
        {
          "output_type": "stream",
          "name": "stdout",
          "text": [
            "\n",
            "Epoch 20000\n",
            "Hypothesis [[9.9895477e-01 1.0452032e-03]\n",
            " [1.3545571e-03 9.9864548e-01]\n",
            " [1.3704272e-03 9.9862957e-01]\n",
            " [9.9909222e-01 9.0778369e-04]]\n",
            "w1=[[-7.0485725  7.846733 ]\n",
            " [ 7.330613  -7.6883793]]\n",
            "b1=[3.5324628 3.8958764]\n",
            "w2=[[ 7.3594847 -7.2174244]\n",
            " [ 7.1405964 -7.346491 ]]\n",
            "b2=[-10.749451   10.7494335]\n",
            "cost (ce)=0.0046807947\n"
          ]
        },
        {
          "output_type": "display_data",
          "data": {
            "text/plain": [
              "<Figure size 432x288 with 1 Axes>"
            ],
            "image/png": "[encoded data removed]"
          },
          "metadata": {
            "needs_background": "light"
          }
        }
      ]
    },
    {
      "cell_type": "code",
      "source": [],
      "metadata": {
        "id": "RlrupgQWKkoD"
      },
      "execution_count": null,
      "outputs": []
    },
    {
      "cell_type": "code",
      "source": [],
      "metadata": {
        "id": "ojFXO550RoxV"
      },
      "execution_count": null,
      "outputs": []
    }
  ]
}