{
  "nbformat": 4,
  "nbformat_minor": 0,
  "metadata": {
    "colab": {
      "provenance": [],
      "authorship_tag": "ABX9TyNixdiRBEFeGw29XXh2xX+0",
      "include_colab_link": true
    },
    "kernelspec": {
      "name": "python3",
      "display_name": "Python 3"
    },
    "language_info": {
      "name": "python"
    }
  },
  "cells": [
    {
      "cell_type": "markdown",
      "metadata": {
        "id": "view-in-github",
        "colab_type": "text"
      },
      "source": [
        "<a href=\"https://colab.research.google.com/github/Rafael-Barbosa/Perceptron_Adaline/blob/main/Vetores_e_Encadeamento.ipynb\" target=\"_parent\"><img src=\"https://colab.research.google.com/assets/colab-badge.svg\" alt=\"Open In Colab\"/></a>"
      ]
    },
    {
      "cell_type": "markdown",
      "source": [
        "![image.png](data:image/png;base64,iVBORw0KGgoAAAANSUhEUgAAASsAAAE2CAYAAAA57LTxAAAd5ElEQVR4nO3deVRU9f/H8dcMsrgAoriQqIhsZoqiqZCKQaGIqGiamvn1+9XEzAXM1MLdk0ta9FO+lkkhnNxBwFRUBC0VwZVUyH1HzA3ZcZjl90e/+GVuQ8Lc+XBfj3M6R4G5vMeGJ597585chU6n04GIyMjV+vMPeXl5Us5BRPQEGxubij8rJZyDiEhvjBURCYGxIiIhMFZEJATGioiEwFg9RWJiotQjENHfKP48z4qnLvyhvLwcLVq0wPXr12Fqair1OESyxlMXnuPevXswMzNDZmam1KMQ0V8wVn9jY2ODoKAgtGnTRupRiOgvGKu/sbCwgEKhQL169aQehYj+grEiIiEwVkQkBMaKiITAWBGREBgrIhICY0VEQmCsiEgIjBURCYGxIiIhMFZEJATGioiEwFgRkRAYKyISAmNFREJgrIhICIwVEQmBsSIiITBWRCQExoqIhMBYEZEQGCsiEgJjRURCYKyISAiMFREJgbEiIiEwVkQkBMaKiITAWBGREBgrIhICY0VEQmCsiEgIjBURCYGxIiIhMFZEJATGioiEwFgRkRAYKyISgixj9eBhPkLmfoGoTQlSj0JEepJlrNasi0PY5LGoU9sCGo1G6nGISA+1pB5ACrfv3sOenw+jrWtrFBQU4Pfff3/s84WFhRJNRkTPIsuV1d37eejS8TXE7kjGI5VK6nGISA+yXFnZNbZFqxb2sLdrAlNTc7i5uT32eUtLS4kmI6JnkeXKqptHe3y/YSt+u3AFNjbWUo9DRHqQ5coqyN8Xl6/nYNgAfygVCqnHISI9yDJWSqUSTg7NpR6DiCpBlruBRCQexoqIhMBYEZEQGCsiEgJjRURCYKyISAiMFREJgbEiIiEwVkQkBMaKiITAWBGREBgrIhICY0VEQmCsiEgIjBURCYGxIiIhMFZEJATGioiEwFgRkRAYKyISAmNFREJgrIhICIwVEQmBsSIiITBWRCQExoqIhMBYEZEQGCsiEgJjRURCYKyISAiMFREJgbEiIiEwVkQkBMaKiITAWBGREBgrIhICY0VEQmCsiEgIjBURCYGxIiIhMFZEJATGioiEwFgRkRAYKyISAmNFREJgrIhICIwVEQmBsSKjcv/+feh0OqnHICPEWJHkdDod7ty5g/DwcHTs2JGxoqeqJfUARJcvX0bv3r3x4MEDvP/++1Aq+TuUnsRHBUmudevW+Oqrr6BUKjFmzBipxyEjxViR5HJycjB9+nQsWLAAbm5uUo9DRoq7gSQptVqNUaNGISEhAc2bN0etWnxI0tPxkUGSioyMRLdu3biiohdirEgyp06dQmxsLJKSkqQehQTAY1YkiZKSEoSFhSE8PBympqZSj0MCYKxIEuHh4fD29ka7du2kHoUEwd1AMrj09HQcPXoUsbGxUo9CAmGsyKCKi4sxe/ZsrFq1is/8UaVwN5AMatasWRgxYgScnZ2lHoUEI+tY8TVohnXgwAHk5OTgX//6l9SjkIBkuw5PP3EK5mam6PhaG6lHEYZOp4NCofhHt1Wr1Zg0aRKSkpL42j/6R2T7qPl+w1aoytVSjyGMlStXwtHREePGjYNGo6n07YcPH47FixfDzs6uGqYjOZDlyurkmbN4zdUJAJCRkYE9e/Y89vns7GwpxjJa0dHRSEtLw8GDBzFgwAC4ublh586deh932rNnD6ytreHn51fNk1JNJstY7d5/CJ6d3QEA7du3R+vWrR/7fG5urhRjGaW8vDysWrUKaWlpOHnyJBwdHTF69Gh4e3tj+vTpmDJlynN3Df/c/UtPT4eJiYkBJ6eaRnaxUqs1yD5/CafPXkBDm/rounAmateu/djXmJubSzSdcfjhhx8wcuRImJmZQaFQ4D//+Q9UKhVGjx6NkydPwtTUFE2aNIFGo4FWq31mhLRaLQIDAxEVFQUbGxsD3wuqaWR3zKpWLRP8z8KZeH9wIAb2flPqcYyOVqvF0aNH4e/vj0uXLqF+/foIDg5GXl4eysrKYGpqCrVaDYVCgdDQ0OeulrZu3QoHBwd069bNgPeAairZxQoAbKyt4OLYEo4tm0s9itFRKpX45ptv8P7772PAgAGIj48HADRs2BAODg4YPnw4unbtimXLlj33Wb3c3FzMnTsXERERfPaPqoTsdgP/5NjSXuoRjFZ2djZ27tyJNm3a4NNPP0VGRgbmz5+P3bt3Iy4uDu3atUObNs8+5UOlUiE4OBibN2/mcSqqMrKNFT3bhAkTsHr1ari6uqKoqAijRo1Cz549sWXLFgwdOvSFt1+3bh1cXFzQtm1bA0xLcsH1OT0hNzcXLVu2BADUq1cP0dHRuHnzJvr37//C2549exaRkZFYtmxZdY9JMsNY0RM6deqExYsXV5z8WbduXbRq1QqZmZnPvZ1KpcKUKVMQExPzj890J3oWxooq/PlayejoaOzYsQPdu3fH/v37MXPmzIqV1vOsXLkSPXv2fOK8NaKqwFgRAGDIkCFwdHTEpEmToFAocPjwYcybNw9RUVFwdXVFTEzMc29/7NgxpKamYubMmQaamOSGB9gJgwYNwoABA7By5UoEBgaiQ4cOiI2NRe/evdG7d+8X3l6lUmHatGmIioris39UbbiykrlHjx7h/v37GDlyJNasWYOxY8di/PjxePvtt7F69Wq9tjF79my89957aNWqVTVPS3LGlZWMlZeXQ6VS4csvv4ROp8PevXuxZ88emJiYYN++fbC1tX3hNlJTU5Gbm4vPP//cABOTnHFlJVOlpaXw8vKCVqtF586dcf78eTRt2hRmZmY4c+YMbG1tMXjw4Oduo7i4GAsXLsTChQv5FsVU7fgIk6nr16/D2dkZ1tbWAIBXX30Vt27dwoABA3Dr1i2sXbv2hdsICQnBxIkT9XqmkOhlMVYydP36dQQEBKBz586PffyXX35Bamoq2rdvj0aNGj13G8nJydBoNAgKCqrOUYkqcDdQZgoLC2Fra4vw8HCkp6cjNja24vwqhUIBX1/fF4aqpKQEM2bMwBdffMEXKZPB8JEmA+Xl5di0aROKi4sRGhqK48ePIzAwECdOnMDChQsxfvx4lJSU6L29d999FxEREXodgCeqKoyVDJiYmCA2NhZOTk5o0KABevToAQBo0KABMjMzUVJSAg8PD5SXl79wWykpKbCzs4Onp2d1j030GIXu//YB8vLypJ7FaISGhiI8PFzqMarUqVOn0L9/f5SUlGDr1q3o3r37Y5/XarUv3KUrKipCq1atkJOTAzMzs+oclwgAHnuHWa6sZKJdu3Y4f/480tLSMGrUKHz00UcA/jihMyoq6oWh0mg06Nu3LzIzMxkqkgRjJQPLly9HSEgIioqK4OTkhF9//RUajQbOzs7IysrS66KjGzZsgJeXF5o1a2aAiYmexFMXarjQ0FA8evQITk5O8PT0xLRp0/DBBx/gm2++wa1bt/DKK6+88O1cLl26hIiICBw6dMhAUxM9ibGqwbRaLS5cuIC4uDiYm5tj4MCBCA4ORnp6OlavXq3XKqmsrAwhISFYu3YtX6RMkuJuYA3z16sl+/j44ObNmxV/d3R0RGJiIho3boyIiAi9tvftt9/ijTfegJubW5XPSlQZjFUNcvXqVXh5eVWc5LlmzRrUq1cPkydPRkFBAQCgTp06WLx4MUJCQl64vRMnTiA5ORmffPJJtc5NpA/GqoYoKipCUFAQVq1aBYVCAZ1OB2dnZ/z8888wNzeHn58ffvvtN723V1xcjDlz5uDrr7/m7h8ZBcaqBtBqtZgzZw769euHTp06AQA++eQTnDhxAiYmJlixYgWmTJmCd955B7m5uXptc+nSpQgICICzs3N1jk6kN8aqBkhKSsK+ffswf/58AMDx48eRkpLy2KWwhg0bhszMTNjZ2b1we2lpaTh79izGjx9fbTMTVRZjVQO4u7ujsLAQfn5+yMvLQ79+/ZCamgpzc3MAQGJiIv773//C1NT0hdt69OgRZsyYga+++opXqCGjwljVAPb29jh37hxsbW3h5OSEDRs2VLxMoaCgoGIXUB+TJk3ClClTYG/PK1aTcWGsaggTExNs2LABsbGxGDp0KL766isAQGBgIFatWoWmTZu+cBspKSnQarUYNGhQdY9LVGk8KbQGUSgUePPNN3HixAn4+voiOjoaQUFB8Pf3f+FtVSoVZsyYgV27dvE9qsgo8VFZA9nb2+PkyZMYNGgQZsyYodexp/feew/Lly/ne1SR0eLKqoaqU6cO5s6dq9fXJiYmomXLlujZs2c1T0X0zzFWMldcXIxZs2YhLS2Nu39k1PjolDG1Wo0hQ4Zg/fr1sLS0lHocoudirGQsPj4ebm5uaNeundSjEL0QdwNl6tq1a1i0aBFOnjwp9ShEeuHKSoZUKhWCg4ORkJAg9ShEemOsZCgmJgbdunXjlZRJKNwNlJns7GzExMTg559/lnoUokrhykpGVCoVPvzwQ2zYsEGWL1LW6XTo1asX7Ozs0KxZM2zevFnqkagSGCsZWbRoEYYOHSrLK9RotVp4e3tjzJgxuHjxIpKSkjBt2jQUFhZKPRrpibuBMvHLL7/g7NmzmD17ttSjSOLu3bvIz8/He++9B6VSifbt26Np06a4desWXF1dq+R7PHz4EPPnz4eVlRUUCgWmTp0KKyurKtk2cWUlC4WFhVi0aBGWLFki27cobty4MbZv3/7YWfoWFhaoVavqfl/Xr18fBQUFWLlyJXJycniibRVjrGRg1qxZGD16NBwcHKQeRTIKhQLNmzd/7GNlZWWoW7cuAGDr1q0oKir6x9vXarVYuXIlsrOzYWZmpvcLyEl/jFUNt2fPHpSUlGDo0KFSj2J0SktLYWFhgbCwMKxdu7biqkCVdfPmTQQFBSE7OxvJyckYP348nJycqnha4jGrGqygoACff/45Nm/ezBcpP0VpaSkmTJgAKysrxMfHV3oXWa1WIyEhAXPnzsXixYvRv39/6HQ6fPzxx9U0sbwxVjVYcHAw5syZgyZNmkg9itHq2LHjP7ou4p07dzBr1izcu3cPGRkZqFevHoA/djd5rKp6MFY1VFJSEmxtbeHj4yP1KEbr+PHjsLa2rtRttFotDh48iMmTJ+Ojjz7CBx98UE3T0d8xVjWQSqXC1KlTceTIEdkd5D137hw+/PBDAEBERAReffXVZ35tZUP151s/Hzt2DLt37+aK1cB4IKOG0el08Pb2RkJCgux2R44ePYoRI0Zg48aNmDZtWsW/w7NkZGQgMjJSr21fuXIFHTp0QIsWLbB//36GSgJcWdUwcXFx6NWrF1xcXKQexeCWLl2KpUuXonHjxujbty+2b9+OESNGYODAgU987Zo1a7B7927ExMS8cLthYWH46aefEB8fDxcXF9mtVo0FV1Y1yJ07dxAWFoaFCxfK8gfK1NQUV69erfh7ly5d4OTkhIyMjMe+7uOPP8bVq1exbt061KlT55nbu3//Pry8vGBiYoLDhw/D1dVVlv+uxoKxqiEePXqEkSNHYteuXVV6VrYxKy8vx6BBgyqezfv000+xePFinDlzBsAfB8MLCgoqznnS6XR499134ebmhgULFlRcsfrvtFotVq9ejR49emDp0qWYN29excmjJB15PKpl4IcffoC3tzdatWol9SgGUVpaiu7du2PRokXw8/MDALRv3x4LFizAoEGD0KtXL+Tm5iIgIAANGzYE8MdpBRMnTkT37t2fuULKzc1FSEgIrKyscOjQoYorW5P0GKsaICsrC1u2bMHevXulHsVgLl68iBYtWqB3797IyspCdHQ0NBoNZs2aha5du+LIkSNwdnbG66+//tjtevTo8dTt6XQ6JCQkYOnSpQgJCcGwYcMMcTeoEhgrwZWUlGD69OmIjIyU1Vnqr7zyCo4cOYIhQ4YgJycHo0aNQlpaGlavXo2ZM2dW6uUuDx48wLx583Djxg3ExsbC3t6+Gienf4qxEtyKFSvg5+cHR0dHqUepVmq1Gps3b8amTZvQrl07TJ06FZmZmbhw4QI8PT2hUChQXFxcqeN1Op0OaWlp+OSTTzBs2DCsWLGiGu8BvSzGSmBarRYajQaTJ0+WepRqt2zZMly4cAHfffcdVq9ejTfeeAO//fYbGjVqhLy8PMTHx2PHjh346aef9NpecXExli9fjpSUFERFRVXZe1pR9WGsBKZUKhEWFib1GFVOo9EgNzcXSqUSTZs2BQCsX78ep0+fxsOHD7Fv3z4sWbKk4uvHjh2L1q1bIzk5Wa8XI1+5cgUjRozAW2+9hdTUVNk8eyo6/l8io1JeXo7u3bsjJycHKpUK48ePx+zZs1FWVoYbN26gd+/e2LZtG5ycnHD37l3cuHEDcXFxem1bq9Xiu+++w7Jly7Bt2za0bdu2mu8NVSXGioxGWVkZWrdujejoaPj4+CA/Px9t27ZFYGAgfH190adPH6Snp8PKygqlpaVwd3fHuXPn9Np2aWkpPD090blzZ2RnZz/zHCsyXvJ5+oiM3vbt26FSqeDp6QmlUgkbGxu4uLggPz8fy5cvh7W1Nfz8/DBx4kS4u7tj165der3+MS4uDq+99hqioqKwZs0ahkpQXFmR0Rg8eDD27dsHX19f7N+/H99//z0sLCzQs2dPmJmZITU1FVlZWSgtLcWcOXPQuHHj524vLy8PwcHB0Ol0yMjIgK2trYHuCVUHxoqMhkKhQEREBPr06YM+ffrA2toaGzZsgJmZGYA/LvDQqVMnvbaVlJSEBQsWYNKkSXj33Xdle6GMmoSxIqOiUCiQmJiI7t27w8fHp9IvdyksLMScOXNw9epVrF27lqck1CA8ZkVGx8LCAtu3b8f69euxbt06vW93+PBhBAYGolmzZti4cSNDVcNwZUVGqWnTpoiJicG4cePQt2/f566w1Go1wsPDsXPnTnz55Zd67yqSWLiyIqPVpUsXHD169LmhunjxInx9fZGbm4ukpCSGqgbjyoqMmqmp6VM/Xl5ejq1bt2LBggVYs2YNvLy8DDwZGRpjRcK5e/cuxowZAxMTE2RmZj4zaFSzyHI38MzZCxg3fQEuXbsp9ShUCTqdDqmpqXj99dfx4YcfIj4+nqGSEVmurH7cugNfz5+OryN/xGeTxko9DumhvLwcY8aMwY0bN3D69GnZXbmHZLqyGvVOIOrUtoC5GX8riyA9PR3u7u7o1asXkpOTGSqZkuXK6lWX1li7KREujg5ITU3Fli1bHvt8VlaWRJPRX5WXl+PTTz/FqVOnkJiYCGdnZ6lHIgnJMlaR67eiSaOGCPDtCaVS8cQl1kNDQyWajP506tQpTJo0Cf7+/oiPj+fVZUiesbp28xa8OnfAtZu30KpFM6nHob/Q6XT48ssvsW3bNixZsqTiLYuJZBmrhg3qY1vyftg1tmWsjMjNmzcRHBwMFxcXbN++HVZWVlKPREZElrEKGTtS6hHoLzQaDeLi4jBv3jx88cUXCAgI4GqKniDLWJHx+P333xEWFob8/HwcP34ctWvXlnokMlKyPHWBjMPt27fRp08feHp6YsuWLQwVPRdXViSZRo0aYe/evRWXdyd6Hq6sSDImJiYMFemNsSIiITBWRCQExoqIhMBYEZEQGCsiEgJjRURCYKyISAiMFREJgbEiIiEwVkQkBMaKiITAWBGREBgrIhICY0VEQmCsiEgIjBURCYGxIiIhMFZEJATGioiEwFgRkRAYKyISAmNFREJgrIhICIwVEQmBsSIiITBWRCQExoqIhMBYEZEQakk9gAgOHDiAu3fvAgDq1q2L119/HQ0aNDDI97527RouX76MvLw8+Pv7o3bt2gb5vkTGhrHSw7Jly2BpaQlnZ2ecOnUKU6dORXp6OiwtLav1+6rVagwcOBB2dnY4duwYMjMzGSuSLcZKT4MGDcLgwYMBAG+99RY2btyIsWPH4vLly9ixYwfMzc0xcOBANGnSBABw/fp17NmzB0VFRejSpQu8vLwAAA8ePEBiYiLy8vIQEBAAFxcXKBSKp37PWrVq4eTJkwCAli1bGuBeEhkvHrOqJK1WCwBQKBTIyMiAn58f2rRpg4YNG8Ld3R137txBaWkpvL290aRJE3h7e+PQoUMAgPz8fLi6ukKj0aBr167o27cvDh48KOXdIRIGV1Z6iouLw6+//op9+/bh9u3b+Pe//402bdrg6NGjFcevjh07ht27d6NHjx5o1KgRAgICoFQq0bFjRwBAcnIyOnXqhLFjxwIAIiMj8dlnn+HAgQOS3S8iUXBlpScPDw8MGDAAP/74I06fPo2ysjLcu3cP7u7uaN68OZo3b461a9fiypUrcHBwwPDhw9GiRQu4uLggMjISAHD69Gn4+PhUbLNHjx44e/asVHeJSChcWempVatW6NSpU8XftVot6tatizNnzsDa2vqJrw8NDcWECRNw+/ZtBAYGomfPnnBwcMDevXsrvubMmTNo3ry5QeYnEh1XVv+QUqnE8uXL4e/vj/Pnz+Phw4dISEjA5cuXkZWVhU2bNqGsrAwqlQoqlQqWlpbw9/dHSkoKjh49irt372L8+PGYOXPmc79PSkoK4uPjoVarsWvXLvz0008GuodExoUrKz288847cHV1feLjQ4YMgZWVFZYuXYry8nJ06NABvXr1glqtxrZt2zBx4kRYWVlh1apVsLOzAwAkJSXhu+++Q1FREaZOnVrxDOOznD9/Hnfu3MG4ceNw48YN5ObmIjAwsFruJ5ExU+h0Oh0A5OXlST2L0QgNDUV4eLjUYxDJno2NTcWfubIyAlFRUTh9+vRjHzM3N8fixYslmojI+DBWRqBfv36PPUsI/HFMjIj+H2NlAGq1GhqNBubm5k/9fKNGjQw8EZF4+Ov7Gf58Fq8q/svJyUHbtm1x+PBhqe8WkbC4snqKwsJCeHh4VOk28/Pz0a9fP8yYMQPTp0+v0m0TyQFj9RT16tVDWlraM19gXFklJSXo0KEDfHx8MG3atCrZJpHcMFZPoVAoYGVlVWXbO3fuHKKjo/H2229XWQCJ5IaxMgAPDw8+u0f0kvgTZAAMFdHL408REQmBsSIiITBWRCQExoqIhMBYEZEQGCsiEgJjRURCYKyISAiMFREJgbEiIiEwVkQkBMaKiITAWBGREBgrIhICY0VEQmCsiEgIjBURCYGxIiIhMFZEJATGioiqxbVr16BWq6tse0Z3dZvCwkLodDpJZygvL0d+fj4vm0X0ElQqFdzd3bFx40a0a9fupben0P1fGfLy8l56Y1Vh7ty5ePjwoaQzpKeno2vXrrKJ1b1792BtbQ1TU1OpRzEIrVaL4uJiWFpaSj2Kwfz+++9o0qSJQb+nSqXCpk2b4OHhgV27dqFWrcqvjWxsbCr+bHSxMgahoaEIDw+XegyDOXToENq3by+bH97y8nJcvXoVzs7OUo9iMKmpqfDx8THo97x06RI2btyI6dOn/+NfhH+NldHtBhJRzdCsWTOEhYVV2fZ4gJ2IqoWFhUWVbo+xIiIhMFZEJATGimBlZQUTExOpxzAYhUKB2rVrSz2GQdWvX1/qEV4aD7BTlZwDI5JatWrB3t5e6jEMysPDQ+oRXhpXVjKn0+kwOmQWvo78UepRDOaXjBO4fO2m1GMYTNb5ixg+YQYePMyXepSXwljJ3C8Zx/H5zMmwrFcX13NypR7HICJ+WA+NViv1GAYTn5SKFQtnYmfKAalHeSmMlcw1adgATRvbokUzO6g1GqnHqXYnz/yGwQFvSz2GwWi1Wri2dsCp385jSD8/qcd5KYyVzLk5O+LOvftI3JUK+6aGfTmGoekARG1KhP0rNft+/pVWp0NS6kEUl5Riy/Y9Uo/zUhgrmSt7pMLXkT9iyWchMDOr2a8N1Gl1eFhQiG9jNiPih/VSj2MQSoUC/d7yRn+/XsIfs+KzgTIXu30Pgvr44uLVG3BzcoCFubnUI1UbpVKBb5fMxpHMM7C1Ef+pfH0olUpkZp1Fo4Y2sKxXT+pxXgpjJXN169RGysEMAECzpo1rdKwAoE5tCzjY26FunTpSj2IwQwN745eM4/j30AFSj/JSGCuZC/L3RZC/r9RjGJRD82ZSj2BQr7k54TU3J6nHeGk8ZkVEQmCsiMjoKRQKxoqIxMBYEZEQGCsiEgJjRURCYKyeolOnTlKPQER/w6vbEJHR+vPqNnw2kIiEwVgRkRAYKyISAmNFREJgrIhICIwVEQmBsSIiITBWRCSEipNCiYiMFU8KJSJhMFZEJATGioiMnk6nw/8CeSDhkaWU86cAAAAASUVORK5CYII=)"
      ],
      "metadata": {
        "id": "dzB3EEqzRJ6G"
      }
    },
    {
      "cell_type": "code",
      "source": [
        "Entrada = [1.72, 1.23]\n",
        "Peso_1 = [1.26, 0]\n",
        "Peso_2 = [2.17, 0.32]\n"
      ],
      "metadata": {
        "colab": {
          "base_uri": "https://localhost:8080/"
        },
        "id": "F0KLmAjlRUkj",
        "outputId": "36d44e99-e8a8-43aa-a600-36a89c12ac66"
      },
      "execution_count": null,
      "outputs": [
        {
          "output_type": "stream",
          "name": "stdout",
          "text": [
            "O produto é: 2.1672\n"
          ]
        }
      ]
    },
    {
      "cell_type": "code",
      "source": [
        "# Computando o produto escalar da Entrada e Peso_1\n",
        "Primeiro_index = Entrada[0] * Peso_1[0]\n",
        "Segundo_index = Entrada[1] * Peso_1[1]\n",
        "Produto_1 = Primeiro_index + Segundo_index\n",
        "print(f\"O produto é: {Produto_1}\")"
      ],
      "metadata": {
        "colab": {
          "base_uri": "https://localhost:8080/"
        },
        "id": "IMRkWx6pRe3R",
        "outputId": "d4331548-e4a0-4f0e-bf42-5f1d05f6ca8b"
      },
      "execution_count": null,
      "outputs": [
        {
          "output_type": "stream",
          "name": "stdout",
          "text": [
            "O produto é: 2.1672\n"
          ]
        }
      ]
    },
    {
      "cell_type": "code",
      "source": [
        "# Computando o produto escalar da Entrada e Peso_2\n",
        "Primeiro_index = Entrada[0] * Peso_2[0]\n",
        "Segundo_index = Entrada[1] * Peso_2[1]\n",
        "Produto_2 = Primeiro_index + Segundo_index\n",
        "print(f\"O produto é: {Produto_2}\")"
      ],
      "metadata": {
        "colab": {
          "base_uri": "https://localhost:8080/"
        },
        "id": "FS3Mtr5xSAux",
        "outputId": "e7e3fdbd-310e-48d6-9aa6-bf24b0ee3f8e"
      },
      "execution_count": null,
      "outputs": [
        {
          "output_type": "stream",
          "name": "stdout",
          "text": [
            "O produto é: 4.1259999999999994\n"
          ]
        }
      ]
    },
    {
      "cell_type": "code",
      "source": [
        "import numpy as np\n",
        "\n",
        "\n",
        "Produto_1 = np.dot(Entrada, Peso_1)\n",
        "\n",
        "\n",
        "print(f\"O produto é: {Produto_1}\")"
      ],
      "metadata": {
        "colab": {
          "base_uri": "https://localhost:8080/"
        },
        "id": "CMF4OablSEcm",
        "outputId": "40ca0af0-b817-4d22-f1b3-b662922b1536"
      },
      "execution_count": null,
      "outputs": [
        {
          "output_type": "stream",
          "name": "stdout",
          "text": [
            "O produto é: 2.1672\n"
          ]
        }
      ]
    },
    {
      "cell_type": "code",
      "source": [
        "import pandas as pd\n",
        "import seaborn as sns\n",
        "mpg = sns.load_dataset('mpg')\n",
        "#Método Chaining\n",
        "mpg.head().info()"
      ],
      "metadata": {
        "colab": {
          "base_uri": "https://localhost:8080/"
        },
        "id": "XxrWLh2SSNJs",
        "outputId": "9bb77e75-c924-4ad9-8008-ce636ee96279"
      },
      "execution_count": null,
      "outputs": [
        {
          "output_type": "stream",
          "name": "stdout",
          "text": [
            "<class 'pandas.core.frame.DataFrame'>\n",
            "RangeIndex: 5 entries, 0 to 4\n",
            "Data columns (total 9 columns):\n",
            " #   Column        Non-Null Count  Dtype  \n",
            "---  ------        --------------  -----  \n",
            " 0   mpg           5 non-null      float64\n",
            " 1   cylinders     5 non-null      int64  \n",
            " 2   displacement  5 non-null      float64\n",
            " 3   horsepower    5 non-null      float64\n",
            " 4   weight        5 non-null      int64  \n",
            " 5   acceleration  5 non-null      float64\n",
            " 6   model_year    5 non-null      int64  \n",
            " 7   origin        5 non-null      object \n",
            " 8   name          5 non-null      object \n",
            "dtypes: float64(4), int64(3), object(2)\n",
            "memory usage: 488.0+ bytes\n"
          ]
        }
      ]
    },
    {
      "cell_type": "code",
      "source": [
        "# Encadeamento de Métodos"
      ],
      "metadata": {
        "id": "XsWTG1ZxSSrg"
      },
      "execution_count": null,
      "outputs": []
    },
    {
      "cell_type": "code",
      "source": [
        "import time\n",
        "#Função para extrair o nome do carro e criar uma nova coluna chamada car_first_name\n",
        "start = time.time()\n",
        "def extract_car_first_name(df):\n",
        "   df['car_first_name'] = df['name'].str.split(' ').str.get(0)\n",
        "   return df\n",
        "#Função para adicionar my_name após o car_first_name e criar uma nova coluna chamada car_and_name\n",
        "def add_car_my_name(df, my_name = None):\n",
        "   df['car_and_name'] = df['car_first_name'] + my_name\n",
        "\n",
        "  \n",
        "add_car_my_name(extract_car_first_name(mpg), my_name = 'Cornellius')\n",
        "end = time.time()\n",
        "mpg.head()\n",
        "print(\"Tempo de execução :\", end-start)"
      ],
      "metadata": {
        "colab": {
          "base_uri": "https://localhost:8080/"
        },
        "id": "OdMugv95Scio",
        "outputId": "49f43647-ae0b-4121-a0fb-b8166176a2dc"
      },
      "execution_count": null,
      "outputs": [
        {
          "output_type": "stream",
          "name": "stdout",
          "text": [
            "Tempo de execução : 0.006334066390991211\n"
          ]
        }
      ]
    },
    {
      "cell_type": "code",
      "source": [
        "start = time.time()\n",
        "mpg.pipe(extract_car_first_name).pipe(add_car_my_name, my_name = 'Cornellius')\n",
        "end = time.time()\n",
        "mpg.head()\n",
        "print(\"Tempo de execução :\", end-start)"
      ],
      "metadata": {
        "colab": {
          "base_uri": "https://localhost:8080/"
        },
        "id": "8xKBjN8aSflW",
        "outputId": "db4add97-96a0-4226-d06c-ec0dea9a6531"
      },
      "execution_count": null,
      "outputs": [
        {
          "output_type": "stream",
          "name": "stdout",
          "text": [
            "Tempo de execução : 0.005278825759887695\n"
          ]
        }
      ]
    },
    {
      "cell_type": "code",
      "source": [],
      "metadata": {
        "id": "VrwiTTxwSp2V"
      },
      "execution_count": null,
      "outputs": []
    }
  ]
}