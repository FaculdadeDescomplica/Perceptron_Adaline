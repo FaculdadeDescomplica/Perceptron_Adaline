{
  "nbformat": 4,
  "nbformat_minor": 0,
  "metadata": {
    "colab": {
      "provenance": [],
      "authorship_tag": "ABX9TyNzkTbX4tdB7NsPKvsq32KF",
      "include_colab_link": true
    },
    "kernelspec": {
      "name": "python3",
      "display_name": "Python 3"
    },
    "language_info": {
      "name": "python"
    }
  },
  "cells": [
    {
      "cell_type": "markdown",
      "metadata": {
        "id": "view-in-github",
        "colab_type": "text"
      },
      "source": [
        "<a href=\"https://colab.research.google.com/github/Rafael-Barbosa/Perceptron_Adaline/blob/main/Derivada.ipynb\" target=\"_parent\"><img src=\"https://colab.research.google.com/assets/colab-badge.svg\" alt=\"Open In Colab\"/></a>"
      ]
    },
    {
      "cell_type": "code",
      "source": [
        "import matplotlib.pyplot as plt\n",
        "import numpy as np"
      ],
      "metadata": {
        "id": "f_6QbaXEYepH"
      },
      "execution_count": null,
      "outputs": []
    },
    {
      "cell_type": "code",
      "execution_count": null,
      "metadata": {
        "id": "MmedYvdpYLVP"
      },
      "outputs": [],
      "source": [
        "def f(x):\n",
        "        return x**2+2*x+2"
      ]
    },
    {
      "cell_type": "code",
      "source": [
        "x = np.linspace(-6, 6)"
      ],
      "metadata": {
        "id": "-7GVk-uBYXhG"
      },
      "execution_count": null,
      "outputs": []
    },
    {
      "cell_type": "code",
      "source": [
        "plt.plot(x, f(x), color='purple', label='Function')"
      ],
      "metadata": {
        "colab": {
          "base_uri": "https://localhost:8080/",
          "height": 282
        },
        "id": "mPGeZ6MwYYsd",
        "outputId": "5d7422db-758b-4220-d4a9-2e4fe8203125"
      },
      "execution_count": null,
      "outputs": [
        {
          "output_type": "execute_result",
          "data": {
            "text/plain": [
              "[<matplotlib.lines.Line2D at 0x7f7aa080a670>]"
            ]
          },
          "metadata": {},
          "execution_count": 4
        },
        {
          "output_type": "display_data",
          "data": {
            "text/plain": [
              "<Figure size 432x288 with 1 Axes>"
            ],
            "image/png": "[encoded data removed]"
          },
          "metadata": {
            "needs_background": "light"
          }
        }
      ]
    },
    {
      "cell_type": "code",
      "source": [
        "h = 0.01\n",
        "c1 = 0\n",
        "cf = c1+h"
      ],
      "metadata": {
        "id": "ODrVpfFqYZs1"
      },
      "execution_count": null,
      "outputs": []
    },
    {
      "cell_type": "code",
      "source": [
        "y1 = f(c1)\n",
        "y2 = f(cf)\n"
      ],
      "metadata": {
        "id": "FWwvzF_UYlYq"
      },
      "execution_count": null,
      "outputs": []
    },
    {
      "cell_type": "code",
      "source": [
        "derivada = (y2 - y1)/h"
      ],
      "metadata": {
        "id": "mo9yhAMeYmhh"
      },
      "execution_count": null,
      "outputs": []
    },
    {
      "cell_type": "code",
      "source": [
        "print(f'A derivada aproximada é {derivada}')"
      ],
      "metadata": {
        "colab": {
          "base_uri": "https://localhost:8080/"
        },
        "id": "jpAVrsnjYnlc",
        "outputId": "8eede4d5-b8d0-4456-d483-ade47ceedf1c"
      },
      "execution_count": null,
      "outputs": [
        {
          "output_type": "stream",
          "name": "stdout",
          "text": [
            "A derivada aproximada é 2.0099999999999785\n"
          ]
        }
      ]
    },
    {
      "cell_type": "code",
      "source": [
        "def dev(x):\n",
        "          return 2*x+2"
      ],
      "metadata": {
        "id": "ugXfcyJ8YpJd"
      },
      "execution_count": null,
      "outputs": []
    },
    {
      "cell_type": "code",
      "source": [
        "plt.plot(x, f(x), color='purple', label='Function')\n",
        "plt.plot(x, dev(x), color='red', label='Dev')"
      ],
      "metadata": {
        "id": "FJDoAIVkYrn9",
        "outputId": "9a77b41c-0de3-4f30-aa8b-b6351592c54f",
        "colab": {
          "base_uri": "https://localhost:8080/",
          "height": 282
        }
      },
      "execution_count": null,
      "outputs": [
        {
          "output_type": "execute_result",
          "data": {
            "text/plain": [
              "[<matplotlib.lines.Line2D at 0x7f7aa033daf0>]"
            ]
          },
          "metadata": {},
          "execution_count": 6
        },
        {
          "output_type": "display_data",
          "data": {
            "text/plain": [
              "<Figure size 432x288 with 1 Axes>"
            ],
            "image/png": "[encoded data removed]"
          },
          "metadata": {
            "needs_background": "light"
          }
        }
      ]
    },
    {
      "cell_type": "code",
      "source": [],
      "metadata": {
        "id": "RbU_XPuUYuPh"
      },
      "execution_count": null,
      "outputs": []
    }
  ]
}