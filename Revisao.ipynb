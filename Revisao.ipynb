{
  "cells": [
    {
      "cell_type": "markdown",
      "metadata": {
        "id": "view-in-github",
        "colab_type": "text"
      },
      "source": [
        "<a href=\"https://colab.research.google.com/github/Rafael-Barbosa/Perceptron_Adaline/blob/main/Revisao.ipynb\" target=\"_parent\"><img src=\"https://colab.research.google.com/assets/colab-badge.svg\" alt=\"Open In Colab\"/></a>"
      ]
    },
    {
      "cell_type": "markdown",
      "metadata": {
        "id": "X77UBxLAUCYj"
      },
      "source": [
        "# Revisão Python"
      ]
    },
    {
      "cell_type": "markdown",
      "metadata": {
        "id": "Br_ULoDvUCYq"
      },
      "source": [
        "## Um breve histórico sobre o Python\n",
        "\n",
        "* A linguagem de programação **Python** foi lançada em 1991 por Guido van Rossum. \n",
        "\n",
        "<img src=\"https://github.com/zz4fap/python-programming/blob/master/figures/guido.jpg?raw=1\" width=\"300px\">"
      ]
    },
    {
      "cell_type": "markdown",
      "metadata": {
        "id": "2_qss1SlUCYq"
      },
      "source": [
        "* O nome **Python** é uma homenagem ao grupo de humor britânico, Monty Python.\n",
        "\n",
        "<img src=\"https://github.com/zz4fap/python-programming/blob/master/figures/monty.jpg?raw=1\" width=\"200px\">"
      ]
    },
    {
      "cell_type": "markdown",
      "metadata": {
        "id": "sU0pc8YQUCYr"
      },
      "source": [
        "* Guido resistiu por muito tempo em associar a linguagem à serpente Python, mas isso acabou quando a editora  O’Reilly publicou o primeiro livro sobre a linguagem. \n",
        "\n",
        "<img src=\"https://github.com/zz4fap/python-programming/blob/master/figures/livro.jpg?raw=1\" width=\"200px\">"
      ]
    },
    {
      "cell_type": "markdown",
      "metadata": {
        "id": "17ke2TyIUCYr"
      },
      "source": [
        "* A linguagem Python possui um modelo de desenvolvimento comunitário, de código aberto e gerenciado pela Python Software Foundation. \n",
        "\n",
        "<img src=\"https://github.com/zz4fap/python-programming/blob/master/figures/psf-logo.png?raw=1\" width=\"500px\">"
      ]
    },
    {
      "cell_type": "markdown",
      "metadata": {
        "id": "fXRUCZdUUCYs"
      },
      "source": [
        "## O que é o Python?\n",
        "\n",
        "* É uma linguagem de programação:\n",
        "    * de **alto nível**: tem uma sintaxe que se aproxima da nossa linguagem escrita e se distancia bastante da linguagem de máquina.    \n",
        "    * **Multi-paradigma**: pois suporta diversos paradigmas de programação como: programação procedural, programação orientada a objetos e programação funcional.\n",
        "    <img src=\"https://github.com/zz4fap/python-programming/blob/master/figures/paradigmas.png?raw=1\" width=\"250px\">\n",
        "    * **Interpretada**: o código fonte é **transformado em uma linguagem intermediária**, que será interpretada pela **máquina virtual** da linguagem quando o programa for executado.\n",
        "    <img src=\"https://github.com/zz4fap/python-programming/blob/master/figures/interpreter2.png?raw=1\" width=\"400px\">\n",
        "    * de **tipagem dinâmica**: isso significa que o interpretador Python infere o tipo de dado de uma variável a partir do tipo do valor sendo atribuído a ela em tempo de execução. Ou seja, não é necessário que o programador defina o tipo de uma variável explicitamente como em C, C++ e Java.\n",
        "    * **Fortemente tipada**: ela proíbe operações que não sejam bem definidas (por exemplo, adicionar um número inteiro a uma string) ao invés de converter automaticamente os valores. Para realizar a operação entre tipos não compatíveis, é necessário converter explicitamente o tipo da variável ou variáveis antes da operação.\n",
        "    * **Multiplataforma**: roda em plataformas Windows, Linux, UNIX, MacOS e até em telefones celulares.\n",
        "    * com **gerenciamento automático de memória**: ela rastreia a utilização de objetos automaticamente e os deleta quando não estão sendo mais utilizados para liberar espaço.\n",
        "    * de uso **gratuito** e de **código aberto**: não é necessário pagar nada e pode-se criar e distribuir novas bibliotecas, modificar/depurar bibliotecas existentes, criar novas funcionalidades e até mesmo modificar a própria linguagem."
      ]
    },
    {
      "cell_type": "markdown",
      "metadata": {
        "id": "Y6xsJx2JUCYt"
      },
      "source": [
        "## Por que Python?\n",
        "\n",
        "* É uma das linguagens mais fáceis de se aprender, com uma **sintaxe clara**, **intuitiva** e **concisa** o que favorece a legibilidade do código fonte e torna a linguagem mais produtiva.\n",
        "* É uma linguagem muito popular e será mais ainda nos próximos anos. \n",
        "\n",
        "<img src=\"https://github.com/zz4fap/python-programming/blob/master/figures/popularidade2.jpg?raw=1\" width=\"400px\">"
      ]
    },
    {
      "cell_type": "markdown",
      "metadata": {
        "id": "xsGq5d9FUCYt"
      },
      "source": [
        "* Grandes empresas usam Python. \n",
        "\n",
        "<img src=\"https://github.com/zz4fap/python-programming/blob/master/figures/empresas.png?raw=1\" width=\"500px\">"
      ]
    },
    {
      "cell_type": "markdown",
      "metadata": {
        "id": "xuqZoEjzUCYu"
      },
      "source": [
        "* Muitos empregos e bons salários.\n",
        "\n",
        "<img src=\"https://github.com/zz4fap/python-programming/blob/master/figures/salaries.jpg?raw=1\" width=\"500px\">"
      ]
    },
    {
      "cell_type": "markdown",
      "metadata": {
        "id": "F65XYqRnUCYv"
      },
      "source": [
        "* Possui um rico ecossistema de bibliotecas. \n",
        "\n",
        "<img src=\"https://github.com/zz4fap/python-programming/blob/master/figures/libraries.png?raw=1\" width=\"500px\">"
      ]
    },
    {
      "cell_type": "markdown",
      "metadata": {
        "id": "HJyyo6pEUCYv"
      },
      "source": [
        "* Muito utilizada no meio científico devido a uma enorme quantidade de bibliotecas específicas para as áreas de engenharia, química, biologia, astrofísica, física, etc.\n",
        "* Python é a linguagem mais usada para o desenvolvimento de aplicações de Machine Learning. \n",
        "\n",
        "<img src=\"https://github.com/zz4fap/python-programming/blob/master/figures/ml.jpg?raw=1\" width=\"200px\">"
      ]
    },
    {
      "cell_type": "markdown",
      "metadata": {
        "id": "MjK0Xm1-UCYw"
      },
      "source": [
        "* Possui um vasto suporte on-line: Tutorials, Videos e StackOverflow. \n",
        "\n",
        "<img src=\"https://github.com/zz4fap/python-programming/blob/master/figures/so-logo.png?raw=1\" width=\"500px\">"
      ]
    },
    {
      "cell_type": "markdown",
      "metadata": {
        "id": "VQazMOSPUCYw"
      },
      "source": [
        "* Python é usada como linguagem educativa para ensino de computação e eletrônica (e.g., Raspberry Pi e LEGO Mindstorms têm suas aplicações desenvolvidas em Python). \n",
        "\n",
        "<img src=\"https://github.com/zz4fap/python-programming/blob/master/figures/raspi-lego.png?raw=1\" width=\"500px\">"
      ]
    },
    {
      "cell_type": "markdown",
      "metadata": {
        "id": "LwjTD1ZoUCYx"
      },
      "source": [
        "## Executando códigos Python na nuvem\n",
        "\n",
        "+ Para evitarmos a instalação de softwares, utilizaremos **aplicações web** para criação de **documentos virtuais**, chamados de **notebooks Jupyter**. \n",
        "+ Os **notebooks Jupyter**  \n",
        "    * permitem a execução de códigos de uma linguagem de programação em navegadores web tais como Google Chrome, Firefox, Microsoft Edge, etc.\n",
        "    * disponibilizam ferramentas para edição de texto, ou seja, nós podemos documentar todo o processo de escrita do código além de podermos criar equações e adicionar imagens. \n",
        "\n",
        "Existem vários ambientes computacionais gratuitos disponíveis para execução dos **notebooks Jupyter** mas, durante nosso curso, usaremos principalmente o **Google Colab** e, quase nunca, o **Binder** para execução do material e resolução de exercícios.\n",
        "\n",
        "### Google Colab e Binder\n",
        "\n",
        "<img src=\"https://github.com/zz4fap/python-programming/blob/master/figures/python_binder_colab.png?raw=1\" width=\"400px\">"
      ]
    },
    {
      "cell_type": "markdown",
      "metadata": {
        "id": "J8ZymgwSUCYx"
      },
      "source": [
        "#### Google Colaboratory\n",
        "\n",
        "* O Google Colaboratory (também conhecido como Google Colab ou apenas Colab) é uma **aplicação web gratuita** que permite a criação e edição de notebooks Jupyter em navegadores web.\n",
        "* É um produto da Google.\n",
        "* Vantagens:\n",
        "    + Grande número de servidores.\n",
        "    + Rápida inicialização e execução do código.\n",
        "    + Disponibiliza GPUs e TPUs gratuitamente.\n",
        "    + Salva seus notebooks no Google Drive.\n",
        "* Desvantagem:\n",
        "    + Até o momento ele suporta apenas a linguagem de programação Python.\n",
        "* Site do Colab: https://colab.research.google.com/"
      ]
    },
    {
      "cell_type": "markdown",
      "metadata": {
        "id": "Aij_OgULUCYx"
      },
      "source": [
        "#### Binder\n",
        "\n",
        "* O Binder é outra aplicação web gratuita que permite a edição e execução de notebooks em navegadores web.\n",
        "* Vantagem:\n",
        "    + Executa códigos escritos em Python, C++, C#, PHP, Ruby, Fortan, Julia e R.\n",
        "* Desvantagens:\n",
        "    + Poucos servidores disponíveis.\n",
        "    + Não é possível salvar os notebooks no Google Drive.\n",
        "    + Depois de algum tempo inativo, a máquina virtual executando seu código se desconecta e você pode perdê-lo. \n",
        "* Site do Projeto Binder/Jupyter: https://jupyter.org/"
      ]
    },
    {
      "cell_type": "markdown",
      "metadata": {
        "id": "inAHlGTOUCYx"
      },
      "source": [
        "### Instalando o Python, Jupyter e outras ferramentas\n",
        "\n",
        "+ O Python, Binder, Jupyter e outras ferramentas e bibliotecas podem ser instaladas através da distribuição Anaconda seguindo o tutorial a seguir:\n",
        "    * [Tutorial para instalação do Anaconda](https://paulovasconcellos.com.br/como-baixar-anaconda-31fd49c19bd8).\n",
        "\n",
        "+ Ou se preferir você pode instalar o ambiente de desenvolvimento Jupyter no VScode: \n",
        "  * [Tutorial para instalação do Anaconda](https://code.visualstudio.com/docs/datascience/jupyter-notebooks).\n",
        "    \n",
        "**OBS**.: Infelizmente, o Google Colab não pode ser instalado localmente.\n",
        "\n"
      ]
    },
    {
      "cell_type": "markdown",
      "metadata": {
        "id": "G2h4586XUCYy"
      },
      "source": [
        "## Exemplo com conceitos básicos\n",
        "\n",
        "O exemplo na **célula de código** abaixo apresenta alguns conceitos básicos da linguagem Python através da **definição e uso de uma função**."
      ]
    },
    {
      "cell_type": "code",
      "execution_count": null,
      "metadata": {
        "id": "2KCEWnEzUCYy"
      },
      "outputs": [],
      "source": [
        "# Usamos a cerquilha para criar comentários de uma linha.\n",
        "\n",
        "# Podemos criar comentários de VÁRIAS linhas usando 3 aspas SIMPLES ou DUPLAS.\n",
        "\n",
        "'''\n",
        "Para definirmos uma função, seu cabeçalho deve ter:\n",
        "     1. a palavra reservada 'def', \n",
        "     2. seguida do nome da função,\n",
        "     3. uma lista de parâmetros de entrada separados por vírgulas (podemos ter nenhum parâmetro),\n",
        "     4. e dois pontos para definir o início do corpo da função.\n",
        "''' \n",
        "def minhaFunção(parâmetroDeEntrada1, parâmetroDeEntrada2):\n",
        "    \"\"\"\n",
        "    Comentários de várias linhas LOGO APÓS o cabeçalho são chamados de 'docstrings'.\n",
        "    'docstrings' são strings (texto) usado para documentar o código.\n",
        "    Exemplo de docstring: Esta função 'soma' os dois parâmetros de entrada e retorna o resultado.\n",
        "    \"\"\"\n",
        "    # Realiza uma operação e atribui o valor a uma variável.\n",
        "    valorDeRetorno = parâmetroDeEntrada1 + parâmetroDeEntrada2\n",
        "    # Retorna o valor da operação para quem invocou a função usando a palavra reservada 'return'.\n",
        "    return valorDeRetorno"
      ]
    },
    {
      "cell_type": "markdown",
      "metadata": {
        "id": "3V_EjPNjUCYz"
      },
      "source": [
        "**OBSERVAÇÕES**: \n",
        "\n",
        "+ Percebam que o corpo da função está recuado à direita em relação ao início do cabeçalho.\n",
        "+ Na célula de código acima, realizamos **apenas a definição da função**. A função será executada apenas quando for chamada com valores de entrada para seus parâmetros, caso existam.\n",
        "+ A definição da função e sua chamada **não precisam estar na mesma célula de código**.\n",
        "+ Variáveis, objetos e funções persistem entre células de um mesmo notebook, ou seja, depois que uma célula de código é executada, o código definido na célula fica acessível em qualquer outra célula."
      ]
    },
    {
      "cell_type": "markdown",
      "metadata": {
        "id": "rnd2XHtYUCYz"
      },
      "source": [
        "### Importante\n",
        "\n",
        "&rarr; No código abaixo, percebam que **não há definição explícita do tipo das variáveis**.\n",
        "\n",
        "&rarr; Nós simplesmente atribuímos valores às variáveis e o interpretador infere o tipo da variável."
      ]
    },
    {
      "cell_type": "code",
      "execution_count": null,
      "metadata": {
        "id": "3CCz_Yo4UCYz",
        "outputId": "2059af45-6a17-4e3f-d007-7de56f7fcf1a",
        "colab": {
          "base_uri": "https://localhost:8080/"
        }
      },
      "outputs": [
        {
          "output_type": "stream",
          "name": "stdout",
          "text": [
            "Resultado é: guarda-chuva\n"
          ]
        }
      ],
      "source": [
        "# Atribuindo valores às variáveis que serão passadas como argumentos de entrada para a função.\n",
        "# Percebam que não há definição explícita do tipo das variáveis.\n",
        "# O interpretador infere que as variáveis são do tipo String.\n",
        "variável1 = 'guarda'\n",
        "variável2 = '-chuva'\n",
        "\n",
        "# Invocando a função e atribuindo o valor de retorno a uma variável.\n",
        "retorno = minhaFunção(variável1, variável2)\n",
        "\n",
        "# Imprimindo o valor de retorno da função.\n",
        "print('Resultado é:', retorno)"
      ]
    },
    {
      "cell_type": "code",
      "execution_count": null,
      "metadata": {
        "id": "e4k2_736UCY0",
        "outputId": "08b1bcbb-06ff-41a1-d61d-9aacca34fd69",
        "colab": {
          "base_uri": "https://localhost:8080/"
        }
      },
      "outputs": [
        {
          "output_type": "stream",
          "name": "stdout",
          "text": [
            "Resultado é: 3\n"
          ]
        }
      ],
      "source": [
        "# O interpretador infere que as variáveis são do tipo Integer.\n",
        "variável1 = 1\n",
        "variável2 = 2\n",
        "\n",
        "# Invocando a função e atribuindo o valor de retorno a uma variável.\n",
        "retorno = minhaFunção(variável1, variável2)\n",
        "\n",
        "# Imprimindo o valor de retorno da função.\n",
        "print('Resultado é:', retorno)"
      ]
    },
    {
      "cell_type": "code",
      "execution_count": null,
      "metadata": {
        "id": "dUtkkdmiUCY1",
        "outputId": "f2732b00-1fc1-4fab-b583-cf16e430a73f",
        "colab": {
          "base_uri": "https://localhost:8080/"
        }
      },
      "outputs": [
        {
          "output_type": "stream",
          "name": "stdout",
          "text": [
            "Resultado é: 4.0\n"
          ]
        }
      ],
      "source": [
        "# O interpretador infere que as variáveis são do tipo Float.\n",
        "variável1 = 2.5\n",
        "variável2 = 1.5\n",
        "\n",
        "# Invocando a função e atribuindo o valor de retorno a uma variável.\n",
        "retorno = minhaFunção(variável1, variável2)\n",
        "\n",
        "# Imprimindo o valor de retorno da função.\n",
        "print('Resultado é:', retorno)"
      ]
    },
    {
      "cell_type": "markdown",
      "metadata": {
        "id": "Xh7BujioUCY1"
      },
      "source": [
        "### Após analisarmos o código acima, quais diferenças podemos perceber para outras linguagens de programação?\n",
        "\n",
        "* Não há declaração dos tipos das variáveis.\n",
        "* Não é necessário abrir e fechar chaves (`{}`) para delimitar o corpo da função.\n",
        "* O corpo da função é delimitado através do recuo (indentação).\n",
        " + **A indentação é obrigatória (tabulações ou espaços) e deve ser feita de maneira correta!**\n",
        "* Não é necessário ponto e vírgula ao final de cada instrução (`;`). \n",
        "* Strings são codificadas através do padrão Unicode (UTF-8)\n",
        " + Isso significa que podemos ter acentos no código.\n",
        "* A palavra reservada `def` indica ao interpretador que estamos **def**inindo uma função.\n",
        "* O início do corpo de uma função é definido pelos dois pontos (`:`).\n",
        "* O tipo das variáveis muda dinâmicamente."
      ]
    },
    {
      "cell_type": "markdown",
      "source": [
        "# Tipos de dados, operadores aritméticos, modulos, pacotes, strings e mensagens de erro\n",
        "\n",
        "Nesta aula, nós veremos os seguintes tópicos:\n",
        "\n",
        "* Tipos de dados.\n",
        "* Operadores aritméticos.\n",
        "* Módulos e pacotes.\n",
        "* Manipulação de cadeias de caracteres (Strings).\n",
        "* Mensagens de erro."
      ],
      "metadata": {
        "id": "87WEblmoiQ18"
      }
    },
    {
      "cell_type": "markdown",
      "source": [
        "## Tipos de dados\n",
        "\n",
        "Em Python, temos os seguintes tipos de **dados nativos** (também chamados de **embutidos**, do Inglês **built-in**):\n",
        "\n",
        "|  Categoria |   Nome  |         Descrição        |\n",
        "|:----------:|:-------:|:------------------------:|\n",
        "|  Numérica  |   int   |         Inteiros         |\n",
        "|            |  float  |      Ponto flutuante     |\n",
        "|            | complex |      Número complexo     |\n",
        "|            |   bool  | Boolean (True ou false)  |\n",
        "| Sequencial |   str   |   String de caracteres   |\n",
        "|            |   list  |           Lista          |\n",
        "|            |  tuple  |           Tupla          |\n",
        "|            |  range  |   Intervalo de valores   |\n",
        "|  Conjunto  |   set   |     Conjunto             |\n",
        "|            | frozenset |       Conjunto imutável                 |\n",
        "| Mapeamento |   dict  |     Dicionário           |\n",
        "| Nula       | NoneType | Valor nulo |\n",
        "\n",
        "**OBS**.: Esses tipos de dados são chamados de **embutidos** pois são pré-definidos pela linguagem e estão sempre disponíveis em tempo de execução, sem a necessidade de se importar nenhuma biblioteca.\n",
        "\n",
        "Esses tipos de dados são **objetos** com métodos e atributos, pois em Python, tudo é objeto.\n",
        "\n",
        "Relembrando, em Python, as variáveis **NÃO**:\n",
        "\n",
        "* Precisam ser declaradas ou definidas com antecedência. \n",
        "    + Para criar uma variável, basta atribuir um valor a ela.\n",
        "* Podem ser utilizadas em uma expressão sem terem sido inicializadas.\n",
        "    + O interpretador precisa de uma atribuição de valor para inferir o tipo da variável.\n",
        "* São estáticas, como em outras linguagens de programação.\n",
        "    + Tipo da variável pode mudar dinamicamente.\n",
        "* Precisam ser destruídas explicitamente.\n",
        "    + O gerenciador de memória as deleta automaticamente quando não existem mais referências a elas.\n",
        "    \n",
        "Além disso, os tipos de dados em Python podem ser:\n",
        "\n",
        "+ **Mutáveis**: permitem que os conteúdos das variáveis sejam alterados.\n",
        "+ **Imutáveis**: não permitem que os conteúdos das variáveis sejam alterados.\n",
        "\n",
        "### Exemplos\n",
        "\n",
        "#### Tipagem dinâmica.\n",
        "\n",
        "**OBS**.: \n",
        "\n",
        "+ Nos próximos exemplos, usamos a **função embutida** `type()` para verificar o tipo das variáveis em tempo de execução.\n",
        "+ Usamos **caracteres de formatação** com a **função embutida** `print()`, onde por exemplo `%s` é substituído por uma string, `%d`, por um valor interiro e assim por diante. Vejam o exemplo abaixo:\n",
        "```python\n",
        "print('String: %s, Inteiro: %d, Float: %f' % (var_string, var_int, var_float))\n",
        "```"
      ],
      "metadata": {
        "id": "qSVf3mgNiWpZ"
      }
    },
    {
      "cell_type": "code",
      "source": [
        "# A variável 'a' recebe o valor inteiro 1.\n",
        "a = 1\n",
        "# OBS.: type() é uma função embutida que retorna o tipo de um objeto.\n",
        "print('type(a): %s - valor de a: %d' % (type(a), a))\n",
        "\n",
        "# Agora, a mesma variável 'a' recebe a string 'teste'.\n",
        "a = 'teste'\n",
        "print('type(a): %s - valor de a: %s' % (type(a), a))"
      ],
      "metadata": {
        "id": "8QgHZUJ-iSqB"
      },
      "execution_count": null,
      "outputs": []
    },
    {
      "cell_type": "markdown",
      "source": [
        "#### Uso sem inicialização da variável."
      ],
      "metadata": {
        "id": "AOOimayKjfT6"
      }
    },
    {
      "cell_type": "code",
      "source": [
        "# Tentando imprimir o valor da variável 'b', a qual não foi inicializada.\n",
        "#print('O valor de b é', b)"
      ],
      "metadata": {
        "id": "SRmq_7K7jcUE"
      },
      "execution_count": 1,
      "outputs": []
    },
    {
      "cell_type": "markdown",
      "source": [
        "#### Tipos imutáveis e mutáveis.\n",
        "\n",
        "Strings são objetos **imutáveis**, ou seja, são objetos apenas para leitura. \n",
        "\n",
        "Depois de instanciarmos um objeto do tipo String, não podemos alterar seu conteúdo, apenas lê-lo."
      ],
      "metadata": {
        "id": "PqHy7VgRjjWO"
      }
    },
    {
      "cell_type": "markdown",
      "source": [
        "Listas são objetos **mutáveis**.\n",
        "\n",
        "Depois de instanciarmos um objeto do tipo Lista, podemos lê-lo e alterar seu conteúdo."
      ],
      "metadata": {
        "id": "JUjS_CXbjjb9"
      }
    },
    {
      "cell_type": "code",
      "source": [
        "# Inicializando uma variável com um objeto do tipo lista.\n",
        "l = ['c','a','s','a']\n",
        "print('type(l): %s - valor de l: %s' % (type(l), l))\n",
        "\n",
        "# Podemos ler o conteúdo da string.\n",
        "print('\\nConteúdo do primeiro elemento da lista:', l[0])\n",
        "\n",
        "# Alterando um caracter de um objeto do tipo lista.\n",
        "l[0] = 't'\n",
        "print('\\ntype(l): %s - valor de l: %s' % (type(l), l))"
      ],
      "metadata": {
        "colab": {
          "base_uri": "https://localhost:8080/"
        },
        "id": "Wqk1Q-eOjh_1",
        "outputId": "e7db4bb5-f1c4-4df7-bc84-8b4dbe188f74"
      },
      "execution_count": 2,
      "outputs": [
        {
          "output_type": "stream",
          "name": "stdout",
          "text": [
            "type(l): <class 'list'> - valor de l: ['c', 'a', 's', 'a']\n",
            "\n",
            "Conteúdo do primeiro elemento da lista: c\n",
            "\n",
            "type(l): <class 'list'> - valor de l: ['t', 'a', 's', 'a']\n"
          ]
        }
      ]
    },
    {
      "cell_type": "code",
      "source": [
        "# Inicializando uma variável com um objeto do tipo string.\n",
        "a = 'casa'\n",
        "print('type(a): %s - valor de a: %s' % (type(a), a))\n",
        "\n",
        "# Podemos ler o conteúdo da string.\n",
        "print('\\nConteúdo do primeiro elemento da string:', a[0])\n",
        "\n",
        "# Tentando alterar um caracter de um objeto do tipo string.\n",
        "a = list(a)\n",
        "\n",
        "a[0] = 'T'\n",
        "\n",
        "a = ''.join(a)\n",
        "\n",
        "a"
      ],
      "metadata": {
        "colab": {
          "base_uri": "https://localhost:8080/",
          "height": 87
        },
        "id": "uXfiao0wjruM",
        "outputId": "f3a20413-bbc4-47c3-b95e-7f0eaf023c24"
      },
      "execution_count": 3,
      "outputs": [
        {
          "output_type": "stream",
          "name": "stdout",
          "text": [
            "type(a): <class 'str'> - valor de a: casa\n",
            "\n",
            "Conteúdo do primeiro elemento da string: c\n"
          ]
        },
        {
          "output_type": "execute_result",
          "data": {
            "text/plain": [
              "'Tasa'"
            ],
            "application/vnd.google.colaboratory.intrinsic+json": {
              "type": "string"
            }
          },
          "metadata": {},
          "execution_count": 3
        }
      ]
    },
    {
      "cell_type": "markdown",
      "source": [
        "## Operadores Aritméticos\n",
        "\n",
        "Em Python, temos os seguintes operadores aritméticos:\n",
        "\n",
        "| Operador |       Nome      |  Exemplo | Resultado | Comentário          |\n",
        "|:--------:|:---------------:|:--------:|:---------:|:-------------------:|\n",
        "|     +    |      Adição     |   1 + 1  |     2     | retorna a soma de dois valores                    |\n",
        "|     -    |    Subtração    |   2 - 1  |     1     | retorna a subtração de dois valores                    |\n",
        "|     *    |  Multiplicação  |   2 * 2  |     4     | retorna a multiplicação de dois valores                     |\n",
        "|     /    |     Divisão     |  100 / 4 |    25.0   | retorna a divisão em ponto flutuante de dois valores | \n",
        "|    **    |  Exponenciação  |  2 ** 3  |     8     | retorna o resultado de número elevado à potência do outro                    |\n",
        "|    //    | Divisão inteira | 5 // 3 |     1    | retorna apenas a parte inteira (quociente) da divisão entre dois valores                    |\n",
        "|     %    |      Módulo     |   5 % 3  |     2     | retorna o resto da divisão entre dois valores                    |\n",
        "\n",
        "\n",
        "### Ordem de precedência dos  operadores\n",
        "\n",
        "* A tabela a seguir apresenta a ordem de precedência dos operadores aritméticos, **da mais alta para a mais baixa**.\n",
        "* Esta tabela será atualizada quando aprendermos outros operadores.\n",
        "\n",
        "|   Precedência   |           Categoria           |  Operadores |               Comentário              |\n",
        "|:---------:|:-----------------------------:|:-----------:|:-------------------------------------:|\n",
        "|  4 (alta) |           parênteses          |      ()     |                                       |\n",
        "|     3     |            expoente           |      **     |                                       |\n",
        "|     2     | multiplicação, divisão, resto | *, /, //, % | Aplicados da esquerda para a direita na ordem em que aparecem na expressão. |\n",
        "| 1 (baixa) |       adição, subtração       |     +, -    | Aplicados da esquerda para a direita na ordem em que aparecem na expressão. |\n",
        "\n",
        "**IMPORTANTE**: Operadores com mesmo nível de precedência são aplicados da **esquerda para a direita** na ordem em que aparecem na expressão.\n",
        "\n",
        "### Exemplos"
      ],
      "metadata": {
        "id": "ymh5-idUjwAB"
      }
    },
    {
      "cell_type": "code",
      "source": [
        "# A multiplicação tem ordem de precedência maior do que a subtração.\n",
        "a = 10 - 4 * 2\n",
        "\n",
        "print('O resultado é:', a)"
      ],
      "metadata": {
        "colab": {
          "base_uri": "https://localhost:8080/"
        },
        "id": "7FVYMhdSjukM",
        "outputId": "8e506079-fc1e-4db9-8d8a-29bea4140582"
      },
      "execution_count": 4,
      "outputs": [
        {
          "output_type": "stream",
          "name": "stdout",
          "text": [
            "O resultado é: 2\n"
          ]
        }
      ]
    },
    {
      "cell_type": "code",
      "source": [
        "# Os parênteses têm a mais alta ordem de precedência.\n",
        "a = (10 - 4) * 2\n",
        "\n",
        "print('O resultado é:', a)"
      ],
      "metadata": {
        "colab": {
          "base_uri": "https://localhost:8080/"
        },
        "id": "15Y9W9DUj5O4",
        "outputId": "73c7d461-1f56-435c-d37e-7d808e33d8d8"
      },
      "execution_count": 5,
      "outputs": [
        {
          "output_type": "stream",
          "name": "stdout",
          "text": [
            "O resultado é: 12\n"
          ]
        }
      ]
    },
    {
      "cell_type": "code",
      "source": [
        "# Operadores com mesma ordem precedência são aplicados da esquerda para a direita conforme aparecem na expressão.\n",
        "a = 5 // 2 * 4 / 8\n",
        "\n",
        "print('O resultado é:', a)"
      ],
      "metadata": {
        "colab": {
          "base_uri": "https://localhost:8080/"
        },
        "id": "O4lpKRCkj6y8",
        "outputId": "7a3a9130-a7ca-44de-bb23-5923b760ea0e"
      },
      "execution_count": 6,
      "outputs": [
        {
          "output_type": "stream",
          "name": "stdout",
          "text": [
            "O resultado é: 1.0\n"
          ]
        }
      ]
    },
    {
      "cell_type": "markdown",
      "source": [
        "## Módulos e pacotes\n",
        "\n",
        "### Módulos\n",
        "\n",
        "* Em Python, um **módulo nada mais é do que um arquivo** que contém o código que implementa **funcionalidades específicas e relacionadas**.\n",
        "    + Um módulo pode conter um conjunto de funções, classes, variáveis, etc.\n",
        "    + Por exemplo, em um jogo de vídeo game, um módulo de som é responsável pelo processamento de audio e outro módulo, imagem, pelo processamento de imagens.\n",
        "* Cada módulo é um arquivo diferente, que pode ser editado separadamente.\n",
        "* Módulos são arquivos com extensão `.py`.\n",
        "* Para usarmos as funcionalidades contidas em um módulo, nós o importamos.\n",
        "* Para importar, usamos o nome do módulo.\n",
        "* O nome do módulo é o **nome do arquivo sem a extensão `.py`**.\n",
        "    + Por exemplo, o arquivo `processamento.py` é um módulo, cujo nome é  `processamento`."
      ],
      "metadata": {
        "id": "oE-b-7FDj_F1"
      }
    },
    {
      "cell_type": "markdown",
      "source": [
        "* Os módulos são importados usando-se a **palavra reservada** `import`.\n",
        "```python\n",
        "import processamento\n",
        "processamento.playVideo()\n",
        "```\n",
        "\n",
        "* Para deixar o código mais conciso, podemos criar um **apelido** ao importar um módulo, usando a **palavra reservada** `as`.\n",
        "```python\n",
        "import processamento as p\n",
        "p.playVideo()\n",
        "```\n",
        "\n",
        "* Podemos também optar por importar apenas partes de um módulo (por exemplo, apenas uma função), usando a **palavra reservada** `from`.\n",
        "```python\n",
        "from processamento import playVideo\n",
        "playVideo()\n",
        "```\n",
        "\n",
        "* Podemos importar mais de uma parte do módulo usando vírgulas.\n",
        "```python\n",
        "from processamento import playVideo, playAudio\n",
        "playVideo()\n",
        "playAudio()\n",
        "```"
      ],
      "metadata": {
        "id": "nRFAIP2AkF_3"
      }
    },
    {
      "cell_type": "markdown",
      "source": [
        "### Pacotes\n",
        "\n",
        "* Pacotes são simplesmente **diretórios** onde podemos ter módulos e/ou pacotes.\n",
        "* São usados para estruturar o código.\n",
        "* Pacotes podem conter outros pacotes e módulos.\n",
        "* O nome de um pacote é o nome do diretório contendo módulos ou outros pacotes.\n",
        "* Pacotes são importados da mesma maneira que módulos, ou seja, usando a **palavra reservada** `import`.\n",
        "\n",
        "**Exemplo**\n",
        "\n",
        "<img src=\"https://github.com/zz4fap/python-programming/blob/master/figures/modulos_e_pacotes.png?raw=1\" width=\"500px\">"
      ],
      "metadata": {
        "id": "_w9yhrjEkIam"
      }
    },
    {
      "cell_type": "markdown",
      "source": [
        "#### Exemplos\n",
        "\n",
        "#### Importando um módulo já existente.\n",
        "\n",
        "+ O módulo `math` é um módulo que contém a implementação de várias funções matemáticas como raíz quadrada, logaritmo, seno, cosseno, etc.\n",
        "+ Para saber mais sobre as várias funções implementadas pelo módulo, acesse: https://docs.python.org/3/library/math.html"
      ],
      "metadata": {
        "id": "cmiURCwVkL8Y"
      }
    },
    {
      "cell_type": "code",
      "source": [
        "# Importa todo o conteúdo do módulo math.\n",
        "import math \n",
        "\n",
        "# Executa a função sqrt(), que é parte do módulo math.\n",
        "# Precisamos sempre especificar o caminho até a função.\n",
        "print('O resultado da raíz quadrada é:', math.sqrt(25))\n",
        "\n",
        "# Criando um apelido para o módulo math.\n",
        "import math as m\n",
        "print('O resultado da raíz quadrada é:', m.sqrt(49))\n",
        "\n",
        "# Importando apenas a função sqrt() do módulo math.\n",
        "from math import sqrt\n",
        "print('O resultado da raíz quadrada é:', sqrt(100))"
      ],
      "metadata": {
        "colab": {
          "base_uri": "https://localhost:8080/"
        },
        "id": "AcieVuRcj8XH",
        "outputId": "663757a3-1c3e-4765-f05e-5d2edd5af4ed"
      },
      "execution_count": 7,
      "outputs": [
        {
          "output_type": "stream",
          "name": "stdout",
          "text": [
            "O resultado da raíz quadrada é: 5.0\n",
            "O resultado da raíz quadrada é: 7.0\n",
            "O resultado da raíz quadrada é: 10.0\n"
          ]
        }
      ]
    },
    {
      "cell_type": "markdown",
      "source": [
        "#### Criando e importanto meu próprio módulo.\n",
        "\n",
        "+ Vamos criar um módulo, ou seja, um arquivo, chamado `meu_modulo.py`.\n",
        "+ Este módulo deve conter uma função chamada `soma`, a qual recebe dois valores de entrada e retorna a soma deles.\n",
        "\n",
        "**OBS**.: O arquivo contendo as funcionalidades do módulo deve ter a extensão `.py`."
      ],
      "metadata": {
        "id": "Fz2qQ0KHkSEc"
      }
    },
    {
      "cell_type": "code",
      "source": [
        "#Você precisa criar um arquivo.py com as operações.\n",
        "import meu_modulo\n",
        "\n",
        "print('Resultado:', meu_modulo.soma(1,1))\n",
        "\n",
        "import meu_modulo as mm\n",
        "\n",
        "print('Resultado:', mm.soma(1,2))\n",
        "\n",
        "from meu_modulo import soma\n",
        "\n",
        "print('Resultado:', soma(2,2))"
      ],
      "metadata": {
        "id": "vctT290BkQGz"
      },
      "execution_count": null,
      "outputs": []
    },
    {
      "cell_type": "markdown",
      "source": [
        "#### Criando e importanto módulos do meu próprio pacote.\n",
        "\n",
        "+ Vamos criar um pacote ou seja, um diretório, chamado `meu_pacote`.\n",
        "+ Este pacote deve conter dois arquivos, chamados `moduloA.py` e `moduloB.py`, os quais contêm as funcionalidades dos módulos `moduloA` e `moduloB`.\n",
        "+ O `móduloA` contém uma função chamada `multiplicação`, que recebe dois valores de entrada e retorna o produto entre eles.\n",
        "+ O `móduloB` contém uma função chamada `subtração`, que recebe dois valores de entrada e retorna a diferença entre eles."
      ],
      "metadata": {
        "id": "jNLRfthFkb8-"
      }
    },
    {
      "cell_type": "code",
      "source": [
        "import meu_pacote.moduloA\n",
        "\n",
        "print('Resultado:', meu_pacote.moduloA.multiplicação(2,2))\n",
        "\n",
        "import meu_pacote.moduloA as ma\n",
        "\n",
        "print('Resultado:', ma.multiplicação(2,3))\n",
        "\n",
        "from meu_pacote.moduloA import multiplicação\n",
        "\n",
        "print('Resultado:', ma.multiplicação(3,3))\n",
        "\n",
        "import meu_pacote.moduloB as mb\n",
        "\n",
        "print('Resultado:', mb.subtração(2,2))"
      ],
      "metadata": {
        "id": "TgE0y5eDkUq_"
      },
      "execution_count": null,
      "outputs": []
    },
    {
      "cell_type": "markdown",
      "source": [
        "## Manipulação de cadeias de caracteres (strings)\n",
        "\n",
        "* Strings são sequências de caracteres.\n",
        "* Em Python, strings são cercadas por **aspas simples** ou **aspas duplas**.\n",
        "* O Python não possui um tipo de dados de caractere. \n",
        "    + Um único caractere é simplesmente uma string com o comprimento igual a 1.\n",
        "* Em Python, uma string é representada pelo tipo (ou classe) `str`.\n",
        "* Strings são tipos de dados imutáveis.\n",
        "    \n",
        "### Exemplos\n",
        "\n",
        "#### Strings são cercadas por aspas simples ou duplas."
      ],
      "metadata": {
        "id": "h3s82suxkiO5"
      }
    },
    {
      "cell_type": "code",
      "source": [
        "# As duas formas são equivalentes.\n",
        "print(\"Olá\")\n",
        "print('Olá')"
      ],
      "metadata": {
        "colab": {
          "base_uri": "https://localhost:8080/"
        },
        "id": "7Mku2lbMkgbB",
        "outputId": "7a12f951-9ebc-4c23-f59e-9ddb046cee04"
      },
      "execution_count": 10,
      "outputs": [
        {
          "output_type": "stream",
          "name": "stdout",
          "text": [
            "Olá\n",
            "Olá\n"
          ]
        }
      ]
    },
    {
      "cell_type": "markdown",
      "source": [
        "#### Python não possui um tipo char.\n"
      ],
      "metadata": {
        "id": "UO62ilFukqDd"
      }
    },
    {
      "cell_type": "code",
      "source": [
        "var1 = 'a'\n",
        "print('type(var1):', type(var1))\n",
        "\n",
        "var2 = \"b\"\n",
        "print('type(var2):', type(var2))\n",
        "\n",
        "var3 = 'Descomplica'\n",
        "print('type(var3):', type(var3))"
      ],
      "metadata": {
        "colab": {
          "base_uri": "https://localhost:8080/"
        },
        "id": "AKFsnZP0kni_",
        "outputId": "1b558e5c-73d8-4348-8546-fad21b57cc86"
      },
      "execution_count": 11,
      "outputs": [
        {
          "output_type": "stream",
          "name": "stdout",
          "text": [
            "type(var1): <class 'str'>\n",
            "type(var2): <class 'str'>\n",
            "type(var3): <class 'str'>\n"
          ]
        }
      ]
    },
    {
      "cell_type": "markdown",
      "source": [
        "#### Strings são imutáveis!"
      ],
      "metadata": {
        "id": "eXi3u1Qcktf8"
      }
    },
    {
      "cell_type": "code",
      "source": [
        "string = 'Olá'\n",
        "\n",
        "# Tentando alterar o caracter da primeira posição.\n",
        "string[0] = 'b'\n",
        "\n",
        "#Vai dar erro!"
      ],
      "metadata": {
        "colab": {
          "base_uri": "https://localhost:8080/",
          "height": 235
        },
        "id": "AoLDo-cPksh7",
        "outputId": "f0e2046c-60c2-4f31-afd9-8c5ec531f55a"
      },
      "execution_count": 14,
      "outputs": [
        {
          "output_type": "error",
          "ename": "TypeError",
          "evalue": "ignored",
          "traceback": [
            "\u001b[0;31m---------------------------------------------------------------------------\u001b[0m",
            "\u001b[0;31mTypeError\u001b[0m                                 Traceback (most recent call last)",
            "\u001b[0;32m<ipython-input-14-e2746596781a>\u001b[0m in \u001b[0;36m<cell line: 4>\u001b[0;34m()\u001b[0m\n\u001b[1;32m      2\u001b[0m \u001b[0;34m\u001b[0m\u001b[0m\n\u001b[1;32m      3\u001b[0m \u001b[0;31m# Tentando alterar o caracter da primeira posição.\u001b[0m\u001b[0;34m\u001b[0m\u001b[0;34m\u001b[0m\u001b[0m\n\u001b[0;32m----> 4\u001b[0;31m \u001b[0mstring\u001b[0m\u001b[0;34m[\u001b[0m\u001b[0;36m0\u001b[0m\u001b[0;34m]\u001b[0m \u001b[0;34m=\u001b[0m \u001b[0;34m'b'\u001b[0m\u001b[0;34m\u001b[0m\u001b[0;34m\u001b[0m\u001b[0m\n\u001b[0m\u001b[1;32m      5\u001b[0m \u001b[0;34m\u001b[0m\u001b[0m\n\u001b[1;32m      6\u001b[0m \u001b[0;31m#Vai dar erro!\u001b[0m\u001b[0;34m\u001b[0m\u001b[0;34m\u001b[0m\u001b[0m\n",
            "\u001b[0;31mTypeError\u001b[0m: 'str' object does not support item assignment"
          ]
        }
      ]
    },
    {
      "cell_type": "markdown",
      "source": [
        "#### Strings com múltiplas linhas."
      ],
      "metadata": {
        "id": "jwTkP_pHliiQ"
      }
    },
    {
      "cell_type": "code",
      "source": [
        "a = \"\"\"Lorem ipsum dolor sit amet,\n",
        "consectetur adipiscing elit,\n",
        "sed do eiusmod tempor incididunt\n",
        "ut labore et dolore magna aliqua.\"\"\"\n",
        "\n",
        "print(a)"
      ],
      "metadata": {
        "colab": {
          "base_uri": "https://localhost:8080/"
        },
        "id": "GWJ7KhBfkxGl",
        "outputId": "baa15098-b8bd-4898-b419-28c03a81c046"
      },
      "execution_count": 15,
      "outputs": [
        {
          "output_type": "stream",
          "name": "stdout",
          "text": [
            "Lorem ipsum dolor sit amet,\n",
            "consectetur adipiscing elit,\n",
            "sed do eiusmod tempor incididunt\n",
            "ut labore et dolore magna aliqua.\n"
          ]
        }
      ]
    },
    {
      "cell_type": "code",
      "source": [
        "a = '''Lorem ipsum dolor sit amet,\n",
        "consectetur adipiscing elit,\n",
        "sed do eiusmod tempor incididunt\n",
        "ut labore et dolore magna aliqua.'''\n",
        "\n",
        "print(a)"
      ],
      "metadata": {
        "colab": {
          "base_uri": "https://localhost:8080/"
        },
        "id": "5KcG9JLKlkcF",
        "outputId": "d18242d6-615c-4651-a32f-b9746d58deea"
      },
      "execution_count": 16,
      "outputs": [
        {
          "output_type": "stream",
          "name": "stdout",
          "text": [
            "Lorem ipsum dolor sit amet,\n",
            "consectetur adipiscing elit,\n",
            "sed do eiusmod tempor incididunt\n",
            "ut labore et dolore magna aliqua.\n"
          ]
        }
      ]
    },
    {
      "cell_type": "markdown",
      "source": [
        "#### Strings podem ser concatenadas com o sinal +.\n"
      ],
      "metadata": {
        "id": "7y0OCxkclqGs"
      }
    },
    {
      "cell_type": "code",
      "source": [
        "str1 = \"C126\"\n",
        "str2 = \" - \"\n",
        "str3 = \"Programação em Python\"\n",
        "\n",
        "str4 = str1 + str2 + str3\n",
        "\n",
        "# Imprimindo o resultado da concatenação.\n",
        "print(str4)"
      ],
      "metadata": {
        "colab": {
          "base_uri": "https://localhost:8080/"
        },
        "id": "eZafJOnIlly8",
        "outputId": "1c80ae73-9fb8-43b1-fb6c-f96ea932d30c"
      },
      "execution_count": 17,
      "outputs": [
        {
          "output_type": "stream",
          "name": "stdout",
          "text": [
            "C126 - Programação em Python\n"
          ]
        }
      ]
    },
    {
      "cell_type": "markdown",
      "source": [
        "#### Quando concatenamos uma string com um número, precisamos fazer uma conversão explícita.\n",
        "\n",
        "**OBS**.: \n",
        "\n",
        "+ Lembrem-se que Python é uma linguagem **fortemente tipada** e que conversões entre tipos precisam ser explícitas.\n",
        "+ A **função embutida** `str()` converte um número em string."
      ],
      "metadata": {
        "id": "JmN0aM2VluzS"
      }
    },
    {
      "cell_type": "code",
      "source": [
        "# A função embutida `str()` converte um número em string. \n",
        "str1 = \"O valor de pi é aproximadamente \" + str(3.14)\n",
        "\n",
        "# Imprimindo o resultado da concatenação.\n",
        "print(str1)"
      ],
      "metadata": {
        "colab": {
          "base_uri": "https://localhost:8080/"
        },
        "id": "fSl5m20ilsLO",
        "outputId": "109c4b74-6fd7-4b95-b7fb-0d3e4df13e82"
      },
      "execution_count": 18,
      "outputs": [
        {
          "output_type": "stream",
          "name": "stdout",
          "text": [
            "O valor de pi é aproximadamente 3.14\n"
          ]
        }
      ]
    },
    {
      "cell_type": "markdown",
      "source": [
        "#### Funções e métodos mais usados da classe string\n",
        "\n",
        "|   Função  |  Tipo  |                               Descrição                               |\n",
        "|:---------:|:------:|:---------------------------------------------------------------------:|\n",
        "|   len()   | função |           retorna o tamanho da string em número de caracteres.          |\n",
        "|   str()   | função |                           converte o objeto em string.                          |\n",
        "|  lower()  | método |              transforma toda a string para caixa baixa.               |\n",
        "|  upper()  | método |              transforma toda a string para caixa alta.              |\n",
        "| isalpha() | método |retorna True se a string contiver apenas caracteres que representam letras, caso contrário retorna False.|\n",
        "| isdigit() | método |retorna True se a string contiver apenas caracteres que representam números, caso contrário, retorna False.|\n",
        "|  strip()  | método |     remove os espaços em branco do começo e do final da string.      |\n",
        "| replace() | método |                substitui uma string por outra string.                |\n",
        "|  split()  | método |divide a string em substrings se encontrar ocorrências do separador. |\n",
        "\n",
        "### Exemplos\n",
        "\n",
        "Alguns exemplos de uso desses métodos seguem abaixo."
      ],
      "metadata": {
        "id": "b_AGGkNJl0RW"
      }
    },
    {
      "cell_type": "code",
      "source": [
        "print('Comprimento da string:', len(\"Descomplica\"))\n",
        "\n",
        "print(\"Pi:\", str(3.1415))\n",
        "\n",
        "print(\"Caixa baixa:\", \"DESCOMPLICA\".lower())\n",
        "\n",
        "string = \"Descomplica\"\n",
        "print(\"Caixa alta:\", string.upper())\n",
        "\n",
        "print(\"A string contém apenas letras?\", \"ws34rt\".isalpha())"
      ],
      "metadata": {
        "colab": {
          "base_uri": "https://localhost:8080/"
        },
        "id": "F_kBqqOJlxPy",
        "outputId": "412c7d01-999d-401b-c625-81a09ebf27d1"
      },
      "execution_count": 19,
      "outputs": [
        {
          "output_type": "stream",
          "name": "stdout",
          "text": [
            "Comprimento da string: 8\n",
            "Pi: 3.1415\n",
            "Caixa baixa: unimater\n",
            "Caixa alta: UNIMATER\n",
            "A string contém apenas letras? False\n"
          ]
        }
      ]
    },
    {
      "cell_type": "code",
      "source": [
        "print(\"A string contém apenas números?\", \"7000\".isdigit())\n",
        "\n",
        "print(\"   remove todos espaços em branco.    \".strip())\n",
        "\n",
        "print(\"UNIMATER\".replace('TER','teste'))\n",
        "\n",
        "print(\"Olá, Mundo! 1, 2, 3\".split(\",\"))"
      ],
      "metadata": {
        "colab": {
          "base_uri": "https://localhost:8080/"
        },
        "id": "Ack2TRw5l3tz",
        "outputId": "154efcf7-df41-4cf9-8ed6-b81a1cf5f190"
      },
      "execution_count": 20,
      "outputs": [
        {
          "output_type": "stream",
          "name": "stdout",
          "text": [
            "A string contém apenas números? True\n",
            "remove todos espaços em branco.\n",
            "UNIMAteste\n",
            "['Olá', ' Mundo! 1', ' 2', ' 3']\n"
          ]
        }
      ]
    },
    {
      "cell_type": "markdown",
      "source": [
        "**OBS**.: Percebam que o método `split()` retorna uma lista onde cada elemento é  uma das substrings criadas."
      ],
      "metadata": {
        "id": "T23rz6V3mCUz"
      }
    },
    {
      "cell_type": "markdown",
      "source": [
        "#### Acessando elementos de uma string através de seus índices\n",
        "\n",
        "Nós podemos indexar strings e assim acessar cada um de seus caracteres (ou elementos).\n",
        "\n",
        "**OBS**.: Os índices de uma string começam sempre de zero."
      ],
      "metadata": {
        "id": "_p9KKhBzmEjl"
      }
    },
    {
      "cell_type": "code",
      "source": [
        "# Atribuindo a string 'python' à variável 'str1'.\n",
        "str1 = 'python'\n",
        "\n",
        "'''\n",
        "Como a string é uma sequência de caracteres, \n",
        "cada um dos índices nos dá acesso a um caracter da sequência.\n",
        "+---+---+---+---+---+---+\n",
        "| p | y | t | h | o | n |\n",
        "+---+---+---+---+---+---+\n",
        "  0   1   2   3   4   5\n",
        "'''\n",
        "\n",
        "print(str1[0])\n",
        "print(str1[1])\n",
        "print(str1[2])\n",
        "print(str1[3])\n",
        "print(str1[4])\n",
        "print(str1[5])"
      ],
      "metadata": {
        "colab": {
          "base_uri": "https://localhost:8080/"
        },
        "id": "bu0R5yT4l9bM",
        "outputId": "bff00525-a5ae-4352-96bc-e8b38a90e8c1"
      },
      "execution_count": 21,
      "outputs": [
        {
          "output_type": "stream",
          "name": "stdout",
          "text": [
            "p\n",
            "y\n",
            "t\n",
            "h\n",
            "o\n",
            "n\n"
          ]
        }
      ]
    },
    {
      "cell_type": "markdown",
      "source": [
        "#### Podemos acessar o último caractere de uma string com a função `len()`.\n",
        "\n",
        "**OBS**.: Usando a função `len()`, não precisamos saber exatamente qual é o índice correspondente ao último caractere."
      ],
      "metadata": {
        "id": "Jo6YgwS9mJMd"
      }
    },
    {
      "cell_type": "code",
      "source": [
        "str1 = 'python'\n",
        "\n",
        "print('Tamanho da string:', len(str1))\n",
        "\n",
        "print('Acessando o último caractere com seu índice:', str1[5])\n",
        "print('Acessando o último caractere com a função len:', str1[len(str1)-1])"
      ],
      "metadata": {
        "colab": {
          "base_uri": "https://localhost:8080/"
        },
        "id": "0mKET45umHQ1",
        "outputId": "a16a0e14-ef3f-4aa5-a203-8105035f5d4c"
      },
      "execution_count": 22,
      "outputs": [
        {
          "output_type": "stream",
          "name": "stdout",
          "text": [
            "Tamanho da string: 6\n",
            "Acessando o último caractere com seu índice: n\n",
            "Acessando o último caractere com a função len: n\n"
          ]
        }
      ]
    },
    {
      "cell_type": "markdown",
      "source": [
        "#### Fatiando strings\n",
        "\n",
        "+ Nós podemos retornar um intervalo de caracteres usando a sintaxe de fatiamento de strings.\n",
        "+ Para isso, basta especificar o **índice inicial e o índice final, separados por dois pontos (`:`), do intervalo** para retornar uma parte, ou seja, uma fatia, da string.\n",
        "+ A sintaxe para criação de substrings é mostrada abaixo.\n",
        "\n",
        "```python\n",
        "sub_string = string[intervalo_inicial : intervalo_final]\n",
        "```\n",
        "\n",
        "**OBS**.:\n",
        "\n",
        "* O intervalo não é fechado no índice final da fatia, ou seja, o caracter correspondente a esse índice não será incluído na fatia."
      ],
      "metadata": {
        "id": "2cuvcGatmPup"
      }
    },
    {
      "cell_type": "code",
      "source": [
        "# Atribuindo a string 'Olá, Mundo' à variável str1.\n",
        "str1 = \"Olá, Mundo!\"\n",
        "\n",
        "# Fatia os caracteres da posição 5 até a posição 10 (não incluso).\n",
        "# OBS.: O intervalo final da fatia não é fechado, portanto, o índice 10 não é incluso na fatia.\n",
        "fatia = str1[5:10]\n",
        "\n",
        "print(fatia)"
      ],
      "metadata": {
        "colab": {
          "base_uri": "https://localhost:8080/"
        },
        "id": "oD0jikJEmNOL",
        "outputId": "fe9aeed1-67e7-46c9-f1f0-ab943a8799c6"
      },
      "execution_count": 23,
      "outputs": [
        {
          "output_type": "stream",
          "name": "stdout",
          "text": [
            "Mundo\n"
          ]
        }
      ]
    },
    {
      "cell_type": "markdown",
      "source": [
        "Podemos criar uma fatia desde um índice qualquer até o último caractere de uma string usando a função `len()`."
      ],
      "metadata": {
        "id": "NWmnjEGjmUa_"
      }
    },
    {
      "cell_type": "code",
      "source": [
        "str2 = 'DESCOMPLICA'\n",
        "\n",
        "# Como o intervalo final da fatia não é fechado, precisamos sempre passar o índice final desejado mais 1.\n",
        "fatia = str2[3:len(str2)]\n",
        "\n",
        "print(fatia)"
      ],
      "metadata": {
        "colab": {
          "base_uri": "https://localhost:8080/"
        },
        "id": "aO0j3xCmmSZ3",
        "outputId": "fddd22df-4443-4629-9f77-98d2a591b95e"
      },
      "execution_count": 24,
      "outputs": [
        {
          "output_type": "stream",
          "name": "stdout",
          "text": [
            "COMPLICA\n"
          ]
        }
      ]
    },
    {
      "cell_type": "markdown",
      "source": [
        "Outra forma de fazermos o mesmo feito no exemplo anterior é simplemente omitir o valor do índice final."
      ],
      "metadata": {
        "id": "l8AcRlbkmbTo"
      }
    },
    {
      "cell_type": "code",
      "source": [
        "str2 = 'DESCOMPLICA'\n",
        "\n",
        "fatia = str2[3:]\n",
        "\n",
        "print(fatia)"
      ],
      "metadata": {
        "colab": {
          "base_uri": "https://localhost:8080/"
        },
        "id": "heGnBl-PmZOM",
        "outputId": "a7b6ce2e-2138-4e1d-97da-e58ce736b502"
      },
      "execution_count": 25,
      "outputs": [
        {
          "output_type": "stream",
          "name": "stdout",
          "text": [
            "COMPLICA\n"
          ]
        }
      ]
    },
    {
      "cell_type": "markdown",
      "source": [
        "## Mensagens de erro\n",
        "\n",
        "Ao tentar interpretar o código que escrevemos, o interpretador Python avisa quando alguma instrução não foi compreendida através de mensagens de erro. \n",
        "\n",
        "Na sequência, discutimos os três tipos mais comuns de erro em Python: `SyntaxError`, `IndentationError`, e `NameError`.\n",
        "\n",
        "**IMPORTANTE: Leiam as mensagens de erro com calma para saber onde está o erro de sua implementação.**\n",
        "\n",
        "### Os erros mais frequentes em Python são:\n",
        "\n",
        "* **SyntaxError**: erros de sintaxe. \n",
        "    + Esses erros significam que alguma **palavra reservada foi escrita incorretamente** ou que algum **símbolo foi esquecido** (por exemplo, os dois pontos `:` ao final da definição de uma função).\n",
        "    \n",
        "#### Exemplo"
      ],
      "metadata": {
        "id": "gLMa1rRJmhFj"
      }
    },
    {
      "cell_type": "code",
      "source": [
        "# Estão faltando os dois pontos (:) no cabeçalho da função.\n",
        "def mult(x,y):\n",
        "   return x*y"
      ],
      "metadata": {
        "id": "ypKK2UXkmesO"
      },
      "execution_count": 27,
      "outputs": []
    },
    {
      "cell_type": "markdown",
      "source": [
        "**OBS**.: Percebam que a mensagem de erro sempre terá um indicador (`^` ou `--->`) apontando onde o interpretador encontrou o erro."
      ],
      "metadata": {
        "id": "FrMdcHWlmmwK"
      }
    },
    {
      "cell_type": "markdown",
      "source": [
        "* **IndentationError**: erros de indentação.\n",
        "    + Esses erros significam que alguma linha está com a indentação (recuo) incorreta.\n",
        "    \n",
        "#### Exemplo"
      ],
      "metadata": {
        "id": "UYlrQGtOmqEE"
      }
    },
    {
      "cell_type": "code",
      "source": [
        "# As instruções que fazem parte do corpo da função não têm a indentação (ou recuo) correta\n",
        "# para que o interpretador entenda que elas fazem parte da função.\n",
        "def mult(x,y):\n",
        "  a = x*y\n",
        "  return a"
      ],
      "metadata": {
        "id": "Gre4956kmkNq"
      },
      "execution_count": 29,
      "outputs": []
    },
    {
      "cell_type": "markdown",
      "source": [
        "* **NameError**: erros de nome.\n",
        "    + Esses erros significam que algum nome (por exemplo, variável, nome de função, classe, etc.) foi usado sem ter sido definido anteriormente. \n",
        "    + Esse tipo de erro ocorre, por exemplo, \n",
        "        * ao chamarmos uma **função que ainda não foi definida**, \n",
        "        * ou quando acessamos uma **variável que não teve valor atribuído a ela**.\n",
        "    \n",
        "#### Exemplos"
      ],
      "metadata": {
        "id": "ygygvJshmxs6"
      }
    },
    {
      "cell_type": "code",
      "source": [
        "# A função bar não foi definida anteriormente.\n",
        "bar(x,y)"
      ],
      "metadata": {
        "colab": {
          "base_uri": "https://localhost:8080/",
          "height": 183
        },
        "id": "c3ERLxKYmw6h",
        "outputId": "4a6943c8-c3b4-4df9-98ee-281c54b9fbe0"
      },
      "execution_count": 30,
      "outputs": [
        {
          "output_type": "error",
          "ename": "NameError",
          "evalue": "ignored",
          "traceback": [
            "\u001b[0;31m---------------------------------------------------------------------------\u001b[0m",
            "\u001b[0;31mNameError\u001b[0m                                 Traceback (most recent call last)",
            "\u001b[0;32m<ipython-input-30-5066b93bc029>\u001b[0m in \u001b[0;36m<cell line: 2>\u001b[0;34m()\u001b[0m\n\u001b[1;32m      1\u001b[0m \u001b[0;31m# A função bar não foi definida anteriormente.\u001b[0m\u001b[0;34m\u001b[0m\u001b[0;34m\u001b[0m\u001b[0m\n\u001b[0;32m----> 2\u001b[0;31m \u001b[0mbar\u001b[0m\u001b[0;34m(\u001b[0m\u001b[0mx\u001b[0m\u001b[0;34m,\u001b[0m\u001b[0my\u001b[0m\u001b[0;34m)\u001b[0m\u001b[0;34m\u001b[0m\u001b[0;34m\u001b[0m\u001b[0m\n\u001b[0m",
            "\u001b[0;31mNameError\u001b[0m: name 'bar' is not defined"
          ]
        }
      ]
    },
    {
      "cell_type": "code",
      "source": [
        "# A variável 'variável' não teve nenhum valor atribuído a ela anteriormente.\n",
        "print('O valor da variável é:', variável)"
      ],
      "metadata": {
        "colab": {
          "base_uri": "https://localhost:8080/",
          "height": 183
        },
        "id": "cEXUnzhemugg",
        "outputId": "c9c86ccb-522b-4ece-e64b-eb600afee72a"
      },
      "execution_count": 31,
      "outputs": [
        {
          "output_type": "error",
          "ename": "NameError",
          "evalue": "ignored",
          "traceback": [
            "\u001b[0;31m---------------------------------------------------------------------------\u001b[0m",
            "\u001b[0;31mNameError\u001b[0m                                 Traceback (most recent call last)",
            "\u001b[0;32m<ipython-input-31-1929f61f2541>\u001b[0m in \u001b[0;36m<cell line: 2>\u001b[0;34m()\u001b[0m\n\u001b[1;32m      1\u001b[0m \u001b[0;31m# A variável 'variável' não teve nenhum valor atribuído a ela anteriormente.\u001b[0m\u001b[0;34m\u001b[0m\u001b[0;34m\u001b[0m\u001b[0m\n\u001b[0;32m----> 2\u001b[0;31m \u001b[0mprint\u001b[0m\u001b[0;34m(\u001b[0m\u001b[0;34m'O valor da variável é:'\u001b[0m\u001b[0;34m,\u001b[0m \u001b[0mvariável\u001b[0m\u001b[0;34m)\u001b[0m\u001b[0;34m\u001b[0m\u001b[0;34m\u001b[0m\u001b[0m\n\u001b[0m",
            "\u001b[0;31mNameError\u001b[0m: name 'variável' is not defined"
          ]
        }
      ]
    },
    {
      "cell_type": "markdown",
      "source": [
        "# Funções\n",
        "\n",
        "## Introdução\n",
        "\n",
        "Funções são partes importantíssimas de todas as linguagens de programação. \n",
        "\n",
        "Elas contêm blocos de código que podem ser acessados através de seu nome, executam tarefas específicas e auxiliam no reuso do código.\n",
        "\n",
        "**Exemplos**:\n",
        "\n",
        "+ `print()`: Imprime uma string na tela.\n",
        "+ `cos()`: Calcula e retorna o coseno de um valor de entrada.\n",
        "+ `max()`: Encontra e retorna o maior valor em uma coleção de dados.\n",
        "+ `str()`: Cria e retorna uma representação em formato de string de um objeto.\n",
        "\n",
        "**OBS**.: Percebam que cada uma delas executa uma tarefa bem específica, facilitando o seu reuso.\n",
        "\n",
        "## Características das funções\n",
        "\n",
        "+ Toda função possui um **nome**, através do qual é **invocada**.\n",
        "+ Uma função contém um **bloco de código** que implementa uma tarefa **única e específica**, de tal forma que ela possa ser **reutilizada**.\n",
        "+ Uma boa prática é que o **nome da função seja um indicativo** desta tarefa única e específica implementada por ela, ou seja, um nome **auto-explicativo**, e.g., `print`, `sqrt`, `cos`, etc.\n",
        "+ As funções fornecem uma forma de **modularizar** um programa e, com isso, atinge-se um alto grau de **reutilização** de código.\n",
        "+ Além disto, tornar partes do seu programa em funções, facilita sua **depuração**.\n",
        "+ Em Python, existem funções definidas por nós usuários, as definidas em módulos e pacotes (bibliotecas) e as embutidas, que são definidas pela própria linguagem. \n",
        "    * Por exemplo, as funções `print()`, `str()` e `type()`.\n",
        "+ Funções podem ou não **explicitamente** retornar valores.\n",
        "\n",
        "## Definindo uma função\n",
        "\n",
        "+ Uma função é definida usando-se a palavra-chave `def` seguida do nome da função, da sequência de parâmetros e de dois pontos, `:`.\n",
        "\n",
        "```python\n",
        "def myFunction(parametro1, parametro2, ...):\n",
        "```\n",
        "\n",
        "+ Em seguida, podemos ter, *opcionalmente*, a **docstring**, que explica o que a função faz. O objetivo das **docstrings** é servir de **documentação**.\n",
        "\n",
        "```python\n",
        "def myFunction(parametro1, parametro2, ...):\n",
        "    \"\"\"Esta função executa a seguinte tarefa.\"\"\"\n",
        "```\n",
        "\n",
        "+ O bloco de código de uma função sempre começa em um **nível mais à direita do cabeçalho (recuo)**. Podemos usar *tab*, 2 ou 3 espaços para indentar o código.\n",
        "\n",
        "```python\n",
        "def myFunction(parametro1, parametro2, ...):\n",
        "    \"\"\"Esta função executa a seguinte tarefa.\"\"\"\n",
        "    # bloco de codigo da funcao\n",
        "    soma = parametro1 + parametro2\n",
        "    return soma\n",
        "```\n",
        "\n",
        "#### Exemplo: Definição de uma função.\n",
        "\n",
        "**OBS**.:\n",
        "\n",
        "+ Vejam que após a célula de código abaixo ser executada, nada acontece, pois estamos apenas **definindo** a função aqui.\n",
        "+ Porém, depois de definida, podemos invocar a função em qualquer outra célula de código do *notebook*."
      ],
      "metadata": {
        "id": "Zxr_5ZgwnQ8Q"
      }
    },
    {
      "cell_type": "code",
      "source": [
        "# Esta função não recebe nenhum argumento de entrada e não retorna nada.\n",
        "def minhaFunção():\n",
        "    \"\"\"Esta é uma função de saudação.\"\"\"\n",
        "    print(\"Olá, sou uma função.\")"
      ],
      "metadata": {
        "id": "9fQWf-bam4j3"
      },
      "execution_count": 32,
      "outputs": []
    },
    {
      "cell_type": "markdown",
      "source": [
        "## Invocando uma função\n",
        "\n",
        "No exemplo abaixo, invocamos a função definida na célula de código acima."
      ],
      "metadata": {
        "id": "4EIv0hXDnaid"
      }
    },
    {
      "cell_type": "code",
      "source": [
        "# Chamando (ou invocando) a função.\n",
        "minhaFunção()\n",
        "\n",
        "# Usando o atributo __doc__ do objeto da classe 'function' para descobrir o que esta função faz.\n",
        "print('docstring da função:', minhaFunção.__doc__)"
      ],
      "metadata": {
        "colab": {
          "base_uri": "https://localhost:8080/"
        },
        "id": "QvrojqGknZgk",
        "outputId": "8d2befd5-b3da-4650-8d67-b45d27852f81"
      },
      "execution_count": 33,
      "outputs": [
        {
          "output_type": "stream",
          "name": "stdout",
          "text": [
            "Olá, sou uma função.\n",
            "docstring da função: Esta é uma função de saudação.\n"
          ]
        }
      ]
    },
    {
      "cell_type": "markdown",
      "source": [
        "## Parâmetros\n",
        "\n",
        "+ Objetos são passados para funções como parâmetros.\n",
        "+ Nós podemos adicionar quantos parâmetros quisermos à lista de parâmetros de entrada de uma função, apenas **devemos separá-los com vírgulas**.\n",
        "\n",
        "#### Exemplo\n",
        "\n",
        "* O exemplo a seguir define uma função com dois parâmetros de entrada, `nome` e `idade`. \n",
        "* Quando a função é chamada, passamos valores que correspondam à **sequência de parâmetros definida no cabeçalho da função**. \n",
        "* Esses valores serão usados dentro da função para imprimir o `nome` e a `idade` passados para a função.\n",
        "+ Como em Python usa **tipagem dinâmica**, precisamos nos certificar de passar os valores na ordem esperada, ou implementar na função uma forma de validar os valores/tipos passados."
      ],
      "metadata": {
        "id": "pqXJwaq5ng-n"
      }
    },
    {
      "cell_type": "code",
      "source": [
        "def minhaFunção(nome, idade):\n",
        "    \"\"\"Esta função imprime o nome e a idade de uma pessoa.\"\"\"\n",
        "    print('%s tem %d anos.' % (nome, idade))\n",
        "\n",
        "# Chamando a função com valores de entrada seguindo a sequência de parâmetros definida no cabeçalho da função.\n",
        "minhaFunção('José', 22)\n",
        "minhaFunção('Ana', 65)"
      ],
      "metadata": {
        "colab": {
          "base_uri": "https://localhost:8080/"
        },
        "id": "6BgjzTyoneST",
        "outputId": "41ffaec8-7707-46ff-b795-1c3bdbd5cb6b"
      },
      "execution_count": 34,
      "outputs": [
        {
          "output_type": "stream",
          "name": "stdout",
          "text": [
            "José tem 22 anos.\n",
            "Ana tem 65 anos.\n"
          ]
        }
      ]
    },
    {
      "cell_type": "markdown",
      "source": [
        "## Funções com número arbitrário (variável) de parâmetros de entrada\n",
        "\n",
        "+ Caso não saibamos quantos parâmetros serão passados para uma função, devemos definir **um único parâmetro de entrada** e adicionar um `*` antes de seu nome na definição da função.\n",
        "+ Dessa forma, a função receberá uma **tupla** de argumentos e poderá **acessar os itens da tupla através de seus índices**, como mostrado no exemplo abaixo.\n",
        "    + Uma **tupla** é uma coleção (i.e., sequência) de objetos que pode ser indexada.\n",
        "    + Uma **tupla** é representada por elementos envoltos por **parênteses**:\n",
        "```python\n",
        "tupla = ('João', 'Ana', 'José')\n",
        "```\n",
        "    + A **tupla** passada para a função é criada pelo interpretador durante a execução do código.\n",
        "+ Usamos **estruturas de controle de fluxo** para tratar diferentes números de valores."
      ],
      "metadata": {
        "id": "_XviLp1gnrJJ"
      }
    },
    {
      "cell_type": "code",
      "source": [
        "# Definindo uma função com número arbitrário de parâmetros.\n",
        "def minhaFunção(*kids):\n",
        "    \"\"\"Esta função imprime o nome e a idade de um dos filhos.\"\"\"\n",
        "    print('A tupla recebida pela função é:', kids)\n",
        "    print('O tipo do parâmetro de entrada é:', type(kids))\n",
        "    print(\"Um dos filhos é %s, que tem %d anos de idade.\" % (kids[0], kids[1]))\n",
        "\n",
        "# Chamando a função com 2 parâmetros.\n",
        "minhaFunção(\"João\", 2)\n",
        "print('--------------------------\\n')\n",
        "\n",
        "# Chamando a função com 4 parâmetros.\n",
        "minhaFunção(\"João\", 2, \"Ana\", 5)\n",
        "print('--------------------------\\n')\n",
        "\n",
        "# Chamando a função com 6 parâmetros.\n",
        "minhaFunção(\"João\", 2, \"Ana\", 5, \"José\", 9)"
      ],
      "metadata": {
        "colab": {
          "base_uri": "https://localhost:8080/"
        },
        "id": "9RuM_YHAnpVN",
        "outputId": "da8db428-f20d-4fdb-8e67-5ed1a56e0b72"
      },
      "execution_count": 36,
      "outputs": [
        {
          "output_type": "stream",
          "name": "stdout",
          "text": [
            "A tupla recebida pela função é: ('João', 2)\n",
            "O tipo do parâmetro de entrada é: <class 'tuple'>\n",
            "Um dos filhos é João, que tem 2 anos de idade.\n",
            "--------------------------\n",
            "\n",
            "A tupla recebida pela função é: ('João', 2, 'Ana', 5)\n",
            "O tipo do parâmetro de entrada é: <class 'tuple'>\n",
            "Um dos filhos é João, que tem 2 anos de idade.\n",
            "--------------------------\n",
            "\n",
            "A tupla recebida pela função é: ('João', 2, 'Ana', 5, 'José', 9)\n",
            "O tipo do parâmetro de entrada é: <class 'tuple'>\n",
            "Um dos filhos é João, que tem 2 anos de idade.\n"
          ]
        }
      ]
    },
    {
      "cell_type": "markdown",
      "source": [
        "## Passando parâmetros como pares de palavra-chave e valor\n",
        "\n",
        "+ Podemos também passar parâmetros para uma função usando a sintaxe `palavra-chave=valor`. \n",
        "    + Onde `palavra-chave` é o nome do parâmetro definido no cabeçalho da função.\n",
        "+ Dessa forma, **a ordem dos parâmetros não importa**."
      ],
      "metadata": {
        "id": "lIy63_w3nwgL"
      }
    },
    {
      "cell_type": "code",
      "source": [
        "# Definindo uma função.\n",
        "def minhaFunção(nome, idade, salário):\n",
        "    '''Função que imprime o nome, idade e salário de um funcionário.'''\n",
        "    print('Funcionário: %s, idade: %d e salário: R$ %1.2f' % (nome, idade, salário))\n",
        "\n",
        "# Chamando a função sem seguir a sequência de parâmetros de entrada definida na função.\n",
        "minhaFunção(salário=1234.56, nome='João', idade=23)"
      ],
      "metadata": {
        "colab": {
          "base_uri": "https://localhost:8080/"
        },
        "id": "3wIZBX6YnvCw",
        "outputId": "909350ac-5c5a-4f54-b567-027c8e31a695"
      },
      "execution_count": 37,
      "outputs": [
        {
          "output_type": "stream",
          "name": "stdout",
          "text": [
            "Funcionário: João, idade: 23 e salário: R$ 1234.56\n"
          ]
        }
      ]
    },
    {
      "cell_type": "markdown",
      "source": [
        "## Funções com número arbitrário (variável) de parâmetros de entrada passados como pares palavra-chave e valor\n",
        "\n",
        "+ Se não soubermos quantos parâmetros serão passados para uma função como **pares palavra-chave e valor**, devemos definir **um único parâmetro de entrada** e adicionar dois asteriscos, `**`, antes de seu nome na definição da função.\n",
        "+ Dessa forma, a função receberá um **dicionário** e poderá acessar seus itens como mostrado no exemplo abaixo.\n",
        "    + Um **dicionário** é um conjunto de objetos com itens da forma `chave:valor`.\n",
        "    + Um **dicionário** é representado por pares `chave:valor` envoltos por **chaves**:\n",
        "```python\n",
        "dicionário = {'João' : 18, 'Ana' : 41, 'José' : 25}\n",
        "```\n",
        "    + Os itens de um **dicionário** são **indexados através de suas `chaves`**:\n",
        "```python\n",
        "idade = dicionário['João']\n",
        "print(idade)\n",
        "18\n",
        "````\n",
        "    + O **dicionário** passado para a função é criado pelo interpretador durante a execução do código.\n",
        "+ Usamos **estruturas de controle de fluxo** para tratar diferentes números de valores."
      ],
      "metadata": {
        "id": "VcTlUnHSn5Dz"
      }
    },
    {
      "cell_type": "code",
      "source": [
        "# Definindo uma função com número arbitrário de palavras-chave e valor.\n",
        "def minhaFunção(**funcionário):\n",
        "    '''Função que imprime o nome, idade e salário de um funcionário.'''\n",
        "    print('O dicionário recebido pela função é', funcionário)\n",
        "    print('O tipo do parâmetro de entrada é:', type(funcionário))\n",
        "    print('Funcionário: %s, idade: %d e salário: R$ %1.2f' % (funcionário['nome'], funcionário['idade'], funcionário['salário']))\n",
        "\n",
        "# Chamando a função.\n",
        "minhaFunção(salário=1234.56, nome='João', idade=23)\n",
        "print('--------------------------\\n')\n",
        "\n",
        "# Chamando a função.\n",
        "minhaFunção(nome='Ana', idade=33, salário=5000.0, endereço='Rua J, 31', cargo='Engenheiro')"
      ],
      "metadata": {
        "colab": {
          "base_uri": "https://localhost:8080/"
        },
        "id": "TEAglqZKn2Xz",
        "outputId": "1c804d56-83b5-4d76-9231-d6b5662bd6b5"
      },
      "execution_count": 38,
      "outputs": [
        {
          "output_type": "stream",
          "name": "stdout",
          "text": [
            "O dicionário recebido pela função é {'salário': 1234.56, 'nome': 'João', 'idade': 23}\n",
            "O tipo do parâmetro de entrada é: <class 'dict'>\n",
            "Funcionário: João, idade: 23 e salário: R$ 1234.56\n",
            "--------------------------\n",
            "\n",
            "O dicionário recebido pela função é {'nome': 'Ana', 'idade': 33, 'salário': 5000.0, 'endereço': 'Rua J, 31', 'cargo': 'Engenheiro'}\n",
            "O tipo do parâmetro de entrada é: <class 'dict'>\n",
            "Funcionário: Ana, idade: 33 e salário: R$ 5000.00\n"
          ]
        }
      ]
    },
    {
      "cell_type": "markdown",
      "source": [
        "## Parâmetros de entrada com valor padrão\n",
        "\n",
        "+ Em algumas ocasiões, não precisamos passar um valor para um determinado parâmetro de entrada de uma função, pois ele possui um valor padrão, e.g., o parâmetro que dita o incremento da função `range()`.\n",
        "+ Portanto, em Python, podemos definir **valores padrão** para os parâmetros de entrada de uma função.\n",
        "\n",
        "### Exemplos\n",
        "\n",
        "Os exemplos a seguir, mostram como usar valores padrão para parâmetros de entrada. \n",
        "\n",
        "No primeiro exemplo, se chamarmos a função sem nenhum argumento, ela usará os valores padrão definidos em sua lista de parâmetros de entrada."
      ],
      "metadata": {
        "id": "tlOkiWDkoB5K"
      }
    },
    {
      "cell_type": "code",
      "source": [
        "def minhaFunção(nome='José', idade=22, salário=1000.00):\n",
        "    '''Função que imprime o nome, idade e salário de um funcionário.'''\n",
        "    print('Funcionário: %s, idade: %d e salário: R$ %1.2f' % (nome, idade, salário))\n",
        "\n",
        "# Chamando a função sem nenhum parâmetro.\n",
        "minhaFunção()\n",
        "# Chamando a função com 1 parâmetro.\n",
        "minhaFunção('Ana')\n",
        "# Chamando a função com 2 parâmetros.\n",
        "minhaFunção('Ana', 35)\n",
        "# Chamando a função com todos parâmetros.\n",
        "minhaFunção('Ana', 35, 5000.0)"
      ],
      "metadata": {
        "colab": {
          "base_uri": "https://localhost:8080/"
        },
        "id": "Z2Aiy19ZoAyx",
        "outputId": "64b16268-b1df-4cfe-ef03-d246cf3c8588"
      },
      "execution_count": 39,
      "outputs": [
        {
          "output_type": "stream",
          "name": "stdout",
          "text": [
            "Funcionário: José, idade: 22 e salário: R$ 1000.00\n",
            "Funcionário: Ana, idade: 22 e salário: R$ 1000.00\n",
            "Funcionário: Ana, idade: 35 e salário: R$ 1000.00\n",
            "Funcionário: Ana, idade: 35 e salário: R$ 5000.00\n"
          ]
        }
      ]
    },
    {
      "cell_type": "markdown",
      "source": [
        "No próximo exemplo, definimos apenas o **último parâmetro com valor padrão**, consequentemente a **atribuição de valores para os dois primeiros parâmetros se torna mandatória**.\n",
        "\n",
        "**OBS**.: A definição de parâmetros com valores padrão **sempre deve ocorrer da direita para a esquerda**."
      ],
      "metadata": {
        "id": "ajzNiarNoJLS"
      }
    },
    {
      "cell_type": "markdown",
      "source": [
        "No exemplo abaixo, definimos valores padrão para o penúltimo e último parâmetros."
      ],
      "metadata": {
        "id": "OU5fdRE3oO2v"
      }
    },
    {
      "cell_type": "code",
      "source": [
        "def minhaFunção(nome, idade=33, salário=2222.00):\n",
        "    '''Função que imprime o nome, idade e salário de um funcionário.'''\n",
        "    print('Funcionário: %s, idade: %d e salário: R$ %1.2f' % (nome, idade, salário))\n",
        "\n",
        "# Chamando a função.\n",
        "minhaFunção('João')"
      ],
      "metadata": {
        "colab": {
          "base_uri": "https://localhost:8080/"
        },
        "id": "oDEkHgfRoHyw",
        "outputId": "ce91b0ff-be49-4a6d-a575-27bb687c78af"
      },
      "execution_count": 40,
      "outputs": [
        {
          "output_type": "stream",
          "name": "stdout",
          "text": [
            "Funcionário: João, idade: 33 e salário: R$ 2222.00\n"
          ]
        }
      ]
    },
    {
      "cell_type": "markdown",
      "source": [
        "**IMPORTANTE**\n",
        "\n",
        "+ Por definição, parâmetros com valores padrão **devem sempre vir após parâmetros sem valores padrão**. \n",
        "+ Caso contrário, teremos um erro do tipo `SyntaxError`, com a seguinte mensagem de erro: `non-default argument follows default argument`, ou seja, **um parâmetro sem valor padrão ocorre após parâmetro com valor padrão**.\n",
        "+ Os parâmetros sem valor padrão não podem ocorrer após um parâmetro com valor padrão porque, caso contrário, o Python não tem como saber se estamos passando um valor para o parâmetro padrão ou para o parâmetro sem valor padrão."
      ],
      "metadata": {
        "id": "u0_8gdD9oR4H"
      }
    },
    {
      "cell_type": "code",
      "source": [
        "def minhaFunção(idade, salário, nome='Ana'):\n",
        "    '''Função que imprime o nome, idade e salário de um funcionário.'''\n",
        "    print('Funcionário: %s, idade: %d e salário: R$ %1.2f' % (nome, idade, salário))\n",
        "\n",
        "# Chamando a função.\n",
        "minhaFunção(33, 2222.00)"
      ],
      "metadata": {
        "colab": {
          "base_uri": "https://localhost:8080/"
        },
        "id": "hJ8XPX0KoQ2T",
        "outputId": "d77403c7-2b8c-481f-a808-87214337763a"
      },
      "execution_count": 41,
      "outputs": [
        {
          "output_type": "stream",
          "name": "stdout",
          "text": [
            "Funcionário: Ana, idade: 33 e salário: R$ 2222.00\n"
          ]
        }
      ]
    },
    {
      "cell_type": "markdown",
      "source": [
        "## Retornando valores\n",
        "\n",
        "+ Até então, nos exemplos anteriores, nós não retornamos, **explicitamente**, nenhum valor.\n",
        "\n",
        "+ Para que uma função retorne um ou mais valores, nós usamos a instrução `return`."
      ],
      "metadata": {
        "id": "jFqh70tYobHj"
      }
    },
    {
      "cell_type": "code",
      "source": [
        "# Definição da função.\n",
        "def minhaFunção(x):\n",
        "    '''Função que retorna a multiplicação de um número qualquer por 5.'''\n",
        "    return 5 * x\n",
        "\n",
        "# Atribuindo o retorno a uma variável.\n",
        "valorDeRetorno = minhaFunção(3)\n",
        "print('Valor de retorno da função:', valorDeRetorno)\n",
        "print('---------------------------------\\n')\n",
        "\n",
        "# Usando o retorno da função diretamente\n",
        "print('Valor de retorno da função:', minhaFunção(5))"
      ],
      "metadata": {
        "colab": {
          "base_uri": "https://localhost:8080/"
        },
        "id": "5sOEHsK0oXI9",
        "outputId": "a0f734f2-6dbf-4900-aea9-b1f5b3e17281"
      },
      "execution_count": 42,
      "outputs": [
        {
          "output_type": "stream",
          "name": "stdout",
          "text": [
            "Valor de retorno da função: 15\n",
            "---------------------------------\n",
            "\n",
            "Valor de retorno da função: 25\n"
          ]
        }
      ]
    },
    {
      "cell_type": "markdown",
      "source": [
        "+ Para retornar mais de um valor, devemos usar **vírgulas** para separar os valores de retorno. \n",
        "\n",
        "+ Em Python, uma função que retorna vários valores, retorna uma **tupla** contendo os valores de retorno.\n",
        "    * **Tuplas** são coleções (i.e., sequências) de objetos separados por vírgula e envoltos por um par de colchetes.\n",
        "```python\n",
        "tupla = (1, 2, 3)\n",
        "```"
      ],
      "metadata": {
        "id": "yZieED2WohNz"
      }
    },
    {
      "cell_type": "code",
      "source": [
        "# Definição da função.\n",
        "def minhaFunção(x):\n",
        "    '''Função que retorna o resultado de duas operações.'''\n",
        "    return 5 * x, x / 2\n",
        "\n",
        "# A variável valores é do tipo tupla e contém todos os valores de retorno como um de seus elementos.\n",
        "valores = minhaFunção(12)\n",
        "print('O tipo do retorno é:', type(valores))\n",
        "print('Os valores de retorno são:', valores)\n",
        "\n",
        "# Outra forma válida de receber os valores de retorno é desempacotando a tupla que é retornada pela função.\n",
        "a, b = minhaFunção(12)\n",
        "print('\\nO tipo de a é:', type(a))\n",
        "print('O tipo de b é:', type(b))\n",
        "print('Os valores de retorno são:', a)\n",
        "print('Os valores de retorno são:', b)"
      ],
      "metadata": {
        "colab": {
          "base_uri": "https://localhost:8080/"
        },
        "id": "-eRgTCQaoe3i",
        "outputId": "06ca4c94-215a-47c3-86aa-4b5b71f32ae6"
      },
      "execution_count": 43,
      "outputs": [
        {
          "output_type": "stream",
          "name": "stdout",
          "text": [
            "O tipo do retorno é: <class 'tuple'>\n",
            "Os valores de retorno são: (60, 6.0)\n",
            "\n",
            "O tipo de a é: <class 'int'>\n",
            "O tipo de b é: <class 'float'>\n",
            "Os valores de retorno são: 60\n",
            "Os valores de retorno são: 6.0\n"
          ]
        }
      ]
    },
    {
      "cell_type": "markdown",
      "source": [
        "+ O retorno de valores é opcional, porém, **por padrão**, uma função **sem retorno explícito** sempre retorna o valor `None` , ou seja, o valor nulo."
      ],
      "metadata": {
        "id": "2nLWlO5fomgZ"
      }
    },
    {
      "cell_type": "code",
      "source": [
        "# Definindo uma função sem valor de retorno explícito.\n",
        "def minhaFunção(nome):\n",
        "    '''Função que imprime um nome.'''\n",
        "    print('O nome da pessoa é:', nome)\n",
        "    \n",
        "# Chamando a função e atribuindo seu retorno a uma variável.\n",
        "valorDeRetorno = minhaFunção('Ana')\n",
        "print('O valor de retorno da função é:', valorDeRetorno)"
      ],
      "metadata": {
        "colab": {
          "base_uri": "https://localhost:8080/"
        },
        "id": "Vv7gdmZFoj7o",
        "outputId": "71b8049a-a70c-4411-f963-6b0f33383446"
      },
      "execution_count": 44,
      "outputs": [
        {
          "output_type": "stream",
          "name": "stdout",
          "text": [
            "O nome da pessoa é: Ana\n",
            "O valor de retorno da função é: None\n"
          ]
        }
      ]
    },
    {
      "cell_type": "markdown",
      "source": [
        "## Espaço de nomes\n",
        "\n",
        "* Imaginem um software com milhares de linhas de código, qual a chance de termos objetos (ou seja, variáveis) com o mesmo **nome**? É grande, não? Portanto, como poderíamos distinguir esses objetos com o mesmo **nome**?\n",
        "\n",
        "* Um **espaço de nomes** (ou **namespace**, do Inglês) é basicamente um <span style=\"color:blue\">sistema para que o interpretador se certifique que todos os **nomes** em um programa são únicos e que podem ser usados sem qualquer conflito</span>.\n",
        "* Em resumo, um **espaço de nomes** é um **local** (i.e., espaço) onde o **interpretador procura por um nome**.\n",
        "\n",
        "* Desta forma, vários **namespaces** diferentes podem **usar o mesmo nome** e **mapeá-los para objetos diferentes**, ou seja, um mesmo **nome** pode existir em **namespaces** diferentes, sem que haja conflito.\n",
        "\n",
        "<img src=\"https://github.com/zz4fap/python-programming/blob/master/figures/espacodenomes.png?raw=1\" width=\"400px\">\n",
        "\n",
        "* Os principais **namespaces** encontrados em Python são:\n",
        "\n",
        "  + **Namespace local**: este namespace inclui **nomes definidos dentro de uma função ou método**. Este namespace é criado quando uma função ou método é chamado, e só dura até que ele retorne.\n",
        "  + **Namespace global**: este namespace inclui **nomes definidos no nível mais alto do programa principal**. Ele é criado quando o corpo do programa principal é iniciado e dura até que o interpretador encerre a execução do programa principal.\n",
        "  + **Namespace embutido**: ou **builtin**, inclui **nomes que foram carregados pela máquina virtual (interpretador) do Python**. Dura enquanto o interpretador estiver sendo executado. \n",
        "\n",
        "### Exemplos"
      ],
      "metadata": {
        "id": "M6dw_JJ4osw5"
      }
    },
    {
      "cell_type": "code",
      "source": [
        "# Namespace embutido: str, print, type, etc.\n",
        "\n",
        "# Namespace global (nível mais alto da célula).\n",
        "variávelA = 'UNIMATER'\n",
        "\n",
        "# Namespace global (nível mais alto da célula).\n",
        "def função1(parâmetro1, parâmetro2):\n",
        "    # Namespace local (bloco de código da função).\n",
        "    variávelA = 2\n",
        "    print('Esta é a minha função.') # função embutida (carregado pela máquina virtual). \n",
        "    return (parâmetro1 + parâmetro2)*variávelA\n",
        "\n",
        "# Namespace global (nível mais alto da célula).\n",
        "valorDeRetorno = função1(1, 2)\n",
        "print('Valor de retorno:', valorDeRetorno) # função embutida (carregado pela máquina virtual).\n",
        "\n",
        "# A variávelA do namespace local não é acessível fora da função.\n",
        "print('Conteúdo da variávelA:', variávelA)"
      ],
      "metadata": {
        "colab": {
          "base_uri": "https://localhost:8080/"
        },
        "id": "xkmvkIFUoppS",
        "outputId": "1b61aea5-74b1-484d-c764-8c19680882e3"
      },
      "execution_count": 45,
      "outputs": [
        {
          "output_type": "stream",
          "name": "stdout",
          "text": [
            "Esta é a minha função.\n",
            "Valor de retorno: 6\n",
            "Conteúdo da variávelA: UNIMATER\n"
          ]
        }
      ]
    },
    {
      "cell_type": "markdown",
      "source": [
        "**OBS**.: **Variáveis locais só são válidas dentro do namespace onde estão definidas**, ou seja, elas não são acessíveis fora do escopo local. No exemplo abaixo, a `variávelB` só pode ser usada dentro da função e se tentássemos acessá-la fora da função, ocorreria um erro."
      ],
      "metadata": {
        "id": "ss_0eDo4oy9s"
      }
    },
    {
      "cell_type": "code",
      "source": [
        "#variavelB = 0\n",
        "def função():\n",
        "    # Variável definida no namespace local (bloco de código da função).\n",
        "    variavelB = 12\n",
        "    return variavelB\n",
        "\n",
        "# Namespace global (nível mais alto da célula).\n",
        "print('Valor da variávelB:', variavelB)"
      ],
      "metadata": {
        "colab": {
          "base_uri": "https://localhost:8080/",
          "height": 200
        },
        "id": "GX4fGZHgoxCF",
        "outputId": "04a7fe70-6ae9-4023-e7aa-bd640e077515"
      },
      "execution_count": 46,
      "outputs": [
        {
          "output_type": "error",
          "ename": "NameError",
          "evalue": "ignored",
          "traceback": [
            "\u001b[0;31m---------------------------------------------------------------------------\u001b[0m",
            "\u001b[0;31mNameError\u001b[0m                                 Traceback (most recent call last)",
            "\u001b[0;32m<ipython-input-46-f45c6bdba40d>\u001b[0m in \u001b[0;36m<cell line: 8>\u001b[0;34m()\u001b[0m\n\u001b[1;32m      6\u001b[0m \u001b[0;34m\u001b[0m\u001b[0m\n\u001b[1;32m      7\u001b[0m \u001b[0;31m# Namespace global (nível mais alto da célula).\u001b[0m\u001b[0;34m\u001b[0m\u001b[0;34m\u001b[0m\u001b[0m\n\u001b[0;32m----> 8\u001b[0;31m \u001b[0mprint\u001b[0m\u001b[0;34m(\u001b[0m\u001b[0;34m'Valor da variávelB:'\u001b[0m\u001b[0;34m,\u001b[0m \u001b[0mvariavelB\u001b[0m\u001b[0;34m)\u001b[0m\u001b[0;34m\u001b[0m\u001b[0;34m\u001b[0m\u001b[0m\n\u001b[0m",
            "\u001b[0;31mNameError\u001b[0m: name 'variavelB' is not defined"
          ]
        }
      ]
    },
    {
      "cell_type": "markdown",
      "source": [
        "## Regra de Escopo\n",
        "\n",
        "+ O que acontece se dentro de uma função usarmos variáveis e/ou funções que não estão definidas dentro dela?\n",
        "+ A regra de escopo define em qual ordem um **nome** será procurado nos **espaços de nomes**. \n",
        "+ A busca pelo **escopo** (i.e., local ou **namespace**) de qualquer **nome** sempre começa no **espaço de nomes** **local** e se move para fora até atingir o **espaço de nomes** **embutido** do programa.\n",
        "+ Ou seja, do **espaço de nomes** de mais baixo nível para o de mais alto nível.\n",
        "\n",
        "<img src=\"https://github.com/zz4fap/python-programming/blob/master/figures/namespaces.png?raw=1\" width=\"200px\">\n",
        "\n",
        "### Exemplos\n",
        "\n",
        "+ No exemplo abaixo, a função `interior` está **aninhada** com a função global `exterior`. \n",
        "+ A função `interior` contém uma referência ao **nome** `objetoA`. \n",
        "+ Inicialmente, o interpretador irá buscar o **nome** no **namespace** local da função `interior`. \n",
        "+ Caso não esteja lá, ele procura no **namespace** local da função `exterior`.\n",
        "+ Se isso falhar, ele irá procurar no **namespace** global do programa.\n",
        "+ Finalmente, se não encontrado, ele irá buscar no **namespace** embutido.\n",
        "\n",
        "**IMPORTANTE**\n",
        "\n",
        "+ A mesma sequência de busca ocorre para a função embutida `print`."
      ],
      "metadata": {
        "id": "ym2Be1p_o3mP"
      }
    },
    {
      "cell_type": "code",
      "source": [
        "# escopo do namespace global.\n",
        "objetoA = 2\n",
        "\n",
        "def exterior():\n",
        "    # escopo do namespace local da função exterior.\n",
        "    \n",
        "    def interior():\n",
        "        # escopo do namespace local da função interior.\n",
        "        a = objetoA*2 # variável objetoA está no namespace global.\n",
        "        print('Valor do objeto:', a) # função print está no namespace embutido.\n",
        "    \n",
        "    # escopo do namespace local da função exterior.\n",
        "    interior()\n",
        "\n",
        "# escopo do namespace global.\n",
        "exterior()"
      ],
      "metadata": {
        "colab": {
          "base_uri": "https://localhost:8080/"
        },
        "id": "LQuWqPxKo08j",
        "outputId": "f3faf8ec-33c7-4f88-b760-547dba526841"
      },
      "execution_count": 47,
      "outputs": [
        {
          "output_type": "stream",
          "name": "stdout",
          "text": [
            "Valor do objeto: 4\n"
          ]
        }
      ]
    },
    {
      "cell_type": "markdown",
      "source": [
        "Como vimos, o bloco de código das funções têm **escopo local**, o que pode **ofuscar** **nomes** dos **escopos global** e **embutido**.\n",
        "\n",
        "<span style=\"color:blue\">**Ofuscar**: impedir a vista de, ocultar, encobrir</span>.\n",
        "\n",
        "No exemplo abaixo, a variável global `var` é ofuscada pela variável local `var`."
      ],
      "metadata": {
        "id": "51yuvD8lo-Jh"
      }
    },
    {
      "cell_type": "code",
      "source": [
        "# Variável definida no escopo do namespace global.\n",
        "var = 12\n",
        "\n",
        "# Definição de uma função.\n",
        "def minhaFunção(par):\n",
        "    # A atribuição faz com que a variável 'var' seja CRIADA no escopo do namespace local da função, ofuscando a variável global.\n",
        "    var = par\n",
        "    return var\n",
        "\n",
        "# Imprime o valor da variável global antes da chamada da função.\n",
        "print('Valor da variável global var:', var)\n",
        "\n",
        "# Chama a função.\n",
        "retorno = minhaFunção(33)\n",
        "\n",
        "# Imprime valor da variável global após a chamada da função.\n",
        "print('Valor da variável global var após chamada da função:', var)"
      ],
      "metadata": {
        "colab": {
          "base_uri": "https://localhost:8080/"
        },
        "id": "9yt-YkO-o9TU",
        "outputId": "09b6ad8b-0f23-4ae9-d48e-6ca9f3cab907"
      },
      "execution_count": 48,
      "outputs": [
        {
          "output_type": "stream",
          "name": "stdout",
          "text": [
            "Valor da variável global var: 12\n",
            "Valor da variável global var após chamada da função: 12\n"
          ]
        }
      ]
    },
    {
      "cell_type": "markdown",
      "source": [
        "Mas e se quissémos alterar o valor da variável global dentro da função?"
      ],
      "metadata": {
        "id": "FIvKJKfSpEJ0"
      }
    },
    {
      "cell_type": "code",
      "source": [
        "# Variável definida no escopo do namespace global.\n",
        "var = 12\n",
        "\n",
        "# Definição de uma função.\n",
        "def minhaFunção(par):\n",
        "    global var # A palavra reservada 'global' impede o ofuscamento da variável global var.\n",
        "    var = par\n",
        "    return var\n",
        "\n",
        "# Imprime o valor da variável global antes da chamada da função.\n",
        "print('Valor da variável global var:', var)\n",
        "\n",
        "# Chama função.\n",
        "retorno = minhaFunção(33)\n",
        "\n",
        "# Imprime valor da variável global após a chamada da função.\n",
        "print('Valor da variável global var após chamada da função:', var)"
      ],
      "metadata": {
        "colab": {
          "base_uri": "https://localhost:8080/"
        },
        "id": "Agp_hEc-pCXA",
        "outputId": "c5994bcc-8967-4999-bc54-5b542ac38226"
      },
      "execution_count": 49,
      "outputs": [
        {
          "output_type": "stream",
          "name": "stdout",
          "text": [
            "Valor da variável global var: 12\n",
            "Valor da variável global var após chamada da função: 33\n"
          ]
        }
      ]
    },
    {
      "cell_type": "markdown",
      "source": [
        "**IMPORTANTE**\n",
        "\n",
        "As variáveis globais podem ser alteradas por qualquer parte do código, tornando difícil lembrar todos os locais onde ela é alterada."
      ],
      "metadata": {
        "id": "wNKFk51opJCX"
      }
    },
    {
      "cell_type": "markdown",
      "source": [
        "## Recursão\n",
        "\n",
        "+ Recursão é um **conceito comum a praticamente todas as linguagens de programação**.\n",
        "+ Ela significa que **uma função chama a si mesma um número indefinido de vezes**.\n",
        "+ É um método de resolução de problemas que envolve **quebrar um problema em sub-problemas menores e menores até chegarmos a um problema pequeno o suficiente para que ele possa ser resolvido trivialmente**.\n",
        "\n",
        "### Exemplo\n",
        "\n",
        "Suponham que desejemos criar uma função que calcule a soma dos valores de uma lista de números, tais como: \n",
        "\n",
        "```python\n",
        "lista = [1,3,5,7,9]\n",
        "```\n",
        "\n",
        "#### Solução #1 (sem recursão)\n",
        "\n",
        "Uma função que calcula essa soma com um laço de repetição `for` é mostrada abaixo. \n",
        "\n",
        "A função usa uma variável acumuladora `soma` para acumular o total de todos os números da lista, iniciando a variável `soma` com o valor 0."
      ],
      "metadata": {
        "id": "NCTnHcSqpMgb"
      }
    },
    {
      "cell_type": "code",
      "source": [
        "def somarLista(lista):\n",
        "    soma = 0 # variável acumuladora.\n",
        "    for valorDaLista in lista:\n",
        "        soma = soma + valorDaLista\n",
        "    return soma\n",
        "\n",
        "lista = [1, 3, 5, 7, 9]\n",
        "print('A soma dos elementos da lista é igual a:', somarLista(lista))"
      ],
      "metadata": {
        "colab": {
          "base_uri": "https://localhost:8080/"
        },
        "id": "xDpFCUudpGm1",
        "outputId": "acb3870f-5828-4200-8d75-1802ae5767a5"
      },
      "execution_count": 50,
      "outputs": [
        {
          "output_type": "stream",
          "name": "stdout",
          "text": [
            "A soma dos elementos da lista é igual a: 25\n"
          ]
        }
      ]
    },
    {
      "cell_type": "markdown",
      "source": [
        "#### Solução #2 (com recursão)\n",
        "\n",
        "Para resolvermos o problema de forma recursiva, nossa função **DEVE** sempre conter duas características:\n",
        "\n",
        "+ Uma **relação de recorrência**, também conhecida como caso recursivo.\n",
        "+ Uma **condição de término**, ou seja, uma condição que faz com que as chamadas recursivas se encerram.\n",
        "    * Toda função recursiva **DEVE** ter uma condição de encerramento, caso contrário, o código da relação de recorrência fica executando indefinidamente (i.e., **loop infinito**). \n",
        "    * Isso acarreta em uso excessivo de memória ou de poder de processamento (i.e., CPU)."
      ],
      "metadata": {
        "id": "EXwoRHG7pRFK"
      }
    },
    {
      "cell_type": "code",
      "source": [
        "def somarLista(lista):\n",
        "    if len(lista) != 1: # relação de recorrência.\n",
        "        return lista[0] + somarLista(lista[1:len(lista)])\n",
        "    else: # condição de término.\n",
        "        return lista[0]\n",
        "\n",
        "lista = [1, 3, 5, 7, 9]\n",
        "print('A soma da lista é igual a:', somarLista(lista))"
      ],
      "metadata": {
        "colab": {
          "base_uri": "https://localhost:8080/"
        },
        "id": "EhQaOjJapOyX",
        "outputId": "ed73c554-b6b4-4a03-99b9-22aa16516e3c"
      },
      "execution_count": 51,
      "outputs": [
        {
          "output_type": "stream",
          "name": "stdout",
          "text": [
            "A soma da lista é igual a: 25\n"
          ]
        }
      ]
    },
    {
      "cell_type": "markdown",
      "source": [
        "Para entendermos melhor o que o código acima está fazendo, vejamos a figura abaixo:\n",
        "\n",
        "<img src=\"https://github.com/zz4fap/python-programming/blob/master/figures/fatorial_exemplo1.png?raw=1\" width=\"700px\">"
      ],
      "metadata": {
        "id": "Jg7lxrS9pWiW"
      }
    }
  ],
  "metadata": {
    "kernelspec": {
      "display_name": "Python 3 (ipykernel)",
      "language": "python",
      "name": "python3"
    },
    "language_info": {
      "codemirror_mode": {
        "name": "ipython",
        "version": 3
      },
      "file_extension": ".py",
      "mimetype": "text/x-python",
      "name": "python",
      "nbconvert_exporter": "python",
      "pygments_lexer": "ipython3",
      "version": "3.9.13"
    },
    "colab": {
      "provenance": [],
      "include_colab_link": true
    }
  },
  "nbformat": 4,
  "nbformat_minor": 0
}