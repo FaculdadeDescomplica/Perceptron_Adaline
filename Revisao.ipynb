{
  "cells": [
    {
      "cell_type": "markdown",
      "metadata": {
        "id": "view-in-github",
        "colab_type": "text"
      },
      "source": [
        "<a href=\"https://colab.research.google.com/github/Rafael-Barbosa/Perceptron_Adaline/blob/main/Revisao.ipynb\" target=\"_parent\"><img src=\"https://colab.research.google.com/assets/colab-badge.svg\" alt=\"Open In Colab\"/></a>"
      ]
    },
    {
      "cell_type": "markdown",
      "metadata": {
        "id": "X77UBxLAUCYj"
      },
      "source": [
        "# Revisão Python"
      ]
    },
    {
      "cell_type": "markdown",
      "metadata": {
        "id": "Br_ULoDvUCYq"
      },
      "source": [
        "## Um breve histórico sobre o Python\n",
        "\n",
        "* A linguagem de programação **Python** foi lançada em 1991 por Guido van Rossum. \n",
        "\n",
        "<img src=\"https://github.com/zz4fap/python-programming/blob/master/figures/guido.jpg?raw=1\" width=\"300px\">"
      ]
    },
    {
      "cell_type": "markdown",
      "metadata": {
        "id": "2_qss1SlUCYq"
      },
      "source": [
        "* O nome **Python** é uma homenagem ao grupo de humor britânico, Monty Python.\n",
        "\n",
        "<img src=\"https://github.com/zz4fap/python-programming/blob/master/figures/monty.jpg?raw=1\" width=\"200px\">"
      ]
    },
    {
      "cell_type": "markdown",
      "metadata": {
        "id": "sU0pc8YQUCYr"
      },
      "source": [
        "* Guido resistiu por muito tempo em associar a linguagem à serpente Python, mas isso acabou quando a editora  O’Reilly publicou o primeiro livro sobre a linguagem. \n",
        "\n",
        "<img src=\"https://github.com/zz4fap/python-programming/blob/master/figures/livro.jpg?raw=1\" width=\"200px\">"
      ]
    },
    {
      "cell_type": "markdown",
      "metadata": {
        "id": "17ke2TyIUCYr"
      },
      "source": [
        "* A linguagem Python possui um modelo de desenvolvimento comunitário, de código aberto e gerenciado pela Python Software Foundation. \n",
        "\n",
        "<img src=\"https://github.com/zz4fap/python-programming/blob/master/figures/psf-logo.png?raw=1\" width=\"500px\">"
      ]
    },
    {
      "cell_type": "markdown",
      "metadata": {
        "id": "fXRUCZdUUCYs"
      },
      "source": [
        "## O que é o Python?\n",
        "\n",
        "* É uma linguagem de programação:\n",
        "    * de **alto nível**: tem uma sintaxe que se aproxima da nossa linguagem escrita e se distancia bastante da linguagem de máquina.    \n",
        "    * **Multi-paradigma**: pois suporta diversos paradigmas de programação como: programação procedural, programação orientada a objetos e programação funcional.\n",
        "    <img src=\"https://github.com/zz4fap/python-programming/blob/master/figures/paradigmas.png?raw=1\" width=\"250px\">\n",
        "    * **Interpretada**: o código fonte é **transformado em uma linguagem intermediária**, que será interpretada pela **máquina virtual** da linguagem quando o programa for executado.\n",
        "    <img src=\"https://github.com/zz4fap/python-programming/blob/master/figures/interpreter2.png?raw=1\" width=\"400px\">\n",
        "    * de **tipagem dinâmica**: isso significa que o interpretador Python infere o tipo de dado de uma variável a partir do tipo do valor sendo atribuído a ela em tempo de execução. Ou seja, não é necessário que o programador defina o tipo de uma variável explicitamente como em C, C++ e Java.\n",
        "    * **Fortemente tipada**: ela proíbe operações que não sejam bem definidas (por exemplo, adicionar um número inteiro a uma string) ao invés de converter automaticamente os valores. Para realizar a operação entre tipos não compatíveis, é necessário converter explicitamente o tipo da variável ou variáveis antes da operação.\n",
        "    * **Multiplataforma**: roda em plataformas Windows, Linux, UNIX, MacOS e até em telefones celulares.\n",
        "    * com **gerenciamento automático de memória**: ela rastreia a utilização de objetos automaticamente e os deleta quando não estão sendo mais utilizados para liberar espaço.\n",
        "    * de uso **gratuito** e de **código aberto**: não é necessário pagar nada e pode-se criar e distribuir novas bibliotecas, modificar/depurar bibliotecas existentes, criar novas funcionalidades e até mesmo modificar a própria linguagem."
      ]
    },
    {
      "cell_type": "markdown",
      "metadata": {
        "id": "Y6xsJx2JUCYt"
      },
      "source": [
        "## Por que Python?\n",
        "\n",
        "* É uma das linguagens mais fáceis de se aprender, com uma **sintaxe clara**, **intuitiva** e **concisa** o que favorece a legibilidade do código fonte e torna a linguagem mais produtiva.\n",
        "* É uma linguagem muito popular e será mais ainda nos próximos anos. \n",
        "\n",
        "<img src=\"https://github.com/zz4fap/python-programming/blob/master/figures/popularidade2.jpg?raw=1\" width=\"400px\">"
      ]
    },
    {
      "cell_type": "markdown",
      "metadata": {
        "id": "xsGq5d9FUCYt"
      },
      "source": [
        "* Grandes empresas usam Python. \n",
        "\n",
        "<img src=\"https://github.com/zz4fap/python-programming/blob/master/figures/empresas.png?raw=1\" width=\"500px\">"
      ]
    },
    {
      "cell_type": "markdown",
      "metadata": {
        "id": "xuqZoEjzUCYu"
      },
      "source": [
        "* Muitos empregos e bons salários.\n",
        "\n",
        "<img src=\"https://github.com/zz4fap/python-programming/blob/master/figures/salaries.jpg?raw=1\" width=\"500px\">"
      ]
    },
    {
      "cell_type": "markdown",
      "metadata": {
        "id": "F65XYqRnUCYv"
      },
      "source": [
        "* Possui um rico ecossistema de bibliotecas. \n",
        "\n",
        "<img src=\"https://github.com/zz4fap/python-programming/blob/master/figures/libraries.png?raw=1\" width=\"500px\">"
      ]
    },
    {
      "cell_type": "markdown",
      "metadata": {
        "id": "HJyyo6pEUCYv"
      },
      "source": [
        "* Muito utilizada no meio científico devido a uma enorme quantidade de bibliotecas específicas para as áreas de engenharia, química, biologia, astrofísica, física, etc.\n",
        "* Python é a linguagem mais usada para o desenvolvimento de aplicações de Machine Learning. \n",
        "\n",
        "<img src=\"https://github.com/zz4fap/python-programming/blob/master/figures/ml.jpg?raw=1\" width=\"200px\">"
      ]
    },
    {
      "cell_type": "markdown",
      "metadata": {
        "id": "MjK0Xm1-UCYw"
      },
      "source": [
        "* Possui um vasto suporte on-line: Tutorials, Videos e StackOverflow. \n",
        "\n",
        "<img src=\"https://github.com/zz4fap/python-programming/blob/master/figures/so-logo.png?raw=1\" width=\"500px\">"
      ]
    },
    {
      "cell_type": "markdown",
      "metadata": {
        "id": "VQazMOSPUCYw"
      },
      "source": [
        "* Python é usada como linguagem educativa para ensino de computação e eletrônica (e.g., Raspberry Pi e LEGO Mindstorms têm suas aplicações desenvolvidas em Python). \n",
        "\n",
        "<img src=\"https://github.com/zz4fap/python-programming/blob/master/figures/raspi-lego.png?raw=1\" width=\"500px\">"
      ]
    },
    {
      "cell_type": "markdown",
      "metadata": {
        "id": "LwjTD1ZoUCYx"
      },
      "source": [
        "## Executando códigos Python na nuvem\n",
        "\n",
        "+ Para evitarmos a instalação de softwares, utilizaremos **aplicações web** para criação de **documentos virtuais**, chamados de **notebooks Jupyter**. \n",
        "+ Os **notebooks Jupyter**  \n",
        "    * permitem a execução de códigos de uma linguagem de programação em navegadores web tais como Google Chrome, Firefox, Microsoft Edge, etc.\n",
        "    * disponibilizam ferramentas para edição de texto, ou seja, nós podemos documentar todo o processo de escrita do código além de podermos criar equações e adicionar imagens. \n",
        "\n",
        "Existem vários ambientes computacionais gratuitos disponíveis para execução dos **notebooks Jupyter** mas, durante nosso curso, usaremos principalmente o **Google Colab** e, quase nunca, o **Binder** para execução do material e resolução de exercícios.\n",
        "\n",
        "### Google Colab e Binder\n",
        "\n",
        "<img src=\"https://github.com/zz4fap/python-programming/blob/master/figures/python_binder_colab.png?raw=1\" width=\"400px\">"
      ]
    },
    {
      "cell_type": "markdown",
      "metadata": {
        "id": "J8ZymgwSUCYx"
      },
      "source": [
        "#### Google Colaboratory\n",
        "\n",
        "* O Google Colaboratory (também conhecido como Google Colab ou apenas Colab) é uma **aplicação web gratuita** que permite a criação e edição de notebooks Jupyter em navegadores web.\n",
        "* É um produto da Google.\n",
        "* Vantagens:\n",
        "    + Grande número de servidores.\n",
        "    + Rápida inicialização e execução do código.\n",
        "    + Disponibiliza GPUs e TPUs gratuitamente.\n",
        "    + Salva seus notebooks no Google Drive.\n",
        "* Desvantagem:\n",
        "    + Até o momento ele suporta apenas a linguagem de programação Python.\n",
        "* Site do Colab: https://colab.research.google.com/"
      ]
    },
    {
      "cell_type": "markdown",
      "metadata": {
        "id": "Aij_OgULUCYx"
      },
      "source": [
        "#### Binder\n",
        "\n",
        "* O Binder é outra aplicação web gratuita que permite a edição e execução de notebooks em navegadores web.\n",
        "* Vantagem:\n",
        "    + Executa códigos escritos em Python, C++, C#, PHP, Ruby, Fortan, Julia e R.\n",
        "* Desvantagens:\n",
        "    + Poucos servidores disponíveis.\n",
        "    + Não é possível salvar os notebooks no Google Drive.\n",
        "    + Depois de algum tempo inativo, a máquina virtual executando seu código se desconecta e você pode perdê-lo. \n",
        "* Site do Projeto Binder/Jupyter: https://jupyter.org/"
      ]
    },
    {
      "cell_type": "markdown",
      "metadata": {
        "id": "inAHlGTOUCYx"
      },
      "source": [
        "### Instalando o Python, Jupyter e outras ferramentas\n",
        "\n",
        "+ O Python, Binder, Jupyter e outras ferramentas e bibliotecas podem ser instaladas através da distribuição Anaconda seguindo o tutorial a seguir:\n",
        "    * [Tutorial para instalação do Anaconda](https://paulovasconcellos.com.br/como-baixar-anaconda-31fd49c19bd8).\n",
        "\n",
        "+ Ou se preferir você pode instalar o ambiente de desenvolvimento Jupyter no VScode: \n",
        "  * [Tutorial para instalação do Anaconda](https://code.visualstudio.com/docs/datascience/jupyter-notebooks).\n",
        "    \n",
        "**OBS**.: Infelizmente, o Google Colab não pode ser instalado localmente.\n",
        "\n"
      ]
    },
    {
      "cell_type": "markdown",
      "metadata": {
        "id": "G2h4586XUCYy"
      },
      "source": [
        "## Exemplo com conceitos básicos\n",
        "\n",
        "O exemplo na **célula de código** abaixo apresenta alguns conceitos básicos da linguagem Python através da **definição e uso de uma função**."
      ]
    },
    {
      "cell_type": "code",
      "execution_count": null,
      "metadata": {
        "id": "2KCEWnEzUCYy"
      },
      "outputs": [],
      "source": [
        "# Usamos a cerquilha para criar comentários de uma linha.\n",
        "\n",
        "# Podemos criar comentários de VÁRIAS linhas usando 3 aspas SIMPLES ou DUPLAS.\n",
        "\n",
        "'''\n",
        "Para definirmos uma função, seu cabeçalho deve ter:\n",
        "     1. a palavra reservada 'def', \n",
        "     2. seguida do nome da função,\n",
        "     3. uma lista de parâmetros de entrada separados por vírgulas (podemos ter nenhum parâmetro),\n",
        "     4. e dois pontos para definir o início do corpo da função.\n",
        "''' \n",
        "def minhaFunção(parâmetroDeEntrada1, parâmetroDeEntrada2):\n",
        "    \"\"\"\n",
        "    Comentários de várias linhas LOGO APÓS o cabeçalho são chamados de 'docstrings'.\n",
        "    'docstrings' são strings (texto) usado para documentar o código.\n",
        "    Exemplo de docstring: Esta função 'soma' os dois parâmetros de entrada e retorna o resultado.\n",
        "    \"\"\"\n",
        "    # Realiza uma operação e atribui o valor a uma variável.\n",
        "    valorDeRetorno = parâmetroDeEntrada1 + parâmetroDeEntrada2\n",
        "    # Retorna o valor da operação para quem invocou a função usando a palavra reservada 'return'.\n",
        "    return valorDeRetorno"
      ]
    },
    {
      "cell_type": "markdown",
      "metadata": {
        "id": "3V_EjPNjUCYz"
      },
      "source": [
        "**OBSERVAÇÕES**: \n",
        "\n",
        "+ Percebam que o corpo da função está recuado à direita em relação ao início do cabeçalho.\n",
        "+ Na célula de código acima, realizamos **apenas a definição da função**. A função será executada apenas quando for chamada com valores de entrada para seus parâmetros, caso existam.\n",
        "+ A definição da função e sua chamada **não precisam estar na mesma célula de código**.\n",
        "+ Variáveis, objetos e funções persistem entre células de um mesmo notebook, ou seja, depois que uma célula de código é executada, o código definido na célula fica acessível em qualquer outra célula."
      ]
    },
    {
      "cell_type": "markdown",
      "metadata": {
        "id": "rnd2XHtYUCYz"
      },
      "source": [
        "### Importante\n",
        "\n",
        "&rarr; No código abaixo, percebam que **não há definição explícita do tipo das variáveis**.\n",
        "\n",
        "&rarr; Nós simplesmente atribuímos valores às variáveis e o interpretador infere o tipo da variável."
      ]
    },
    {
      "cell_type": "code",
      "execution_count": null,
      "metadata": {
        "id": "3CCz_Yo4UCYz",
        "outputId": "2059af45-6a17-4e3f-d007-7de56f7fcf1a",
        "colab": {
          "base_uri": "https://localhost:8080/"
        }
      },
      "outputs": [
        {
          "output_type": "stream",
          "name": "stdout",
          "text": [
            "Resultado é: guarda-chuva\n"
          ]
        }
      ],
      "source": [
        "# Atribuindo valores às variáveis que serão passadas como argumentos de entrada para a função.\n",
        "# Percebam que não há definição explícita do tipo das variáveis.\n",
        "# O interpretador infere que as variáveis são do tipo String.\n",
        "variável1 = 'guarda'\n",
        "variável2 = '-chuva'\n",
        "\n",
        "# Invocando a função e atribuindo o valor de retorno a uma variável.\n",
        "retorno = minhaFunção(variável1, variável2)\n",
        "\n",
        "# Imprimindo o valor de retorno da função.\n",
        "print('Resultado é:', retorno)"
      ]
    },
    {
      "cell_type": "code",
      "execution_count": null,
      "metadata": {
        "id": "e4k2_736UCY0",
        "outputId": "08b1bcbb-06ff-41a1-d61d-9aacca34fd69",
        "colab": {
          "base_uri": "https://localhost:8080/"
        }
      },
      "outputs": [
        {
          "output_type": "stream",
          "name": "stdout",
          "text": [
            "Resultado é: 3\n"
          ]
        }
      ],
      "source": [
        "# O interpretador infere que as variáveis são do tipo Integer.\n",
        "variável1 = 1\n",
        "variável2 = 2\n",
        "\n",
        "# Invocando a função e atribuindo o valor de retorno a uma variável.\n",
        "retorno = minhaFunção(variável1, variável2)\n",
        "\n",
        "# Imprimindo o valor de retorno da função.\n",
        "print('Resultado é:', retorno)"
      ]
    },
    {
      "cell_type": "code",
      "execution_count": null,
      "metadata": {
        "id": "dUtkkdmiUCY1",
        "outputId": "f2732b00-1fc1-4fab-b583-cf16e430a73f",
        "colab": {
          "base_uri": "https://localhost:8080/"
        }
      },
      "outputs": [
        {
          "output_type": "stream",
          "name": "stdout",
          "text": [
            "Resultado é: 4.0\n"
          ]
        }
      ],
      "source": [
        "# O interpretador infere que as variáveis são do tipo Float.\n",
        "variável1 = 2.5\n",
        "variável2 = 1.5\n",
        "\n",
        "# Invocando a função e atribuindo o valor de retorno a uma variável.\n",
        "retorno = minhaFunção(variável1, variável2)\n",
        "\n",
        "# Imprimindo o valor de retorno da função.\n",
        "print('Resultado é:', retorno)"
      ]
    },
    {
      "cell_type": "markdown",
      "metadata": {
        "id": "Xh7BujioUCY1"
      },
      "source": [
        "### Após analisarmos o código acima, quais diferenças podemos perceber para outras linguagens de programação?\n",
        "\n",
        "* Não há declaração dos tipos das variáveis.\n",
        "* Não é necessário abrir e fechar chaves (`{}`) para delimitar o corpo da função.\n",
        "* O corpo da função é delimitado através do recuo (indentação).\n",
        " + **A indentação é obrigatória (tabulações ou espaços) e deve ser feita de maneira correta!**\n",
        "* Não é necessário ponto e vírgula ao final de cada instrução (`;`). \n",
        "* Strings são codificadas através do padrão Unicode (UTF-8)\n",
        " + Isso significa que podemos ter acentos no código.\n",
        "* A palavra reservada `def` indica ao interpretador que estamos **def**inindo uma função.\n",
        "* O início do corpo de uma função é definido pelos dois pontos (`:`).\n",
        "* O tipo das variáveis muda dinâmicamente."
      ]
    }
  ],
  "metadata": {
    "kernelspec": {
      "display_name": "Python 3 (ipykernel)",
      "language": "python",
      "name": "python3"
    },
    "language_info": {
      "codemirror_mode": {
        "name": "ipython",
        "version": 3
      },
      "file_extension": ".py",
      "mimetype": "text/x-python",
      "name": "python",
      "nbconvert_exporter": "python",
      "pygments_lexer": "ipython3",
      "version": "3.9.13"
    },
    "colab": {
      "provenance": [],
      "include_colab_link": true
    }
  },
  "nbformat": 4,
  "nbformat_minor": 0
}